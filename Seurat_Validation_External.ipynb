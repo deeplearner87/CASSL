{
  "cells": [
    {
      "cell_type": "code",
      "execution_count": null,
      "id": "ddeffb3c",
      "metadata": {
        "id": "ddeffb3c"
      },
      "outputs": [],
      "source": [
        "from sklearn.metrics.cluster import adjusted_rand_score, adjusted_mutual_info_score, fowlkes_mallows_score\n",
        "from sklearn import preprocessing\n",
        "from sklearn.metrics import confusion_matrix\n",
        "from sklearn.metrics import accuracy_score\n",
        "from sklearn.metrics import classification_report\n",
        "import pandas as pd\n",
        "import numpy as np"
      ]
    },
    {
      "cell_type": "code",
      "execution_count": null,
      "id": "756b67d9",
      "metadata": {
        "id": "756b67d9"
      },
      "outputs": [],
      "source": [
        "train = pd.read_csv(\"F:/DIBYENDU/SSL/CALLR_TrainDatasets/BaronHumanTrain.csv\", header=0, index_col= 0, sep=\",\")\n",
        "seuClass = pd.read_csv(\"F:/DIBYENDU/SSL/Results/predClassSeuratBaronHuman.csv\", header=0, sep=\",\")\n",
        "TrueClass = pd.read_csv(\"F:/DIBYENDU/SSL/Datasets/Baron_Human_annotations.csv\", header=0, index_col = 0, sep=\",\")"
      ]
    },
    {
      "cell_type": "code",
      "execution_count": null,
      "id": "732a6f5b",
      "metadata": {
        "id": "732a6f5b"
      },
      "outputs": [],
      "source": [
        "seuClass = seuClass['seurat_clusters']"
      ]
    },
    {
      "cell_type": "code",
      "execution_count": null,
      "id": "c9f71d74",
      "metadata": {
        "id": "c9f71d74"
      },
      "outputs": [],
      "source": [
        "#TrueClass = TrueClass['leiden'] #for PBMC 3K dataset"
      ]
    },
    {
      "cell_type": "code",
      "execution_count": null,
      "id": "d6cd97db",
      "metadata": {
        "id": "d6cd97db"
      },
      "outputs": [],
      "source": [
        "le = preprocessing.LabelEncoder()\n",
        "y = pd.DataFrame(le.fit_transform(np.ravel(TrueClass)))"
      ]
    },
    {
      "cell_type": "code",
      "execution_count": null,
      "id": "a53fc280",
      "metadata": {
        "id": "a53fc280"
      },
      "outputs": [],
      "source": [
        "ind = train.index\n",
        "pred = seuClass.iloc[seuClass.index.isin(ind)]\n",
        "actual = y.iloc[y.index.isin(ind)]"
      ]
    },
    {
      "cell_type": "code",
      "execution_count": null,
      "id": "d39d0631",
      "metadata": {
        "id": "d39d0631",
        "outputId": "ca38a94b-d7d5-4a80-d748-db7dd1c8722b"
      },
      "outputs": [
        {
          "name": "stdout",
          "output_type": "stream",
          "text": [
            "Adjusted Rand Score: 0.75\n",
            "Adjusted Mutual Information Score: 0.83\n",
            "Fowlkes-Mallows score: 0.83\n"
          ]
        }
      ],
      "source": [
        "print('Adjusted Rand Score: {0:.2f}'.format(adjusted_rand_score(np.ravel(actual), pred)))\n",
        "print('Adjusted Mutual Information Score: {0:.2f}'.format(adjusted_mutual_info_score(np.ravel(actual), pred)))\n",
        "print('Fowlkes-Mallows score: {0:.2f}'.format(fowlkes_mallows_score(np.ravel(actual), pred)))"
      ]
    },
    {
      "cell_type": "code",
      "execution_count": null,
      "id": "1ba8706f",
      "metadata": {
        "id": "1ba8706f"
      },
      "outputs": [],
      "source": [
        ""
      ]
    }
  ],
  "metadata": {
    "kernelspec": {
      "display_name": "Python 3 (ipykernel)",
      "language": "python",
      "name": "python3"
    },
    "language_info": {
      "codemirror_mode": {
        "name": "ipython",
        "version": 3
      },
      "file_extension": ".py",
      "mimetype": "text/x-python",
      "name": "python",
      "nbconvert_exporter": "python",
      "pygments_lexer": "ipython3",
      "version": "3.9.6"
    },
    "colab": {
      "name": "Seurat_Validation_External.ipynb",
      "provenance": [],
      "collapsed_sections": []
    }
  },
  "nbformat": 4,
  "nbformat_minor": 5
}