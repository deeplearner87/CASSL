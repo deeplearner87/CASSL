{
  "cells": [
    {
      "cell_type": "code",
      "execution_count": null,
      "id": "4c0cb2fe",
      "metadata": {
        "id": "4c0cb2fe",
        "outputId": "2ff21c28-2b82-4ee3-949b-5a386b0301a3"
      },
      "outputs": [
        {
          "name": "stderr",
          "output_type": "stream",
          "text": [
            "Attaching SeuratObject\n",
            "\n",
            "\n",
            "Attaching package: 'dplyr'\n",
            "\n",
            "\n",
            "The following objects are masked from 'package:stats':\n",
            "\n",
            "    filter, lag\n",
            "\n",
            "\n",
            "The following objects are masked from 'package:base':\n",
            "\n",
            "    intersect, setdiff, setequal, union\n",
            "\n",
            "\n"
          ]
        }
      ],
      "source": [
        "library(Seurat)\n",
        "library(dplyr)\n",
        "library(Matrix)"
      ]
    },
    {
      "cell_type": "code",
      "execution_count": null,
      "id": "d17a9058",
      "metadata": {
        "id": "d17a9058"
      },
      "outputs": [],
      "source": [
        "data <- read.table(\"F:/SSL/EBI_normalized/E-GEOD-81547.norm.csv\", header = TRUE, sep=\",\")"
      ]
    },
    {
      "cell_type": "code",
      "execution_count": null,
      "id": "19024785",
      "metadata": {
        "id": "19024785",
        "outputId": "bb0a4ce1-b17f-46f2-90aa-ab95b3bfaa90"
      },
      "outputs": [
        {
          "data": {
            "text/html": [
              "<table class=\"dataframe\">\n",
              "<caption>A data.frame: 6 × 2544</caption>\n",
              "<thead>\n",
              "\t<tr><th></th><th scope=col>SRR3562210</th><th scope=col>SRR3562211</th><th scope=col>SRR3562212</th><th scope=col>SRR3562213</th><th scope=col>SRR3562214</th><th scope=col>SRR3562215</th><th scope=col>SRR3562216</th><th scope=col>SRR3562217</th><th scope=col>SRR3562218</th><th scope=col>SRR3562219</th><th scope=col>...</th><th scope=col>SRR3564744</th><th scope=col>SRR3564745</th><th scope=col>SRR3564746</th><th scope=col>SRR3564747</th><th scope=col>SRR3564748</th><th scope=col>SRR3564749</th><th scope=col>SRR3564750</th><th scope=col>SRR3564751</th><th scope=col>SRR3564752</th><th scope=col>SRR3564753</th></tr>\n",
              "\t<tr><th></th><th scope=col>&lt;dbl&gt;</th><th scope=col>&lt;dbl&gt;</th><th scope=col>&lt;dbl&gt;</th><th scope=col>&lt;dbl&gt;</th><th scope=col>&lt;dbl&gt;</th><th scope=col>&lt;dbl&gt;</th><th scope=col>&lt;dbl&gt;</th><th scope=col>&lt;dbl&gt;</th><th scope=col>&lt;dbl&gt;</th><th scope=col>&lt;dbl&gt;</th><th scope=col>...</th><th scope=col>&lt;dbl&gt;</th><th scope=col>&lt;dbl&gt;</th><th scope=col>&lt;dbl&gt;</th><th scope=col>&lt;dbl&gt;</th><th scope=col>&lt;dbl&gt;</th><th scope=col>&lt;dbl&gt;</th><th scope=col>&lt;dbl&gt;</th><th scope=col>&lt;dbl&gt;</th><th scope=col>&lt;dbl&gt;</th><th scope=col>&lt;dbl&gt;</th></tr>\n",
              "</thead>\n",
              "<tbody>\n",
              "\t<tr><th scope=row>1</th><td>1.930023</td><td>  0.000000</td><td>223.5907</td><td>25.825342</td><td>0</td><td>3.341197</td><td> 0.0000000</td><td>  0.0000</td><td>0.00000</td><td> 0.000000</td><td>...</td><td> 0.00000</td><td> 0.9678963</td><td>  0.0000</td><td>0</td><td>0</td><td>0</td><td>0.000000</td><td>  0.0000</td><td>22.69726</td><td>121.4509</td></tr>\n",
              "\t<tr><th scope=row>2</th><td>0.000000</td><td>193.196910</td><td>  0.0000</td><td> 0.000000</td><td>0</td><td>0.000000</td><td>78.2341700</td><td>155.5834</td><td>0.00000</td><td>17.197102</td><td>...</td><td> 0.00000</td><td>17.6484220</td><td>142.5856</td><td>0</td><td>0</td><td>0</td><td>0.000000</td><td>  0.0000</td><td> 0.00000</td><td>  0.0000</td></tr>\n",
              "\t<tr><th scope=row>3</th><td>3.075830</td><td>743.466060</td><td>  0.0000</td><td> 0.000000</td><td>0</td><td>0.000000</td><td> 0.0000000</td><td>  0.0000</td><td>0.00000</td><td> 0.000000</td><td>...</td><td> 0.00000</td><td>16.4463710</td><td>  0.0000</td><td>0</td><td>0</td><td>0</td><td>1.490027</td><td>  0.0000</td><td> 0.00000</td><td>  0.0000</td></tr>\n",
              "\t<tr><th scope=row>4</th><td>9.751206</td><td>  8.586529</td><td>  0.0000</td><td> 2.335857</td><td>0</td><td>2.809107</td><td> 0.0000000</td><td>  0.0000</td><td>9.32125</td><td> 2.866184</td><td>...</td><td>22.19171</td><td> 0.0000000</td><td>  0.0000</td><td>0</td><td>0</td><td>0</td><td>0.000000</td><td>  0.0000</td><td> 3.71096</td><td>  0.0000</td></tr>\n",
              "\t<tr><th scope=row>5</th><td>0.000000</td><td>  0.000000</td><td>  0.0000</td><td> 0.000000</td><td>0</td><td>0.000000</td><td> 0.0000000</td><td>  0.0000</td><td>0.00000</td><td> 0.000000</td><td>...</td><td> 0.00000</td><td> 0.0000000</td><td>  0.0000</td><td>0</td><td>0</td><td>0</td><td>0.000000</td><td>  0.0000</td><td> 0.00000</td><td>  0.0000</td></tr>\n",
              "\t<tr><th scope=row>6</th><td>0.000000</td><td>  0.000000</td><td>  0.0000</td><td> 0.000000</td><td>0</td><td>1.404554</td><td> 0.9903059</td><td>  0.0000</td><td>0.00000</td><td> 0.000000</td><td>...</td><td> 0.00000</td><td> 3.7818050</td><td>  0.0000</td><td>0</td><td>0</td><td>0</td><td>0.000000</td><td>265.6294</td><td> 0.00000</td><td>  0.0000</td></tr>\n",
              "</tbody>\n",
              "</table>\n"
            ],
            "text/latex": [
              "A data.frame: 6 × 2544\n",
              "\\begin{tabular}{r|lllllllllllllllllllll}\n",
              "  & SRR3562210 & SRR3562211 & SRR3562212 & SRR3562213 & SRR3562214 & SRR3562215 & SRR3562216 & SRR3562217 & SRR3562218 & SRR3562219 & ... & SRR3564744 & SRR3564745 & SRR3564746 & SRR3564747 & SRR3564748 & SRR3564749 & SRR3564750 & SRR3564751 & SRR3564752 & SRR3564753\\\\\n",
              "  & <dbl> & <dbl> & <dbl> & <dbl> & <dbl> & <dbl> & <dbl> & <dbl> & <dbl> & <dbl> & ... & <dbl> & <dbl> & <dbl> & <dbl> & <dbl> & <dbl> & <dbl> & <dbl> & <dbl> & <dbl>\\\\\n",
              "\\hline\n",
              "\t1 & 1.930023 &   0.000000 & 223.5907 & 25.825342 & 0 & 3.341197 &  0.0000000 &   0.0000 & 0.00000 &  0.000000 & ... &  0.00000 &  0.9678963 &   0.0000 & 0 & 0 & 0 & 0.000000 &   0.0000 & 22.69726 & 121.4509\\\\\n",
              "\t2 & 0.000000 & 193.196910 &   0.0000 &  0.000000 & 0 & 0.000000 & 78.2341700 & 155.5834 & 0.00000 & 17.197102 & ... &  0.00000 & 17.6484220 & 142.5856 & 0 & 0 & 0 & 0.000000 &   0.0000 &  0.00000 &   0.0000\\\\\n",
              "\t3 & 3.075830 & 743.466060 &   0.0000 &  0.000000 & 0 & 0.000000 &  0.0000000 &   0.0000 & 0.00000 &  0.000000 & ... &  0.00000 & 16.4463710 &   0.0000 & 0 & 0 & 0 & 1.490027 &   0.0000 &  0.00000 &   0.0000\\\\\n",
              "\t4 & 9.751206 &   8.586529 &   0.0000 &  2.335857 & 0 & 2.809107 &  0.0000000 &   0.0000 & 9.32125 &  2.866184 & ... & 22.19171 &  0.0000000 &   0.0000 & 0 & 0 & 0 & 0.000000 &   0.0000 &  3.71096 &   0.0000\\\\\n",
              "\t5 & 0.000000 &   0.000000 &   0.0000 &  0.000000 & 0 & 0.000000 &  0.0000000 &   0.0000 & 0.00000 &  0.000000 & ... &  0.00000 &  0.0000000 &   0.0000 & 0 & 0 & 0 & 0.000000 &   0.0000 &  0.00000 &   0.0000\\\\\n",
              "\t6 & 0.000000 &   0.000000 &   0.0000 &  0.000000 & 0 & 1.404554 &  0.9903059 &   0.0000 & 0.00000 &  0.000000 & ... &  0.00000 &  3.7818050 &   0.0000 & 0 & 0 & 0 & 0.000000 & 265.6294 &  0.00000 &   0.0000\\\\\n",
              "\\end{tabular}\n"
            ],
            "text/markdown": [
              "\n",
              "A data.frame: 6 × 2544\n",
              "\n",
              "| <!--/--> | SRR3562210 &lt;dbl&gt; | SRR3562211 &lt;dbl&gt; | SRR3562212 &lt;dbl&gt; | SRR3562213 &lt;dbl&gt; | SRR3562214 &lt;dbl&gt; | SRR3562215 &lt;dbl&gt; | SRR3562216 &lt;dbl&gt; | SRR3562217 &lt;dbl&gt; | SRR3562218 &lt;dbl&gt; | SRR3562219 &lt;dbl&gt; | ... ... | SRR3564744 &lt;dbl&gt; | SRR3564745 &lt;dbl&gt; | SRR3564746 &lt;dbl&gt; | SRR3564747 &lt;dbl&gt; | SRR3564748 &lt;dbl&gt; | SRR3564749 &lt;dbl&gt; | SRR3564750 &lt;dbl&gt; | SRR3564751 &lt;dbl&gt; | SRR3564752 &lt;dbl&gt; | SRR3564753 &lt;dbl&gt; |\n",
              "|---|---|---|---|---|---|---|---|---|---|---|---|---|---|---|---|---|---|---|---|---|---|\n",
              "| 1 | 1.930023 |   0.000000 | 223.5907 | 25.825342 | 0 | 3.341197 |  0.0000000 |   0.0000 | 0.00000 |  0.000000 | ... |  0.00000 |  0.9678963 |   0.0000 | 0 | 0 | 0 | 0.000000 |   0.0000 | 22.69726 | 121.4509 |\n",
              "| 2 | 0.000000 | 193.196910 |   0.0000 |  0.000000 | 0 | 0.000000 | 78.2341700 | 155.5834 | 0.00000 | 17.197102 | ... |  0.00000 | 17.6484220 | 142.5856 | 0 | 0 | 0 | 0.000000 |   0.0000 |  0.00000 |   0.0000 |\n",
              "| 3 | 3.075830 | 743.466060 |   0.0000 |  0.000000 | 0 | 0.000000 |  0.0000000 |   0.0000 | 0.00000 |  0.000000 | ... |  0.00000 | 16.4463710 |   0.0000 | 0 | 0 | 0 | 1.490027 |   0.0000 |  0.00000 |   0.0000 |\n",
              "| 4 | 9.751206 |   8.586529 |   0.0000 |  2.335857 | 0 | 2.809107 |  0.0000000 |   0.0000 | 9.32125 |  2.866184 | ... | 22.19171 |  0.0000000 |   0.0000 | 0 | 0 | 0 | 0.000000 |   0.0000 |  3.71096 |   0.0000 |\n",
              "| 5 | 0.000000 |   0.000000 |   0.0000 |  0.000000 | 0 | 0.000000 |  0.0000000 |   0.0000 | 0.00000 |  0.000000 | ... |  0.00000 |  0.0000000 |   0.0000 | 0 | 0 | 0 | 0.000000 |   0.0000 |  0.00000 |   0.0000 |\n",
              "| 6 | 0.000000 |   0.000000 |   0.0000 |  0.000000 | 0 | 1.404554 |  0.9903059 |   0.0000 | 0.00000 |  0.000000 | ... |  0.00000 |  3.7818050 |   0.0000 | 0 | 0 | 0 | 0.000000 | 265.6294 |  0.00000 |   0.0000 |\n",
              "\n"
            ],
            "text/plain": [
              "  SRR3562210 SRR3562211 SRR3562212 SRR3562213 SRR3562214 SRR3562215 SRR3562216\n",
              "1 1.930023     0.000000 223.5907   25.825342  0          3.341197    0.0000000\n",
              "2 0.000000   193.196910   0.0000    0.000000  0          0.000000   78.2341700\n",
              "3 3.075830   743.466060   0.0000    0.000000  0          0.000000    0.0000000\n",
              "4 9.751206     8.586529   0.0000    2.335857  0          2.809107    0.0000000\n",
              "5 0.000000     0.000000   0.0000    0.000000  0          0.000000    0.0000000\n",
              "6 0.000000     0.000000   0.0000    0.000000  0          1.404554    0.9903059\n",
              "  SRR3562217 SRR3562218 SRR3562219 ... SRR3564744 SRR3564745 SRR3564746\n",
              "1   0.0000   0.00000     0.000000  ...  0.00000    0.9678963   0.0000  \n",
              "2 155.5834   0.00000    17.197102  ...  0.00000   17.6484220 142.5856  \n",
              "3   0.0000   0.00000     0.000000  ...  0.00000   16.4463710   0.0000  \n",
              "4   0.0000   9.32125     2.866184  ... 22.19171    0.0000000   0.0000  \n",
              "5   0.0000   0.00000     0.000000  ...  0.00000    0.0000000   0.0000  \n",
              "6   0.0000   0.00000     0.000000  ...  0.00000    3.7818050   0.0000  \n",
              "  SRR3564747 SRR3564748 SRR3564749 SRR3564750 SRR3564751 SRR3564752 SRR3564753\n",
              "1 0          0          0          0.000000     0.0000   22.69726   121.4509  \n",
              "2 0          0          0          0.000000     0.0000    0.00000     0.0000  \n",
              "3 0          0          0          1.490027     0.0000    0.00000     0.0000  \n",
              "4 0          0          0          0.000000     0.0000    3.71096     0.0000  \n",
              "5 0          0          0          0.000000     0.0000    0.00000     0.0000  \n",
              "6 0          0          0          0.000000   265.6294    0.00000     0.0000  "
            ]
          },
          "metadata": {},
          "output_type": "display_data"
        }
      ],
      "source": [
        "head(data)"
      ]
    },
    {
      "cell_type": "code",
      "execution_count": null,
      "id": "03d85ae1",
      "metadata": {
        "id": "03d85ae1",
        "outputId": "e358fda9-d8be-4c1a-c4ee-99b959c5ed13"
      },
      "outputs": [
        {
          "data": {
            "text/html": [
              "<style>\n",
              ".list-inline {list-style: none; margin:0; padding: 0}\n",
              ".list-inline>li {display: inline-block}\n",
              ".list-inline>li:not(:last-child)::after {content: \"\\00b7\"; padding: 0 .5ex}\n",
              "</style>\n",
              "<ol class=list-inline><li>27828</li><li>2544</li></ol>\n"
            ],
            "text/latex": [
              "\\begin{enumerate*}\n",
              "\\item 27828\n",
              "\\item 2544\n",
              "\\end{enumerate*}\n"
            ],
            "text/markdown": [
              "1. 27828\n",
              "2. 2544\n",
              "\n",
              "\n"
            ],
            "text/plain": [
              "[1] 27828  2544"
            ]
          },
          "metadata": {},
          "output_type": "display_data"
        }
      ],
      "source": [
        "dim(data)"
      ]
    },
    {
      "cell_type": "code",
      "execution_count": null,
      "id": "e2d424b1",
      "metadata": {
        "id": "e2d424b1"
      },
      "outputs": [],
      "source": [
        "mydata <- CreateSeuratObject(counts = data, project=\"EBI81547\")"
      ]
    },
    {
      "cell_type": "code",
      "execution_count": null,
      "id": "eb3091cf",
      "metadata": {
        "id": "eb3091cf",
        "outputId": "64d6f374-e975-4fea-d36d-e09536003f88"
      },
      "outputs": [
        {
          "data": {
            "text/plain": [
              "An object of class Seurat \n",
              "27828 features across 2544 samples within 1 assay \n",
              "Active assay: RNA (27828 features, 0 variable features)"
            ]
          },
          "metadata": {},
          "output_type": "display_data"
        }
      ],
      "source": [
        "mydata"
      ]
    },
    {
      "cell_type": "code",
      "execution_count": null,
      "id": "d6adcb57",
      "metadata": {
        "id": "d6adcb57"
      },
      "outputs": [],
      "source": [
        "mydata <- FindVariableFeatures(mydata)"
      ]
    },
    {
      "cell_type": "code",
      "execution_count": null,
      "id": "bfc3b008",
      "metadata": {
        "id": "bfc3b008",
        "outputId": "6d4fe6e1-9bc0-43d1-9244-8f1022235819"
      },
      "outputs": [
        {
          "name": "stderr",
          "output_type": "stream",
          "text": [
            "Centering and scaling data matrix\n",
            "\n"
          ]
        }
      ],
      "source": [
        "all.genes <- rownames(mydata)\n",
        "mydata <- ScaleData(mydata, features = all.genes)"
      ]
    },
    {
      "cell_type": "code",
      "execution_count": null,
      "id": "9f631f9d",
      "metadata": {
        "id": "9f631f9d",
        "outputId": "838a492b-ffb1-4aac-ec86-3cab0a5ac796"
      },
      "outputs": [
        {
          "name": "stderr",
          "output_type": "stream",
          "text": [
            "PC_ 1 \n",
            "Positive:  8786, 7877, 13206, 15543, 130, 11540, 6261, 14185, 12167, 14255 \n",
            "\t   16063, 2356, 1683, 10513, 9899, 10490, 14728, 15366, 14578, 13238 \n",
            "\t   499, 5965, 10075, 291, 9208, 7152, 14328, 12846, 3736, 448 \n",
            "Negative:  18294, 16856, 9785, 9196, 7956, 10269, 1906, 13803, 26931, 11860 \n",
            "\t   11861, 11598, 13136, 11959, 7749, 12262, 15139, 7933, 10799, 259 \n",
            "\t   7160, 5918, 25819, 18031, 4299, 7035, 4145, 10533, 12248, 22999 \n",
            "PC_ 2 \n",
            "Positive:  12167, 10490, 16063, 14578, 14255, 3736, 12846, 685, 10793, 12361 \n",
            "\t   130, 10468, 448, 15366, 15871, 8297, 15412, 5277, 10515, 11540 \n",
            "\t   7152, 3282, 5965, 13802, 11003, 15557, 7936, 12063, 2786, 8009 \n",
            "Negative:  4006, 6313, 4025, 6948, 1376, 295, 4514, 2185, 4491, 7880 \n",
            "\t   1146, 2113, 15196, 11312, 3203, 4634, 13195, 13664, 14185, 7883 \n",
            "\t   24627, 1699, 9899, 10518, 17069, 7502, 8005, 25610, 4102, 10258 \n",
            "PC_ 3 \n",
            "Positive:  7035, 7437, 10533, 17069, 24323, 13122, 15022, 9113, 6430, 4542 \n",
            "\t   11080, 16992, 5000, 7589, 6107, 1880, 8372, 421, 22788, 7219 \n",
            "\t   12271, 12148, 2561, 8308, 11108, 7328, 5293, 14842, 4929, 25350 \n",
            "Negative:  18294, 16856, 7956, 13803, 10269, 9785, 1906, 26931, 11598, 9196 \n",
            "\t   11861, 11860, 7749, 12262, 11959, 13136, 5918, 7933, 15139, 25819 \n",
            "\t   10799, 4299, 18031, 259, 7160, 22999, 4145, 7455, 12452, 12248 \n",
            "PC_ 4 \n",
            "Positive:  14742, 15871, 15, 7649, 4680, 1466, 4410, 3934, 5148, 1163 \n",
            "\t   6595, 12426, 10358, 6752, 4394, 7204, 10309, 5677, 5140, 6697 \n",
            "\t   7877, 7429, 5304, 4705, 12046, 23028, 15631, 8552, 164, 1294 \n",
            "Negative:  499, 7152, 291, 13150, 14728, 14578, 130, 10075, 13238, 13802 \n",
            "\t   1755, 12846, 15557, 7936, 685, 10661, 3118, 15366, 7144, 5277 \n",
            "\t   10468, 8009, 16244, 5787, 13206, 3629, 10621, 11971, 6087, 10332 \n",
            "PC_ 5 \n",
            "Positive:  14742, 15871, 14185, 15, 4006, 5148, 4680, 1466, 4298, 9899 \n",
            "\t   4410, 5491, 6595, 3934, 7204, 1163, 1376, 5677, 295, 26349 \n",
            "\t   6752, 23028, 7649, 1699, 4705, 12426, 6697, 11312, 7606, 11002 \n",
            "Negative:  4394, 14859, 8014, 13665, 6147, 8845, 3779, 8737, 9154, 791 \n",
            "\t   1683, 760, 9826, 8676, 1229, 4559, 14918, 7186, 10518, 10075 \n",
            "\t   12980, 12288, 5383, 13283, 5733, 6751, 14209, 5741, 3286, 11222 \n",
            "\n"
          ]
        }
      ],
      "source": [
        "mydata <- RunPCA(mydata, features = VariableFeatures(object = mydata))"
      ]
    },
    {
      "cell_type": "markdown",
      "id": "8fefdc59",
      "metadata": {
        "id": "8fefdc59"
      },
      "source": [
        "Check"
      ]
    },
    {
      "cell_type": "code",
      "execution_count": null,
      "id": "5056a8b3",
      "metadata": {
        "id": "5056a8b3",
        "outputId": "120d0bf9-d987-489f-9083-e4788951538e"
      },
      "outputs": [
        {
          "data": {
            "text/html": [
              "<table class=\"dataframe\">\n",
              "<caption>A data.frame: 10 × 3</caption>\n",
              "<thead>\n",
              "\t<tr><th></th><th scope=col>orig.ident</th><th scope=col>nCount_RNA</th><th scope=col>nFeature_RNA</th></tr>\n",
              "\t<tr><th></th><th scope=col>&lt;fct&gt;</th><th scope=col>&lt;dbl&gt;</th><th scope=col>&lt;int&gt;</th></tr>\n",
              "</thead>\n",
              "<tbody>\n",
              "\t<tr><th scope=row>SRR3562210</th><td>EBI81547</td><td>1000000.0</td><td>6028</td></tr>\n",
              "\t<tr><th scope=row>SRR3562211</th><td>EBI81547</td><td>1000000.1</td><td>5910</td></tr>\n",
              "\t<tr><th scope=row>SRR3562212</th><td>EBI81547</td><td>1000000.0</td><td>4830</td></tr>\n",
              "\t<tr><th scope=row>SRR3562213</th><td>EBI81547</td><td> 999999.9</td><td>7006</td></tr>\n",
              "\t<tr><th scope=row>SRR3562214</th><td>EBI81547</td><td>1000000.0</td><td>4339</td></tr>\n",
              "\t<tr><th scope=row>SRR3562215</th><td>EBI81547</td><td>1000000.1</td><td>7725</td></tr>\n",
              "\t<tr><th scope=row>SRR3562216</th><td>EBI81547</td><td>1000000.0</td><td>6614</td></tr>\n",
              "\t<tr><th scope=row>SRR3562217</th><td>EBI81547</td><td>1000000.0</td><td>4849</td></tr>\n",
              "\t<tr><th scope=row>SRR3562218</th><td>EBI81547</td><td>1000000.0</td><td>4787</td></tr>\n",
              "\t<tr><th scope=row>SRR3562219</th><td>EBI81547</td><td>1000000.0</td><td>4285</td></tr>\n",
              "</tbody>\n",
              "</table>\n"
            ],
            "text/latex": [
              "A data.frame: 10 × 3\n",
              "\\begin{tabular}{r|lll}\n",
              "  & orig.ident & nCount\\_RNA & nFeature\\_RNA\\\\\n",
              "  & <fct> & <dbl> & <int>\\\\\n",
              "\\hline\n",
              "\tSRR3562210 & EBI81547 & 1000000.0 & 6028\\\\\n",
              "\tSRR3562211 & EBI81547 & 1000000.1 & 5910\\\\\n",
              "\tSRR3562212 & EBI81547 & 1000000.0 & 4830\\\\\n",
              "\tSRR3562213 & EBI81547 &  999999.9 & 7006\\\\\n",
              "\tSRR3562214 & EBI81547 & 1000000.0 & 4339\\\\\n",
              "\tSRR3562215 & EBI81547 & 1000000.1 & 7725\\\\\n",
              "\tSRR3562216 & EBI81547 & 1000000.0 & 6614\\\\\n",
              "\tSRR3562217 & EBI81547 & 1000000.0 & 4849\\\\\n",
              "\tSRR3562218 & EBI81547 & 1000000.0 & 4787\\\\\n",
              "\tSRR3562219 & EBI81547 & 1000000.0 & 4285\\\\\n",
              "\\end{tabular}\n"
            ],
            "text/markdown": [
              "\n",
              "A data.frame: 10 × 3\n",
              "\n",
              "| <!--/--> | orig.ident &lt;fct&gt; | nCount_RNA &lt;dbl&gt; | nFeature_RNA &lt;int&gt; |\n",
              "|---|---|---|---|\n",
              "| SRR3562210 | EBI81547 | 1000000.0 | 6028 |\n",
              "| SRR3562211 | EBI81547 | 1000000.1 | 5910 |\n",
              "| SRR3562212 | EBI81547 | 1000000.0 | 4830 |\n",
              "| SRR3562213 | EBI81547 |  999999.9 | 7006 |\n",
              "| SRR3562214 | EBI81547 | 1000000.0 | 4339 |\n",
              "| SRR3562215 | EBI81547 | 1000000.1 | 7725 |\n",
              "| SRR3562216 | EBI81547 | 1000000.0 | 6614 |\n",
              "| SRR3562217 | EBI81547 | 1000000.0 | 4849 |\n",
              "| SRR3562218 | EBI81547 | 1000000.0 | 4787 |\n",
              "| SRR3562219 | EBI81547 | 1000000.0 | 4285 |\n",
              "\n"
            ],
            "text/plain": [
              "           orig.ident nCount_RNA nFeature_RNA\n",
              "SRR3562210 EBI81547   1000000.0  6028        \n",
              "SRR3562211 EBI81547   1000000.1  5910        \n",
              "SRR3562212 EBI81547   1000000.0  4830        \n",
              "SRR3562213 EBI81547    999999.9  7006        \n",
              "SRR3562214 EBI81547   1000000.0  4339        \n",
              "SRR3562215 EBI81547   1000000.1  7725        \n",
              "SRR3562216 EBI81547   1000000.0  6614        \n",
              "SRR3562217 EBI81547   1000000.0  4849        \n",
              "SRR3562218 EBI81547   1000000.0  4787        \n",
              "SRR3562219 EBI81547   1000000.0  4285        "
            ]
          },
          "metadata": {},
          "output_type": "display_data"
        }
      ],
      "source": [
        "head(mydata)"
      ]
    },
    {
      "cell_type": "code",
      "execution_count": null,
      "id": "c4ed966e",
      "metadata": {
        "id": "c4ed966e"
      },
      "outputs": [],
      "source": [
        "temp <- as.matrix(GetAssayData(mydata, slot = \"scale.data\"))"
      ]
    },
    {
      "cell_type": "code",
      "execution_count": null,
      "id": "03819f83",
      "metadata": {
        "id": "03819f83",
        "outputId": "f801daf5-4830-4aeb-c6c7-5dca59313769"
      },
      "outputs": [
        {
          "data": {
            "text/html": [
              "<table class=\"dataframe\">\n",
              "<caption>A matrix: 6 × 2544 of type dbl</caption>\n",
              "<thead>\n",
              "\t<tr><th></th><th scope=col>SRR3562210</th><th scope=col>SRR3562211</th><th scope=col>SRR3562212</th><th scope=col>SRR3562213</th><th scope=col>SRR3562214</th><th scope=col>SRR3562215</th><th scope=col>SRR3562216</th><th scope=col>SRR3562217</th><th scope=col>SRR3562218</th><th scope=col>SRR3562219</th><th scope=col>...</th><th scope=col>SRR3564744</th><th scope=col>SRR3564745</th><th scope=col>SRR3564746</th><th scope=col>SRR3564747</th><th scope=col>SRR3564748</th><th scope=col>SRR3564749</th><th scope=col>SRR3564750</th><th scope=col>SRR3564751</th><th scope=col>SRR3564752</th><th scope=col>SRR3564753</th></tr>\n",
              "</thead>\n",
              "<tbody>\n",
              "\t<tr><th scope=row>1</th><td>-0.31475001</td><td>-0.32947270</td><td> 1.37613195</td><td>-0.13247066</td><td>-0.32947270</td><td>-0.30398523</td><td>-0.32947270</td><td>-0.32947270</td><td>-0.32947270</td><td>-0.32947270</td><td>...</td><td>-0.32947270</td><td>-0.32208935</td><td>-0.32947270</td><td>-0.32947270</td><td>-0.32947270</td><td>-0.32947270</td><td>-0.32947270</td><td>-0.32947270</td><td>-0.15633247</td><td> 0.59698479</td></tr>\n",
              "\t<tr><th scope=row>2</th><td>-0.48165729</td><td> 1.29581173</td><td>-0.48165729</td><td>-0.48165729</td><td>-0.48165729</td><td>-0.48165729</td><td> 0.23812033</td><td> 0.94975597</td><td>-0.48165729</td><td>-0.32343884</td><td>...</td><td>-0.48165729</td><td>-0.31928656</td><td> 0.83017281</td><td>-0.48165729</td><td>-0.48165729</td><td>-0.48165729</td><td>-0.48165729</td><td>-0.48165729</td><td>-0.48165729</td><td>-0.48165729</td></tr>\n",
              "\t<tr><th scope=row>3</th><td>-0.13727766</td><td>10.00000000</td><td>-0.20053030</td><td>-0.20053030</td><td>-0.20053030</td><td>-0.20053030</td><td>-0.20053030</td><td>-0.20053030</td><td>-0.20053030</td><td>-0.20053030</td><td>...</td><td>-0.20053030</td><td> 0.13767967</td><td>-0.20053030</td><td>-0.20053030</td><td>-0.20053030</td><td>-0.20053030</td><td>-0.16988878</td><td>-0.20053030</td><td>-0.20053030</td><td>-0.20053030</td></tr>\n",
              "\t<tr><th scope=row>4</th><td> 0.10860582</td><td> 0.07780978</td><td>-0.14923260</td><td>-0.08746858</td><td>-0.14923260</td><td>-0.07495504</td><td>-0.14923260</td><td>-0.14923260</td><td> 0.09723705</td><td>-0.07344584</td><td>...</td><td> 0.43755386</td><td>-0.14923260</td><td>-0.14923260</td><td>-0.14923260</td><td>-0.14923260</td><td>-0.14923260</td><td>-0.14923260</td><td>-0.14923260</td><td>-0.05110852</td><td>-0.14923260</td></tr>\n",
              "\t<tr><th scope=row>5</th><td>-0.01989417</td><td>-0.01989417</td><td>-0.01989417</td><td>-0.01989417</td><td>-0.01989417</td><td>-0.01989417</td><td>-0.01989417</td><td>-0.01989417</td><td>-0.01989417</td><td>-0.01989417</td><td>...</td><td>-0.01989417</td><td>-0.01989417</td><td>-0.01989417</td><td>-0.01989417</td><td>-0.01989417</td><td>-0.01989417</td><td>-0.01989417</td><td>-0.01989417</td><td>-0.01989417</td><td>-0.01989417</td></tr>\n",
              "\t<tr><th scope=row>6</th><td>-0.11886726</td><td>-0.11886726</td><td>-0.11886726</td><td>-0.11886726</td><td>-0.11886726</td><td>-0.10193988</td><td>-0.10693231</td><td>-0.11886726</td><td>-0.11886726</td><td>-0.11886726</td><td>...</td><td>-0.11886726</td><td>-0.07328976</td><td>-0.11886726</td><td>-0.11886726</td><td>-0.11886726</td><td>-0.11886726</td><td>-0.11886726</td><td> 3.08244122</td><td>-0.11886726</td><td>-0.11886726</td></tr>\n",
              "</tbody>\n",
              "</table>\n"
            ],
            "text/latex": [
              "A matrix: 6 × 2544 of type dbl\n",
              "\\begin{tabular}{r|lllllllllllllllllllll}\n",
              "  & SRR3562210 & SRR3562211 & SRR3562212 & SRR3562213 & SRR3562214 & SRR3562215 & SRR3562216 & SRR3562217 & SRR3562218 & SRR3562219 & ... & SRR3564744 & SRR3564745 & SRR3564746 & SRR3564747 & SRR3564748 & SRR3564749 & SRR3564750 & SRR3564751 & SRR3564752 & SRR3564753\\\\\n",
              "\\hline\n",
              "\t1 & -0.31475001 & -0.32947270 &  1.37613195 & -0.13247066 & -0.32947270 & -0.30398523 & -0.32947270 & -0.32947270 & -0.32947270 & -0.32947270 & ... & -0.32947270 & -0.32208935 & -0.32947270 & -0.32947270 & -0.32947270 & -0.32947270 & -0.32947270 & -0.32947270 & -0.15633247 &  0.59698479\\\\\n",
              "\t2 & -0.48165729 &  1.29581173 & -0.48165729 & -0.48165729 & -0.48165729 & -0.48165729 &  0.23812033 &  0.94975597 & -0.48165729 & -0.32343884 & ... & -0.48165729 & -0.31928656 &  0.83017281 & -0.48165729 & -0.48165729 & -0.48165729 & -0.48165729 & -0.48165729 & -0.48165729 & -0.48165729\\\\\n",
              "\t3 & -0.13727766 & 10.00000000 & -0.20053030 & -0.20053030 & -0.20053030 & -0.20053030 & -0.20053030 & -0.20053030 & -0.20053030 & -0.20053030 & ... & -0.20053030 &  0.13767967 & -0.20053030 & -0.20053030 & -0.20053030 & -0.20053030 & -0.16988878 & -0.20053030 & -0.20053030 & -0.20053030\\\\\n",
              "\t4 &  0.10860582 &  0.07780978 & -0.14923260 & -0.08746858 & -0.14923260 & -0.07495504 & -0.14923260 & -0.14923260 &  0.09723705 & -0.07344584 & ... &  0.43755386 & -0.14923260 & -0.14923260 & -0.14923260 & -0.14923260 & -0.14923260 & -0.14923260 & -0.14923260 & -0.05110852 & -0.14923260\\\\\n",
              "\t5 & -0.01989417 & -0.01989417 & -0.01989417 & -0.01989417 & -0.01989417 & -0.01989417 & -0.01989417 & -0.01989417 & -0.01989417 & -0.01989417 & ... & -0.01989417 & -0.01989417 & -0.01989417 & -0.01989417 & -0.01989417 & -0.01989417 & -0.01989417 & -0.01989417 & -0.01989417 & -0.01989417\\\\\n",
              "\t6 & -0.11886726 & -0.11886726 & -0.11886726 & -0.11886726 & -0.11886726 & -0.10193988 & -0.10693231 & -0.11886726 & -0.11886726 & -0.11886726 & ... & -0.11886726 & -0.07328976 & -0.11886726 & -0.11886726 & -0.11886726 & -0.11886726 & -0.11886726 &  3.08244122 & -0.11886726 & -0.11886726\\\\\n",
              "\\end{tabular}\n"
            ],
            "text/markdown": [
              "\n",
              "A matrix: 6 × 2544 of type dbl\n",
              "\n",
              "| <!--/--> | SRR3562210 | SRR3562211 | SRR3562212 | SRR3562213 | SRR3562214 | SRR3562215 | SRR3562216 | SRR3562217 | SRR3562218 | SRR3562219 | ... | SRR3564744 | SRR3564745 | SRR3564746 | SRR3564747 | SRR3564748 | SRR3564749 | SRR3564750 | SRR3564751 | SRR3564752 | SRR3564753 |\n",
              "|---|---|---|---|---|---|---|---|---|---|---|---|---|---|---|---|---|---|---|---|---|---|\n",
              "| 1 | -0.31475001 | -0.32947270 |  1.37613195 | -0.13247066 | -0.32947270 | -0.30398523 | -0.32947270 | -0.32947270 | -0.32947270 | -0.32947270 | ... | -0.32947270 | -0.32208935 | -0.32947270 | -0.32947270 | -0.32947270 | -0.32947270 | -0.32947270 | -0.32947270 | -0.15633247 |  0.59698479 |\n",
              "| 2 | -0.48165729 |  1.29581173 | -0.48165729 | -0.48165729 | -0.48165729 | -0.48165729 |  0.23812033 |  0.94975597 | -0.48165729 | -0.32343884 | ... | -0.48165729 | -0.31928656 |  0.83017281 | -0.48165729 | -0.48165729 | -0.48165729 | -0.48165729 | -0.48165729 | -0.48165729 | -0.48165729 |\n",
              "| 3 | -0.13727766 | 10.00000000 | -0.20053030 | -0.20053030 | -0.20053030 | -0.20053030 | -0.20053030 | -0.20053030 | -0.20053030 | -0.20053030 | ... | -0.20053030 |  0.13767967 | -0.20053030 | -0.20053030 | -0.20053030 | -0.20053030 | -0.16988878 | -0.20053030 | -0.20053030 | -0.20053030 |\n",
              "| 4 |  0.10860582 |  0.07780978 | -0.14923260 | -0.08746858 | -0.14923260 | -0.07495504 | -0.14923260 | -0.14923260 |  0.09723705 | -0.07344584 | ... |  0.43755386 | -0.14923260 | -0.14923260 | -0.14923260 | -0.14923260 | -0.14923260 | -0.14923260 | -0.14923260 | -0.05110852 | -0.14923260 |\n",
              "| 5 | -0.01989417 | -0.01989417 | -0.01989417 | -0.01989417 | -0.01989417 | -0.01989417 | -0.01989417 | -0.01989417 | -0.01989417 | -0.01989417 | ... | -0.01989417 | -0.01989417 | -0.01989417 | -0.01989417 | -0.01989417 | -0.01989417 | -0.01989417 | -0.01989417 | -0.01989417 | -0.01989417 |\n",
              "| 6 | -0.11886726 | -0.11886726 | -0.11886726 | -0.11886726 | -0.11886726 | -0.10193988 | -0.10693231 | -0.11886726 | -0.11886726 | -0.11886726 | ... | -0.11886726 | -0.07328976 | -0.11886726 | -0.11886726 | -0.11886726 | -0.11886726 | -0.11886726 |  3.08244122 | -0.11886726 | -0.11886726 |\n",
              "\n"
            ],
            "text/plain": [
              "  SRR3562210  SRR3562211  SRR3562212  SRR3562213  SRR3562214  SRR3562215 \n",
              "1 -0.31475001 -0.32947270  1.37613195 -0.13247066 -0.32947270 -0.30398523\n",
              "2 -0.48165729  1.29581173 -0.48165729 -0.48165729 -0.48165729 -0.48165729\n",
              "3 -0.13727766 10.00000000 -0.20053030 -0.20053030 -0.20053030 -0.20053030\n",
              "4  0.10860582  0.07780978 -0.14923260 -0.08746858 -0.14923260 -0.07495504\n",
              "5 -0.01989417 -0.01989417 -0.01989417 -0.01989417 -0.01989417 -0.01989417\n",
              "6 -0.11886726 -0.11886726 -0.11886726 -0.11886726 -0.11886726 -0.10193988\n",
              "  SRR3562216  SRR3562217  SRR3562218  SRR3562219  ... SRR3564744  SRR3564745 \n",
              "1 -0.32947270 -0.32947270 -0.32947270 -0.32947270 ... -0.32947270 -0.32208935\n",
              "2  0.23812033  0.94975597 -0.48165729 -0.32343884 ... -0.48165729 -0.31928656\n",
              "3 -0.20053030 -0.20053030 -0.20053030 -0.20053030 ... -0.20053030  0.13767967\n",
              "4 -0.14923260 -0.14923260  0.09723705 -0.07344584 ...  0.43755386 -0.14923260\n",
              "5 -0.01989417 -0.01989417 -0.01989417 -0.01989417 ... -0.01989417 -0.01989417\n",
              "6 -0.10693231 -0.11886726 -0.11886726 -0.11886726 ... -0.11886726 -0.07328976\n",
              "  SRR3564746  SRR3564747  SRR3564748  SRR3564749  SRR3564750  SRR3564751 \n",
              "1 -0.32947270 -0.32947270 -0.32947270 -0.32947270 -0.32947270 -0.32947270\n",
              "2  0.83017281 -0.48165729 -0.48165729 -0.48165729 -0.48165729 -0.48165729\n",
              "3 -0.20053030 -0.20053030 -0.20053030 -0.20053030 -0.16988878 -0.20053030\n",
              "4 -0.14923260 -0.14923260 -0.14923260 -0.14923260 -0.14923260 -0.14923260\n",
              "5 -0.01989417 -0.01989417 -0.01989417 -0.01989417 -0.01989417 -0.01989417\n",
              "6 -0.11886726 -0.11886726 -0.11886726 -0.11886726 -0.11886726  3.08244122\n",
              "  SRR3564752  SRR3564753 \n",
              "1 -0.15633247  0.59698479\n",
              "2 -0.48165729 -0.48165729\n",
              "3 -0.20053030 -0.20053030\n",
              "4 -0.05110852 -0.14923260\n",
              "5 -0.01989417 -0.01989417\n",
              "6 -0.11886726 -0.11886726"
            ]
          },
          "metadata": {},
          "output_type": "display_data"
        }
      ],
      "source": [
        "head(temp)"
      ]
    },
    {
      "cell_type": "code",
      "execution_count": null,
      "id": "e06e460e",
      "metadata": {
        "id": "e06e460e"
      },
      "outputs": [],
      "source": [
        "write.csv(temp, 'F:/SSL/Results/seuratData81547.csv', row.names = FALSE)"
      ]
    },
    {
      "cell_type": "code",
      "execution_count": null,
      "id": "ef2e343b",
      "metadata": {
        "id": "ef2e343b",
        "outputId": "bc692bc8-f98d-42ca-cf4f-faef0c90dbe0"
      },
      "outputs": [
        {
          "data": {
            "image/png": "[encoded data removed]",
            "text/plain": [
              "plot without title"
            ]
          },
          "metadata": {
            "image/png": {
              "height": 420,
              "width": 420
            }
          },
          "output_type": "display_data"
        }
      ],
      "source": [
        "ElbowPlot(mydata)"
      ]
    },
    {
      "cell_type": "code",
      "execution_count": null,
      "id": "88848552",
      "metadata": {
        "id": "88848552",
        "outputId": "d80eccd8-55b2-4b55-9a78-75077e55356d"
      },
      "outputs": [
        {
          "name": "stderr",
          "output_type": "stream",
          "text": [
            "Computing nearest neighbor graph\n",
            "\n",
            "Computing SNN\n",
            "\n"
          ]
        },
        {
          "name": "stdout",
          "output_type": "stream",
          "text": [
            "Modularity Optimizer version 1.3.0 by Ludo Waltman and Nees Jan van Eck\n",
            "\n",
            "Number of nodes: 2544\n",
            "Number of edges: 83907\n",
            "\n",
            "Running Louvain algorithm...\n",
            "Maximum modularity in 10 random starts: 0.9275\n",
            "Number of communities: 15\n",
            "Elapsed time: 0 seconds\n"
          ]
        }
      ],
      "source": [
        "mydata <- FindNeighbors(mydata, dims = 1:15)\n",
        "mydata <- FindClusters(mydata, resolution = 0.5)"
      ]
    },
    {
      "cell_type": "code",
      "execution_count": null,
      "id": "6cc0eef2",
      "metadata": {
        "id": "6cc0eef2"
      },
      "outputs": [],
      "source": [
        "pred_class <- mydata@meta.data['seurat_clusters']"
      ]
    },
    {
      "cell_type": "code",
      "execution_count": null,
      "id": "0c1e811c",
      "metadata": {
        "id": "0c1e811c"
      },
      "outputs": [],
      "source": [
        "write.csv(pred_class, 'F:/SSL/Results/predClassSeurat81547.csv', row.names = FALSE)"
      ]
    },
    {
      "cell_type": "code",
      "execution_count": null,
      "id": "cba54cef",
      "metadata": {
        "id": "cba54cef"
      },
      "outputs": [],
      "source": [
        ""
      ]
    }
  ],
  "metadata": {
    "kernelspec": {
      "display_name": "R",
      "language": "R",
      "name": "ir"
    },
    "language_info": {
      "codemirror_mode": "r",
      "file_extension": ".r",
      "mimetype": "text/x-r-source",
      "name": "R",
      "pygments_lexer": "r",
      "version": "4.1.1"
    },
    "colab": {
      "name": "Seurat_SSL.ipynb",
      "provenance": [],
      "collapsed_sections": []
    }
  },
  "nbformat": 4,
  "nbformat_minor": 5
}