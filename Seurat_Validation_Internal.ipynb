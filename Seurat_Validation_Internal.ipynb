{
  "cells": [
    {
      "cell_type": "code",
      "execution_count": null,
      "id": "5fb41bb0",
      "metadata": {
        "id": "5fb41bb0"
      },
      "outputs": [],
      "source": [
        "from sklearn.metrics import silhouette_score, jaccard_score, davies_bouldin_score, calinski_harabasz_score, adjusted_rand_score, adjusted_mutual_info_score, fowlkes_mallows_score\n",
        "import pandas as pd"
      ]
    },
    {
      "cell_type": "code",
      "execution_count": null,
      "id": "08f72f48",
      "metadata": {
        "id": "08f72f48"
      },
      "outputs": [],
      "source": [
        "seuData = pd.read_csv(\"F:/DIBYENDU/SSL/Results/seuratDataBaronHuman.csv\", header=0, index_col=0, sep=\",\")"
      ]
    },
    {
      "cell_type": "code",
      "execution_count": null,
      "id": "e508c5fd",
      "metadata": {
        "id": "e508c5fd",
        "outputId": "40375b72-dc84-4abd-d39d-5b759bdb1d04"
      },
      "outputs": [
        {
          "data": {
            "text/html": [
              "<div>\n",
              "<style scoped>\n",
              "    .dataframe tbody tr th:only-of-type {\n",
              "        vertical-align: middle;\n",
              "    }\n",
              "\n",
              "    .dataframe tbody tr th {\n",
              "        vertical-align: top;\n",
              "    }\n",
              "\n",
              "    .dataframe thead th {\n",
              "        text-align: right;\n",
              "    }\n",
              "</style>\n",
              "<table border=\"1\" class=\"dataframe\">\n",
              "  <thead>\n",
              "    <tr style=\"text-align: right;\">\n",
              "      <th></th>\n",
              "      <th>0</th>\n",
              "      <th>1</th>\n",
              "      <th>2</th>\n",
              "      <th>3</th>\n",
              "      <th>4</th>\n",
              "      <th>5</th>\n",
              "      <th>6</th>\n",
              "      <th>7</th>\n",
              "      <th>8</th>\n",
              "      <th>9</th>\n",
              "      <th>...</th>\n",
              "      <th>6909</th>\n",
              "      <th>6910</th>\n",
              "      <th>6911</th>\n",
              "      <th>6912</th>\n",
              "      <th>6913</th>\n",
              "      <th>6914</th>\n",
              "      <th>6915</th>\n",
              "      <th>6916</th>\n",
              "      <th>6917</th>\n",
              "      <th>6918</th>\n",
              "    </tr>\n",
              "  </thead>\n",
              "  <tbody>\n",
              "    <tr>\n",
              "      <th>ABCC3</th>\n",
              "      <td>-0.266480</td>\n",
              "      <td>-0.266480</td>\n",
              "      <td>-0.266480</td>\n",
              "      <td>-0.266480</td>\n",
              "      <td>-0.266480</td>\n",
              "      <td>-0.266480</td>\n",
              "      <td>-0.266480</td>\n",
              "      <td>-0.266480</td>\n",
              "      <td>-0.266480</td>\n",
              "      <td>-0.266480</td>\n",
              "      <td>...</td>\n",
              "      <td>-0.266480</td>\n",
              "      <td>-0.266480</td>\n",
              "      <td>-0.266480</td>\n",
              "      <td>-0.266480</td>\n",
              "      <td>-0.266480</td>\n",
              "      <td>-0.266480</td>\n",
              "      <td>-0.266480</td>\n",
              "      <td>-0.266480</td>\n",
              "      <td>-0.266480</td>\n",
              "      <td>-0.266480</td>\n",
              "    </tr>\n",
              "    <tr>\n",
              "      <th>ABCC8</th>\n",
              "      <td>0.549700</td>\n",
              "      <td>0.758853</td>\n",
              "      <td>1.036893</td>\n",
              "      <td>0.533552</td>\n",
              "      <td>2.138017</td>\n",
              "      <td>0.845650</td>\n",
              "      <td>2.010159</td>\n",
              "      <td>-0.010915</td>\n",
              "      <td>-0.698338</td>\n",
              "      <td>0.845289</td>\n",
              "      <td>...</td>\n",
              "      <td>1.582126</td>\n",
              "      <td>0.668180</td>\n",
              "      <td>3.359331</td>\n",
              "      <td>-0.698338</td>\n",
              "      <td>1.167393</td>\n",
              "      <td>-0.698338</td>\n",
              "      <td>-0.698338</td>\n",
              "      <td>-0.698338</td>\n",
              "      <td>-0.698338</td>\n",
              "      <td>-0.698338</td>\n",
              "    </tr>\n",
              "    <tr>\n",
              "      <th>ABHD2</th>\n",
              "      <td>-0.592663</td>\n",
              "      <td>-0.592663</td>\n",
              "      <td>-0.592663</td>\n",
              "      <td>-0.592663</td>\n",
              "      <td>-0.592663</td>\n",
              "      <td>0.872626</td>\n",
              "      <td>-0.592663</td>\n",
              "      <td>-0.592663</td>\n",
              "      <td>-0.592663</td>\n",
              "      <td>-0.592663</td>\n",
              "      <td>...</td>\n",
              "      <td>-0.592663</td>\n",
              "      <td>2.001066</td>\n",
              "      <td>-0.592663</td>\n",
              "      <td>1.992161</td>\n",
              "      <td>1.911390</td>\n",
              "      <td>-0.592663</td>\n",
              "      <td>-0.592663</td>\n",
              "      <td>-0.592663</td>\n",
              "      <td>2.099871</td>\n",
              "      <td>-0.592663</td>\n",
              "    </tr>\n",
              "    <tr>\n",
              "      <th>ABL1</th>\n",
              "      <td>-0.419755</td>\n",
              "      <td>-0.419755</td>\n",
              "      <td>-0.419755</td>\n",
              "      <td>-0.419755</td>\n",
              "      <td>-0.419755</td>\n",
              "      <td>-0.419755</td>\n",
              "      <td>-0.419755</td>\n",
              "      <td>-0.419755</td>\n",
              "      <td>-0.419755</td>\n",
              "      <td>1.235974</td>\n",
              "      <td>...</td>\n",
              "      <td>-0.419755</td>\n",
              "      <td>-0.419755</td>\n",
              "      <td>-0.419755</td>\n",
              "      <td>-0.419755</td>\n",
              "      <td>-0.419755</td>\n",
              "      <td>-0.419755</td>\n",
              "      <td>3.024518</td>\n",
              "      <td>-0.419755</td>\n",
              "      <td>-0.419755</td>\n",
              "      <td>-0.419755</td>\n",
              "    </tr>\n",
              "    <tr>\n",
              "      <th>ACKR3</th>\n",
              "      <td>-0.127908</td>\n",
              "      <td>-0.127908</td>\n",
              "      <td>-0.127908</td>\n",
              "      <td>-0.127908</td>\n",
              "      <td>-0.127908</td>\n",
              "      <td>-0.127908</td>\n",
              "      <td>-0.127908</td>\n",
              "      <td>-0.127908</td>\n",
              "      <td>-0.127908</td>\n",
              "      <td>-0.127908</td>\n",
              "      <td>...</td>\n",
              "      <td>-0.127908</td>\n",
              "      <td>-0.127908</td>\n",
              "      <td>-0.127908</td>\n",
              "      <td>-0.127908</td>\n",
              "      <td>-0.127908</td>\n",
              "      <td>-0.127908</td>\n",
              "      <td>-0.127908</td>\n",
              "      <td>-0.127908</td>\n",
              "      <td>-0.127908</td>\n",
              "      <td>-0.127908</td>\n",
              "    </tr>\n",
              "  </tbody>\n",
              "</table>\n",
              "<p>5 rows × 6919 columns</p>\n",
              "</div>"
            ],
            "text/plain": [
              "              0         1         2         3         4         5         6  \\\n",
              "ABCC3 -0.266480 -0.266480 -0.266480 -0.266480 -0.266480 -0.266480 -0.266480   \n",
              "ABCC8  0.549700  0.758853  1.036893  0.533552  2.138017  0.845650  2.010159   \n",
              "ABHD2 -0.592663 -0.592663 -0.592663 -0.592663 -0.592663  0.872626 -0.592663   \n",
              "ABL1  -0.419755 -0.419755 -0.419755 -0.419755 -0.419755 -0.419755 -0.419755   \n",
              "ACKR3 -0.127908 -0.127908 -0.127908 -0.127908 -0.127908 -0.127908 -0.127908   \n",
              "\n",
              "              7         8         9  ...      6909      6910      6911  \\\n",
              "ABCC3 -0.266480 -0.266480 -0.266480  ... -0.266480 -0.266480 -0.266480   \n",
              "ABCC8 -0.010915 -0.698338  0.845289  ...  1.582126  0.668180  3.359331   \n",
              "ABHD2 -0.592663 -0.592663 -0.592663  ... -0.592663  2.001066 -0.592663   \n",
              "ABL1  -0.419755 -0.419755  1.235974  ... -0.419755 -0.419755 -0.419755   \n",
              "ACKR3 -0.127908 -0.127908 -0.127908  ... -0.127908 -0.127908 -0.127908   \n",
              "\n",
              "           6912      6913      6914      6915      6916      6917      6918  \n",
              "ABCC3 -0.266480 -0.266480 -0.266480 -0.266480 -0.266480 -0.266480 -0.266480  \n",
              "ABCC8 -0.698338  1.167393 -0.698338 -0.698338 -0.698338 -0.698338 -0.698338  \n",
              "ABHD2  1.992161  1.911390 -0.592663 -0.592663 -0.592663  2.099871 -0.592663  \n",
              "ABL1  -0.419755 -0.419755 -0.419755  3.024518 -0.419755 -0.419755 -0.419755  \n",
              "ACKR3 -0.127908 -0.127908 -0.127908 -0.127908 -0.127908 -0.127908 -0.127908  \n",
              "\n",
              "[5 rows x 6919 columns]"
            ]
          },
          "execution_count": 86,
          "metadata": {},
          "output_type": "execute_result"
        }
      ],
      "source": [
        "seuData.head()"
      ]
    },
    {
      "cell_type": "code",
      "execution_count": null,
      "id": "b81d7655",
      "metadata": {
        "id": "b81d7655"
      },
      "outputs": [],
      "source": [
        "seuData = seuData.T"
      ]
    },
    {
      "cell_type": "code",
      "execution_count": null,
      "id": "76f96ade",
      "metadata": {
        "id": "76f96ade",
        "outputId": "62251377-4bd9-4067-8ca2-9f87c4a82c4a"
      },
      "outputs": [
        {
          "data": {
            "text/html": [
              "<div>\n",
              "<style scoped>\n",
              "    .dataframe tbody tr th:only-of-type {\n",
              "        vertical-align: middle;\n",
              "    }\n",
              "\n",
              "    .dataframe tbody tr th {\n",
              "        vertical-align: top;\n",
              "    }\n",
              "\n",
              "    .dataframe thead th {\n",
              "        text-align: right;\n",
              "    }\n",
              "</style>\n",
              "<table border=\"1\" class=\"dataframe\">\n",
              "  <thead>\n",
              "    <tr style=\"text-align: right;\">\n",
              "      <th></th>\n",
              "      <th>ABCC3</th>\n",
              "      <th>ABCC8</th>\n",
              "      <th>ABHD2</th>\n",
              "      <th>ABL1</th>\n",
              "      <th>ACKR3</th>\n",
              "      <th>ACLY</th>\n",
              "      <th>ACO2</th>\n",
              "      <th>ACP5</th>\n",
              "      <th>ACSL1</th>\n",
              "      <th>ACTA1</th>\n",
              "      <th>...</th>\n",
              "      <th>ZFP36L2</th>\n",
              "      <th>ZMAT3</th>\n",
              "      <th>ZNF331</th>\n",
              "      <th>ZNF395</th>\n",
              "      <th>ZNF503</th>\n",
              "      <th>ZNF703</th>\n",
              "      <th>ZNRF1</th>\n",
              "      <th>ZSWIM4</th>\n",
              "      <th>ZYX</th>\n",
              "      <th>pk</th>\n",
              "    </tr>\n",
              "  </thead>\n",
              "  <tbody>\n",
              "    <tr>\n",
              "      <th>0</th>\n",
              "      <td>-0.26648</td>\n",
              "      <td>0.549700</td>\n",
              "      <td>-0.592663</td>\n",
              "      <td>-0.419755</td>\n",
              "      <td>-0.127908</td>\n",
              "      <td>0.623286</td>\n",
              "      <td>-0.532462</td>\n",
              "      <td>-0.126498</td>\n",
              "      <td>1.641850</td>\n",
              "      <td>-0.076067</td>\n",
              "      <td>...</td>\n",
              "      <td>-0.4138</td>\n",
              "      <td>-0.505612</td>\n",
              "      <td>-0.306058</td>\n",
              "      <td>1.158422</td>\n",
              "      <td>-0.385002</td>\n",
              "      <td>-0.363779</td>\n",
              "      <td>-0.499714</td>\n",
              "      <td>-0.218884</td>\n",
              "      <td>-0.568050</td>\n",
              "      <td>1.770754</td>\n",
              "    </tr>\n",
              "    <tr>\n",
              "      <th>1</th>\n",
              "      <td>-0.26648</td>\n",
              "      <td>0.758853</td>\n",
              "      <td>-0.592663</td>\n",
              "      <td>-0.419755</td>\n",
              "      <td>-0.127908</td>\n",
              "      <td>-0.856482</td>\n",
              "      <td>-0.532462</td>\n",
              "      <td>-0.126498</td>\n",
              "      <td>-0.466549</td>\n",
              "      <td>-0.076067</td>\n",
              "      <td>...</td>\n",
              "      <td>-0.4138</td>\n",
              "      <td>-0.505612</td>\n",
              "      <td>-0.306058</td>\n",
              "      <td>0.376272</td>\n",
              "      <td>-0.385002</td>\n",
              "      <td>-0.363779</td>\n",
              "      <td>-0.499714</td>\n",
              "      <td>-0.218884</td>\n",
              "      <td>-0.568050</td>\n",
              "      <td>-0.311683</td>\n",
              "    </tr>\n",
              "    <tr>\n",
              "      <th>2</th>\n",
              "      <td>-0.26648</td>\n",
              "      <td>1.036893</td>\n",
              "      <td>-0.592663</td>\n",
              "      <td>-0.419755</td>\n",
              "      <td>-0.127908</td>\n",
              "      <td>-0.856482</td>\n",
              "      <td>0.816916</td>\n",
              "      <td>-0.126498</td>\n",
              "      <td>-0.466549</td>\n",
              "      <td>-0.076067</td>\n",
              "      <td>...</td>\n",
              "      <td>-0.4138</td>\n",
              "      <td>-0.505612</td>\n",
              "      <td>-0.306058</td>\n",
              "      <td>2.839867</td>\n",
              "      <td>1.200034</td>\n",
              "      <td>-0.363779</td>\n",
              "      <td>0.907509</td>\n",
              "      <td>-0.218884</td>\n",
              "      <td>-0.568050</td>\n",
              "      <td>-0.311683</td>\n",
              "    </tr>\n",
              "    <tr>\n",
              "      <th>3</th>\n",
              "      <td>-0.26648</td>\n",
              "      <td>0.533552</td>\n",
              "      <td>-0.592663</td>\n",
              "      <td>-0.419755</td>\n",
              "      <td>-0.127908</td>\n",
              "      <td>1.209150</td>\n",
              "      <td>2.002066</td>\n",
              "      <td>-0.126498</td>\n",
              "      <td>1.005025</td>\n",
              "      <td>-0.076067</td>\n",
              "      <td>...</td>\n",
              "      <td>-0.4138</td>\n",
              "      <td>-0.505612</td>\n",
              "      <td>-0.306058</td>\n",
              "      <td>1.673877</td>\n",
              "      <td>-0.385002</td>\n",
              "      <td>-0.363779</td>\n",
              "      <td>-0.499714</td>\n",
              "      <td>-0.218884</td>\n",
              "      <td>0.666875</td>\n",
              "      <td>-0.311683</td>\n",
              "    </tr>\n",
              "    <tr>\n",
              "      <th>4</th>\n",
              "      <td>-0.26648</td>\n",
              "      <td>2.138017</td>\n",
              "      <td>-0.592663</td>\n",
              "      <td>-0.419755</td>\n",
              "      <td>-0.127908</td>\n",
              "      <td>0.985508</td>\n",
              "      <td>1.312919</td>\n",
              "      <td>-0.126498</td>\n",
              "      <td>0.845701</td>\n",
              "      <td>-0.076067</td>\n",
              "      <td>...</td>\n",
              "      <td>-0.4138</td>\n",
              "      <td>-0.505612</td>\n",
              "      <td>-0.306058</td>\n",
              "      <td>2.587368</td>\n",
              "      <td>-0.385002</td>\n",
              "      <td>-0.363779</td>\n",
              "      <td>-0.499714</td>\n",
              "      <td>-0.218884</td>\n",
              "      <td>-0.568050</td>\n",
              "      <td>-0.311683</td>\n",
              "    </tr>\n",
              "  </tbody>\n",
              "</table>\n",
              "<p>5 rows × 1477 columns</p>\n",
              "</div>"
            ],
            "text/plain": [
              "     ABCC3     ABCC8     ABHD2      ABL1     ACKR3      ACLY      ACO2  \\\n",
              "0 -0.26648  0.549700 -0.592663 -0.419755 -0.127908  0.623286 -0.532462   \n",
              "1 -0.26648  0.758853 -0.592663 -0.419755 -0.127908 -0.856482 -0.532462   \n",
              "2 -0.26648  1.036893 -0.592663 -0.419755 -0.127908 -0.856482  0.816916   \n",
              "3 -0.26648  0.533552 -0.592663 -0.419755 -0.127908  1.209150  2.002066   \n",
              "4 -0.26648  2.138017 -0.592663 -0.419755 -0.127908  0.985508  1.312919   \n",
              "\n",
              "       ACP5     ACSL1     ACTA1  ...  ZFP36L2     ZMAT3    ZNF331    ZNF395  \\\n",
              "0 -0.126498  1.641850 -0.076067  ...  -0.4138 -0.505612 -0.306058  1.158422   \n",
              "1 -0.126498 -0.466549 -0.076067  ...  -0.4138 -0.505612 -0.306058  0.376272   \n",
              "2 -0.126498 -0.466549 -0.076067  ...  -0.4138 -0.505612 -0.306058  2.839867   \n",
              "3 -0.126498  1.005025 -0.076067  ...  -0.4138 -0.505612 -0.306058  1.673877   \n",
              "4 -0.126498  0.845701 -0.076067  ...  -0.4138 -0.505612 -0.306058  2.587368   \n",
              "\n",
              "     ZNF503    ZNF703     ZNRF1    ZSWIM4       ZYX        pk  \n",
              "0 -0.385002 -0.363779 -0.499714 -0.218884 -0.568050  1.770754  \n",
              "1 -0.385002 -0.363779 -0.499714 -0.218884 -0.568050 -0.311683  \n",
              "2  1.200034 -0.363779  0.907509 -0.218884 -0.568050 -0.311683  \n",
              "3 -0.385002 -0.363779 -0.499714 -0.218884  0.666875 -0.311683  \n",
              "4 -0.385002 -0.363779 -0.499714 -0.218884 -0.568050 -0.311683  \n",
              "\n",
              "[5 rows x 1477 columns]"
            ]
          },
          "execution_count": 88,
          "metadata": {},
          "output_type": "execute_result"
        }
      ],
      "source": [
        "seuData.head()"
      ]
    },
    {
      "cell_type": "code",
      "execution_count": null,
      "id": "4f5d0d60",
      "metadata": {
        "id": "4f5d0d60"
      },
      "outputs": [],
      "source": [
        "seuClass = pd.read_csv(\"F:/DIBYENDU/SSL/Results/predClassSeuratBaronHuman.csv\", header=0, sep=\",\")"
      ]
    },
    {
      "cell_type": "code",
      "execution_count": null,
      "id": "833cb135",
      "metadata": {
        "id": "833cb135"
      },
      "outputs": [],
      "source": [
        "seuClass = seuClass['seurat_clusters']"
      ]
    },
    {
      "cell_type": "code",
      "execution_count": null,
      "id": "31ee581d",
      "metadata": {
        "id": "31ee581d"
      },
      "outputs": [],
      "source": [
        "unlab = [2807, 3153, 2884, 6383, 5303, 1310, 3704, 5000, 5426, 5568, 5575, 388]"
      ]
    },
    {
      "cell_type": "code",
      "execution_count": null,
      "id": "c3dd5a7e",
      "metadata": {
        "id": "c3dd5a7e"
      },
      "outputs": [],
      "source": [
        "seuData.reset_index(inplace=True, drop=True)"
      ]
    },
    {
      "cell_type": "code",
      "execution_count": null,
      "id": "846c863a",
      "metadata": {
        "id": "846c863a"
      },
      "outputs": [],
      "source": [
        "seuratData = seuData.loc[~seuData.index.isin(unlab)]"
      ]
    },
    {
      "cell_type": "code",
      "execution_count": null,
      "id": "3379ed9a",
      "metadata": {
        "id": "3379ed9a"
      },
      "outputs": [],
      "source": [
        "seuratClass = seuClass.loc[~seuClass.index.isin(unlab)]"
      ]
    },
    {
      "cell_type": "code",
      "execution_count": null,
      "id": "09a38fcf",
      "metadata": {
        "id": "09a38fcf"
      },
      "outputs": [],
      "source": [
        "#predictedData = pd.read_csv(\"F:/DIBYENDU/SSL/Results/predictedData130148.csv\", header=0, index_col=0, sep=\",\")\n",
        "#predictedLabels = pd.read_csv(\"F:/DIBYENDU/SSL/Results/predictedLabels130148.csv\", header=0, index_col=0, sep=\",\")"
      ]
    },
    {
      "cell_type": "code",
      "execution_count": null,
      "id": "26473a8c",
      "metadata": {
        "id": "26473a8c"
      },
      "outputs": [],
      "source": [
        "#predictedData.shape"
      ]
    },
    {
      "cell_type": "code",
      "execution_count": null,
      "id": "e1d7af3f",
      "metadata": {
        "id": "e1d7af3f",
        "outputId": "7f065a4a-d623-46bb-b784-8080b259b07c"
      },
      "outputs": [
        {
          "name": "stdout",
          "output_type": "stream",
          "text": [
            "Results (Seurat): \n",
            "\n",
            "Silhouette Score: 0.03\n",
            "Davies Bouldin Score: 3.84\n",
            "Calinski Harabasz Score: 202.07\n"
          ]
        }
      ],
      "source": [
        "print('Results (Seurat): \\n')\n",
        "print('Silhouette Score: {0:.2f}'.format(silhouette_score(seuratData, seuratClass)))\n",
        "print('Davies Bouldin Score: {0:.2f}'.format(davies_bouldin_score(seuratData, seuratClass)))\n",
        "print('Calinski Harabasz Score: {0:.2f}'.format(calinski_harabasz_score(seuratData, seuratClass)))"
      ]
    },
    {
      "cell_type": "code",
      "execution_count": null,
      "id": "b899bc54",
      "metadata": {
        "id": "b899bc54"
      },
      "outputs": [],
      "source": [
        "#print('Results (Proposed): \\n')\n",
        "#print('Silhouette Score: {0:.2f}'.format(silhouette_score(predictedData, predictedLabels['Predicted Label'].values)))\n",
        "#print('Davies Bouldin Score: {0:.2f}'.format(davies_bouldin_score(predictedData, predictedLabels['Predicted Label'].values)))\n",
        "#print('Calinski Harabasz Score: {0:.2f}'.format(calinski_harabasz_score(predictedData, predictedLabels['Predicted Label'].values)))"
      ]
    },
    {
      "cell_type": "code",
      "execution_count": null,
      "id": "06a371b1",
      "metadata": {
        "id": "06a371b1"
      },
      "outputs": [],
      "source": [
        ""
      ]
    }
  ],
  "metadata": {
    "kernelspec": {
      "display_name": "Python 3 (ipykernel)",
      "language": "python",
      "name": "python3"
    },
    "language_info": {
      "codemirror_mode": {
        "name": "ipython",
        "version": 3
      },
      "file_extension": ".py",
      "mimetype": "text/x-python",
      "name": "python",
      "nbconvert_exporter": "python",
      "pygments_lexer": "ipython3",
      "version": "3.9.6"
    },
    "colab": {
      "name": "Seurat_Validation_Internal.ipynb",
      "provenance": [],
      "collapsed_sections": []
    }
  },
  "nbformat": 4,
  "nbformat_minor": 5
}