{
  "nbformat": 4,
  "nbformat_minor": 0,
  "metadata": {
    "colab": {
      "name": "CASSL_Validation_Supervised.ipynb",
      "provenance": [],
      "collapsed_sections": [
        "eM5GWDv_ScjG",
        "Nmxn0dEhwf0s"
      ],
      "toc_visible": true
    },
    "kernelspec": {
      "display_name": "Python 3",
      "name": "python3"
    }
  },
  "cells": [
    {
      "cell_type": "markdown",
      "metadata": {
        "id": "uzxWXO1V2oh6"
      },
      "source": [
        "# Importing libraries"
      ]
    },
    {
      "cell_type": "code",
      "metadata": {
        "id": "sXG7u5it2WrK"
      },
      "source": [
        "import math\n",
        "import pandas as pd\n",
        "import numpy as np\n",
        "import matplotlib.pyplot as plt\n",
        "import seaborn as sns\n",
        "import random\n",
        "from sklearn.cluster import KMeans\n",
        "from sklearn.preprocessing import LabelEncoder\n",
        "from sklearn.metrics.cluster import adjusted_rand_score, adjusted_mutual_info_score, fowlkes_mallows_score\n",
        "from sklearn.metrics import silhouette_score, davies_bouldin_score, calinski_harabasz_score\n",
        "import seaborn as sns\n",
        "from sklearn.manifold import TSNE\n",
        "from sklearn.decomposition import NMF\n",
        "import tensorflow as tf\n",
        "from sklearn.metrics.pairwise import euclidean_distances\n",
        "from sklearn.model_selection import train_test_split\n",
        "from sklearn.ensemble import RandomForestClassifier\n",
        "from sklearn.neighbors import KNeighborsClassifier\n",
        "from sklearn.svm import SVC\n",
        "from sklearn.metrics import classification_report, accuracy_score, confusion_matrix"
      ],
      "execution_count": null,
      "outputs": []
    },
    {
      "cell_type": "code",
      "metadata": {
        "id": "azZAvGkqCVP3",
        "colab": {
          "base_uri": "https://localhost:8080/"
        },
        "outputId": "d322244b-a313-4368-a58c-d5d8abbba981"
      },
      "source": [
        "!pip install pytictoc"
      ],
      "execution_count": null,
      "outputs": [
        {
          "output_type": "stream",
          "name": "stdout",
          "text": [
            "Collecting pytictoc\n",
            "  Downloading pytictoc-1.5.2-py2.py3-none-any.whl (4.0 kB)\n",
            "Installing collected packages: pytictoc\n",
            "Successfully installed pytictoc-1.5.2\n"
          ]
        }
      ]
    },
    {
      "cell_type": "code",
      "metadata": {
        "colab": {
          "base_uri": "https://localhost:8080/"
        },
        "id": "I_g0ZJR-jOi_",
        "outputId": "085042e1-318b-44a5-b46b-eef07c6df4ab"
      },
      "source": [
        "!pip install kneed"
      ],
      "execution_count": null,
      "outputs": [
        {
          "output_type": "stream",
          "name": "stdout",
          "text": [
            "Collecting kneed\n",
            "  Downloading kneed-0.7.0-py2.py3-none-any.whl (9.4 kB)\n",
            "Requirement already satisfied: matplotlib in /usr/local/lib/python3.7/dist-packages (from kneed) (3.2.2)\n",
            "Requirement already satisfied: numpy>=1.14.2 in /usr/local/lib/python3.7/dist-packages (from kneed) (1.19.5)\n",
            "Requirement already satisfied: scipy in /usr/local/lib/python3.7/dist-packages (from kneed) (1.4.1)\n",
            "Requirement already satisfied: python-dateutil>=2.1 in /usr/local/lib/python3.7/dist-packages (from matplotlib->kneed) (2.8.2)\n",
            "Requirement already satisfied: pyparsing!=2.0.4,!=2.1.2,!=2.1.6,>=2.0.1 in /usr/local/lib/python3.7/dist-packages (from matplotlib->kneed) (3.0.7)\n",
            "Requirement already satisfied: cycler>=0.10 in /usr/local/lib/python3.7/dist-packages (from matplotlib->kneed) (0.11.0)\n",
            "Requirement already satisfied: kiwisolver>=1.0.1 in /usr/local/lib/python3.7/dist-packages (from matplotlib->kneed) (1.3.2)\n",
            "Requirement already satisfied: six>=1.5 in /usr/local/lib/python3.7/dist-packages (from python-dateutil>=2.1->matplotlib->kneed) (1.15.0)\n",
            "Installing collected packages: kneed\n",
            "Successfully installed kneed-0.7.0\n"
          ]
        }
      ]
    },
    {
      "cell_type": "code",
      "metadata": {
        "id": "i9ks8QJYCe3j"
      },
      "source": [
        "from pytictoc import TicToc\n",
        "t = TicToc()"
      ],
      "execution_count": null,
      "outputs": []
    },
    {
      "cell_type": "markdown",
      "metadata": {
        "id": "CEhM9idP3AuQ"
      },
      "source": [
        "# Importing scRNA-seq data"
      ]
    },
    {
      "cell_type": "code",
      "metadata": {
        "colab": {
          "base_uri": "https://localhost:8080/"
        },
        "id": "bRiS4oDCi7aX",
        "outputId": "71f90a9c-1d9c-4863-96f7-603888246c68"
      },
      "source": [
        "#Mounting google drive\n",
        "from google.colab import drive\n",
        "drive.mount('/content/drive')"
      ],
      "execution_count": null,
      "outputs": [
        {
          "output_type": "stream",
          "name": "stdout",
          "text": [
            "Mounted at /content/drive\n"
          ]
        }
      ]
    },
    {
      "cell_type": "code",
      "metadata": {
        "colab": {
          "base_uri": "https://localhost:8080/"
        },
        "id": "vnkqz3ZpjErq",
        "outputId": "2027fedb-1bc0-4931-92b8-2a811be14e97"
      },
      "source": [
        "ls \"/content/drive/My Drive/scRNAseq Data/Preprocessed_Data_Annotations/\""
      ],
      "execution_count": null,
      "outputs": [
        {
          "output_type": "stream",
          "name": "stdout",
          "text": [
            "AMB_annotations.csv\n",
            "AMB_preprocessed_data_scprep_percentile_5_95.csv\n",
            "Baron_Human_annotations.csv\n",
            "Baron_Human_preprocessed_data_scprep_percentile_5_95.csv\n",
            "Baron_Mouse_annotations.csv\n",
            "Baron_Mouse_preprocessed_data_scprep_percentile_5_95.csv\n",
            "GSE57249_fpkm_labels.csv\n",
            "GSE57249_fpkm_preprocessed.csv\n",
            "missingAnnotations_Test.csv\n",
            "PBMC_3k_annotations.csv\n",
            "PBMC3K_preprocessed_data_minmax_normalized.csv\n",
            "PBMC_3k_preprocessed_data_scanpy.csv\n",
            "Preimplantation_annotations.csv\n",
            "Preimplantation_preprocessed_data_scprep_percentile_20_90.csv\n",
            "Segerstolpe_annotations.csv\n",
            "Segerstolpe_preprocessed_data_scprep_percentile_10_95.csv\n",
            "Usoskin_annotations.csv\n",
            "Usoskin_preprocessed_data_scprep_percentile_5_95.csv\n",
            "Zeisel_annotations.csv\n",
            "Zeisel_preprocessed_data_scprep_percentile_5_95.csv\n",
            "Zheng_PBMC_DownSampled_annotations.csv\n",
            "Zheng_PBMC_DownSampled_preprocessed_data_scprep_percentile_5_90.csv\n"
          ]
        }
      ]
    },
    {
      "cell_type": "code",
      "metadata": {
        "id": "A4nNDNWpi4AY"
      },
      "source": [
        "data = pd.read_csv(\"/content/drive/My Drive/scRNAseq Data/Preprocessed_Data_Annotations/Baron_Mouse_preprocessed_data_scprep_percentile_5_95.csv\", header=0, index_col=0, sep=\",\")"
      ],
      "execution_count": null,
      "outputs": []
    },
    {
      "cell_type": "code",
      "metadata": {
        "id": "T6Dzw-jBcMoH"
      },
      "source": [
        "labels = pd.read_csv(\"/content/drive/My Drive/scRNAseq Data/Preprocessed_Data_Annotations/Baron_Mouse_annotations.csv\", header=0, index_col=None, sep=\",\")"
      ],
      "execution_count": null,
      "outputs": []
    },
    {
      "cell_type": "code",
      "metadata": {
        "id": "EPrGapzDjtH_"
      },
      "source": [
        "data.reset_index(inplace=True, drop=True)"
      ],
      "execution_count": null,
      "outputs": []
    },
    {
      "cell_type": "code",
      "metadata": {
        "colab": {
          "base_uri": "https://localhost:8080/",
          "height": 300
        },
        "id": "lp27GOLalq25",
        "outputId": "b5382a0c-ca4d-4087-c774-254cb4c091be"
      },
      "source": [
        "data.head()"
      ],
      "execution_count": null,
      "outputs": [
        {
          "output_type": "execute_result",
          "data": {
            "text/html": [
              "\n",
              "  <div id=\"df-cdaf8a6c-689a-45d2-a56a-4061721d5b17\">\n",
              "    <div class=\"colab-df-container\">\n",
              "      <div>\n",
              "<style scoped>\n",
              "    .dataframe tbody tr th:only-of-type {\n",
              "        vertical-align: middle;\n",
              "    }\n",
              "\n",
              "    .dataframe tbody tr th {\n",
              "        vertical-align: top;\n",
              "    }\n",
              "\n",
              "    .dataframe thead th {\n",
              "        text-align: right;\n",
              "    }\n",
              "</style>\n",
              "<table border=\"1\" class=\"dataframe\">\n",
              "  <thead>\n",
              "    <tr style=\"text-align: right;\">\n",
              "      <th></th>\n",
              "      <th>X1110008F13Rik</th>\n",
              "      <th>X1110038B12Rik</th>\n",
              "      <th>X1810011O10Rik</th>\n",
              "      <th>X2210010C04Rik</th>\n",
              "      <th>X2210016F16Rik</th>\n",
              "      <th>X2510009E07Rik</th>\n",
              "      <th>X2810403A07Rik</th>\n",
              "      <th>X4632427E13Rik</th>\n",
              "      <th>X4932438A13Rik</th>\n",
              "      <th>X5330417C22Rik</th>\n",
              "      <th>X8430408G22Rik</th>\n",
              "      <th>AW112010</th>\n",
              "      <th>AW549877</th>\n",
              "      <th>Abca1</th>\n",
              "      <th>Abca3</th>\n",
              "      <th>Abcc8</th>\n",
              "      <th>Ace2</th>\n",
              "      <th>Ackr3</th>\n",
              "      <th>Acly</th>\n",
              "      <th>Acp5</th>\n",
              "      <th>Actb</th>\n",
              "      <th>Actg1</th>\n",
              "      <th>Actl6a</th>\n",
              "      <th>Actn1</th>\n",
              "      <th>Actn4</th>\n",
              "      <th>Adam8</th>\n",
              "      <th>Adamts1</th>\n",
              "      <th>Adgrl1</th>\n",
              "      <th>Adgrl2</th>\n",
              "      <th>Adgrl4</th>\n",
              "      <th>Adm</th>\n",
              "      <th>Aebp2</th>\n",
              "      <th>Aftph</th>\n",
              "      <th>Ago2</th>\n",
              "      <th>Agrn</th>\n",
              "      <th>Ahnak</th>\n",
              "      <th>Ajuba</th>\n",
              "      <th>Akap12</th>\n",
              "      <th>Akr1b8</th>\n",
              "      <th>Alcam</th>\n",
              "      <th>...</th>\n",
              "      <th>Utrn</th>\n",
              "      <th>Vcam1</th>\n",
              "      <th>Vezf1</th>\n",
              "      <th>Vgf</th>\n",
              "      <th>Vim</th>\n",
              "      <th>Vldlr</th>\n",
              "      <th>Vmp1</th>\n",
              "      <th>Vwa1</th>\n",
              "      <th>Vwf</th>\n",
              "      <th>Wars</th>\n",
              "      <th>Wasf2</th>\n",
              "      <th>Wbp5</th>\n",
              "      <th>Wdfy3</th>\n",
              "      <th>Wfdc18</th>\n",
              "      <th>Wfdc2</th>\n",
              "      <th>Wfs1</th>\n",
              "      <th>Wipi1</th>\n",
              "      <th>Wls</th>\n",
              "      <th>Wnt4</th>\n",
              "      <th>Wnt7a</th>\n",
              "      <th>Wrnip1</th>\n",
              "      <th>Wwc1</th>\n",
              "      <th>Wwc2</th>\n",
              "      <th>Wwtr1</th>\n",
              "      <th>Xist</th>\n",
              "      <th>Ypel2</th>\n",
              "      <th>Ypel3</th>\n",
              "      <th>Zc3h7a</th>\n",
              "      <th>Zcchc12</th>\n",
              "      <th>Zcchc18</th>\n",
              "      <th>Zdhhc2</th>\n",
              "      <th>Zfand5</th>\n",
              "      <th>Zfhx2</th>\n",
              "      <th>Zfos1</th>\n",
              "      <th>Zfp36</th>\n",
              "      <th>Zfp36l1</th>\n",
              "      <th>Zfp36l2</th>\n",
              "      <th>Zfp523</th>\n",
              "      <th>Zmynd11</th>\n",
              "      <th>Zranb2</th>\n",
              "    </tr>\n",
              "  </thead>\n",
              "  <tbody>\n",
              "    <tr>\n",
              "      <th>0</th>\n",
              "      <td>0.000000</td>\n",
              "      <td>0.000000</td>\n",
              "      <td>0.000000</td>\n",
              "      <td>0.0</td>\n",
              "      <td>0.000000</td>\n",
              "      <td>0.000000</td>\n",
              "      <td>1.746164</td>\n",
              "      <td>0.0</td>\n",
              "      <td>1.008149</td>\n",
              "      <td>1.425737</td>\n",
              "      <td>1.008149</td>\n",
              "      <td>0.0</td>\n",
              "      <td>0.000000</td>\n",
              "      <td>0.000000</td>\n",
              "      <td>0.0</td>\n",
              "      <td>3.024446</td>\n",
              "      <td>0.0</td>\n",
              "      <td>0.0</td>\n",
              "      <td>2.851475</td>\n",
              "      <td>0.0</td>\n",
              "      <td>2.851475</td>\n",
              "      <td>3.492329</td>\n",
              "      <td>0.000000</td>\n",
              "      <td>0.000000</td>\n",
              "      <td>1.008149</td>\n",
              "      <td>0.0</td>\n",
              "      <td>0.0</td>\n",
              "      <td>0.0</td>\n",
              "      <td>0.0</td>\n",
              "      <td>0.0</td>\n",
              "      <td>0.0</td>\n",
              "      <td>1.008149</td>\n",
              "      <td>1.008149</td>\n",
              "      <td>0.000000</td>\n",
              "      <td>0.0</td>\n",
              "      <td>0.000000</td>\n",
              "      <td>0.0</td>\n",
              "      <td>0.000000</td>\n",
              "      <td>0.000000</td>\n",
              "      <td>1.746164</td>\n",
              "      <td>...</td>\n",
              "      <td>1.008149</td>\n",
              "      <td>0.000000</td>\n",
              "      <td>0.0</td>\n",
              "      <td>1.425737</td>\n",
              "      <td>0.000000</td>\n",
              "      <td>1.425737</td>\n",
              "      <td>0.000000</td>\n",
              "      <td>0.0</td>\n",
              "      <td>0.0</td>\n",
              "      <td>0.000000</td>\n",
              "      <td>0.000000</td>\n",
              "      <td>2.016297</td>\n",
              "      <td>0.0</td>\n",
              "      <td>0.0</td>\n",
              "      <td>0.0</td>\n",
              "      <td>2.016297</td>\n",
              "      <td>0.000000</td>\n",
              "      <td>0.000000</td>\n",
              "      <td>0.000000</td>\n",
              "      <td>0.0</td>\n",
              "      <td>1.008149</td>\n",
              "      <td>1.425737</td>\n",
              "      <td>0.000000</td>\n",
              "      <td>0.000000</td>\n",
              "      <td>0.000000</td>\n",
              "      <td>0.0</td>\n",
              "      <td>1.746164</td>\n",
              "      <td>1.425737</td>\n",
              "      <td>1.425737</td>\n",
              "      <td>1.008149</td>\n",
              "      <td>0.000000</td>\n",
              "      <td>1.008149</td>\n",
              "      <td>0.000000</td>\n",
              "      <td>0.000000</td>\n",
              "      <td>1.425737</td>\n",
              "      <td>0.0</td>\n",
              "      <td>0.000000</td>\n",
              "      <td>1.008149</td>\n",
              "      <td>1.008149</td>\n",
              "      <td>1.425737</td>\n",
              "    </tr>\n",
              "    <tr>\n",
              "      <th>1</th>\n",
              "      <td>1.868914</td>\n",
              "      <td>1.525962</td>\n",
              "      <td>1.868914</td>\n",
              "      <td>0.0</td>\n",
              "      <td>0.000000</td>\n",
              "      <td>0.000000</td>\n",
              "      <td>0.000000</td>\n",
              "      <td>0.0</td>\n",
              "      <td>0.000000</td>\n",
              "      <td>0.000000</td>\n",
              "      <td>0.000000</td>\n",
              "      <td>0.0</td>\n",
              "      <td>0.000000</td>\n",
              "      <td>0.000000</td>\n",
              "      <td>0.0</td>\n",
              "      <td>0.000000</td>\n",
              "      <td>0.0</td>\n",
              "      <td>0.0</td>\n",
              "      <td>1.525962</td>\n",
              "      <td>0.0</td>\n",
              "      <td>10.897548</td>\n",
              "      <td>10.064410</td>\n",
              "      <td>0.000000</td>\n",
              "      <td>7.238273</td>\n",
              "      <td>3.890455</td>\n",
              "      <td>0.0</td>\n",
              "      <td>0.0</td>\n",
              "      <td>0.0</td>\n",
              "      <td>0.0</td>\n",
              "      <td>0.0</td>\n",
              "      <td>0.0</td>\n",
              "      <td>2.158036</td>\n",
              "      <td>1.079018</td>\n",
              "      <td>1.525962</td>\n",
              "      <td>0.0</td>\n",
              "      <td>6.198487</td>\n",
              "      <td>0.0</td>\n",
              "      <td>1.525962</td>\n",
              "      <td>2.158036</td>\n",
              "      <td>0.000000</td>\n",
              "      <td>...</td>\n",
              "      <td>1.079018</td>\n",
              "      <td>4.316072</td>\n",
              "      <td>0.0</td>\n",
              "      <td>0.000000</td>\n",
              "      <td>14.516703</td>\n",
              "      <td>0.000000</td>\n",
              "      <td>2.643044</td>\n",
              "      <td>0.0</td>\n",
              "      <td>0.0</td>\n",
              "      <td>0.000000</td>\n",
              "      <td>1.079018</td>\n",
              "      <td>0.000000</td>\n",
              "      <td>0.0</td>\n",
              "      <td>0.0</td>\n",
              "      <td>0.0</td>\n",
              "      <td>0.000000</td>\n",
              "      <td>0.000000</td>\n",
              "      <td>1.079018</td>\n",
              "      <td>0.000000</td>\n",
              "      <td>0.0</td>\n",
              "      <td>0.000000</td>\n",
              "      <td>0.000000</td>\n",
              "      <td>1.079018</td>\n",
              "      <td>1.525962</td>\n",
              "      <td>3.737828</td>\n",
              "      <td>0.0</td>\n",
              "      <td>0.000000</td>\n",
              "      <td>0.000000</td>\n",
              "      <td>0.000000</td>\n",
              "      <td>0.000000</td>\n",
              "      <td>1.079018</td>\n",
              "      <td>0.000000</td>\n",
              "      <td>0.000000</td>\n",
              "      <td>1.079018</td>\n",
              "      <td>1.079018</td>\n",
              "      <td>0.0</td>\n",
              "      <td>1.079018</td>\n",
              "      <td>1.079018</td>\n",
              "      <td>0.000000</td>\n",
              "      <td>0.000000</td>\n",
              "    </tr>\n",
              "    <tr>\n",
              "      <th>2</th>\n",
              "      <td>1.145122</td>\n",
              "      <td>1.145122</td>\n",
              "      <td>0.000000</td>\n",
              "      <td>0.0</td>\n",
              "      <td>1.145122</td>\n",
              "      <td>0.000000</td>\n",
              "      <td>0.000000</td>\n",
              "      <td>0.0</td>\n",
              "      <td>0.000000</td>\n",
              "      <td>2.560570</td>\n",
              "      <td>0.000000</td>\n",
              "      <td>0.0</td>\n",
              "      <td>0.000000</td>\n",
              "      <td>1.145122</td>\n",
              "      <td>0.0</td>\n",
              "      <td>2.804964</td>\n",
              "      <td>0.0</td>\n",
              "      <td>0.0</td>\n",
              "      <td>1.619446</td>\n",
              "      <td>0.0</td>\n",
              "      <td>1.619446</td>\n",
              "      <td>4.128795</td>\n",
              "      <td>1.619446</td>\n",
              "      <td>0.000000</td>\n",
              "      <td>1.619446</td>\n",
              "      <td>0.0</td>\n",
              "      <td>0.0</td>\n",
              "      <td>0.0</td>\n",
              "      <td>0.0</td>\n",
              "      <td>0.0</td>\n",
              "      <td>0.0</td>\n",
              "      <td>0.000000</td>\n",
              "      <td>0.000000</td>\n",
              "      <td>0.000000</td>\n",
              "      <td>0.0</td>\n",
              "      <td>0.000000</td>\n",
              "      <td>0.0</td>\n",
              "      <td>0.000000</td>\n",
              "      <td>0.000000</td>\n",
              "      <td>1.619446</td>\n",
              "      <td>...</td>\n",
              "      <td>1.145122</td>\n",
              "      <td>0.000000</td>\n",
              "      <td>0.0</td>\n",
              "      <td>2.290243</td>\n",
              "      <td>0.000000</td>\n",
              "      <td>1.619446</td>\n",
              "      <td>0.000000</td>\n",
              "      <td>0.0</td>\n",
              "      <td>0.0</td>\n",
              "      <td>0.000000</td>\n",
              "      <td>0.000000</td>\n",
              "      <td>3.238893</td>\n",
              "      <td>0.0</td>\n",
              "      <td>0.0</td>\n",
              "      <td>0.0</td>\n",
              "      <td>1.619446</td>\n",
              "      <td>1.145122</td>\n",
              "      <td>1.145122</td>\n",
              "      <td>0.000000</td>\n",
              "      <td>0.0</td>\n",
              "      <td>0.000000</td>\n",
              "      <td>1.145122</td>\n",
              "      <td>0.000000</td>\n",
              "      <td>0.000000</td>\n",
              "      <td>4.435037</td>\n",
              "      <td>0.0</td>\n",
              "      <td>1.619446</td>\n",
              "      <td>0.000000</td>\n",
              "      <td>0.000000</td>\n",
              "      <td>1.619446</td>\n",
              "      <td>1.983409</td>\n",
              "      <td>0.000000</td>\n",
              "      <td>0.000000</td>\n",
              "      <td>1.145122</td>\n",
              "      <td>0.000000</td>\n",
              "      <td>0.0</td>\n",
              "      <td>0.000000</td>\n",
              "      <td>1.145122</td>\n",
              "      <td>0.000000</td>\n",
              "      <td>1.145122</td>\n",
              "    </tr>\n",
              "    <tr>\n",
              "      <th>3</th>\n",
              "      <td>0.000000</td>\n",
              "      <td>0.000000</td>\n",
              "      <td>0.000000</td>\n",
              "      <td>0.0</td>\n",
              "      <td>0.000000</td>\n",
              "      <td>1.050538</td>\n",
              "      <td>0.000000</td>\n",
              "      <td>0.0</td>\n",
              "      <td>0.000000</td>\n",
              "      <td>1.050538</td>\n",
              "      <td>0.000000</td>\n",
              "      <td>0.0</td>\n",
              "      <td>0.000000</td>\n",
              "      <td>0.000000</td>\n",
              "      <td>0.0</td>\n",
              "      <td>1.485686</td>\n",
              "      <td>0.0</td>\n",
              "      <td>0.0</td>\n",
              "      <td>2.349075</td>\n",
              "      <td>0.0</td>\n",
              "      <td>3.151615</td>\n",
              "      <td>5.849150</td>\n",
              "      <td>0.000000</td>\n",
              "      <td>1.485686</td>\n",
              "      <td>0.000000</td>\n",
              "      <td>0.0</td>\n",
              "      <td>0.0</td>\n",
              "      <td>0.0</td>\n",
              "      <td>0.0</td>\n",
              "      <td>0.0</td>\n",
              "      <td>0.0</td>\n",
              "      <td>0.000000</td>\n",
              "      <td>0.000000</td>\n",
              "      <td>2.349075</td>\n",
              "      <td>0.0</td>\n",
              "      <td>0.000000</td>\n",
              "      <td>0.0</td>\n",
              "      <td>0.000000</td>\n",
              "      <td>0.000000</td>\n",
              "      <td>0.000000</td>\n",
              "      <td>...</td>\n",
              "      <td>0.000000</td>\n",
              "      <td>0.000000</td>\n",
              "      <td>0.0</td>\n",
              "      <td>4.457057</td>\n",
              "      <td>0.000000</td>\n",
              "      <td>1.485686</td>\n",
              "      <td>1.485686</td>\n",
              "      <td>0.0</td>\n",
              "      <td>0.0</td>\n",
              "      <td>1.050538</td>\n",
              "      <td>1.485686</td>\n",
              "      <td>3.322094</td>\n",
              "      <td>0.0</td>\n",
              "      <td>0.0</td>\n",
              "      <td>0.0</td>\n",
              "      <td>0.000000</td>\n",
              "      <td>2.101077</td>\n",
              "      <td>0.000000</td>\n",
              "      <td>1.050538</td>\n",
              "      <td>0.0</td>\n",
              "      <td>1.819586</td>\n",
              "      <td>0.000000</td>\n",
              "      <td>0.000000</td>\n",
              "      <td>0.000000</td>\n",
              "      <td>2.573283</td>\n",
              "      <td>0.0</td>\n",
              "      <td>1.819586</td>\n",
              "      <td>1.050538</td>\n",
              "      <td>0.000000</td>\n",
              "      <td>0.000000</td>\n",
              "      <td>1.050538</td>\n",
              "      <td>0.000000</td>\n",
              "      <td>1.485686</td>\n",
              "      <td>0.000000</td>\n",
              "      <td>0.000000</td>\n",
              "      <td>0.0</td>\n",
              "      <td>1.050538</td>\n",
              "      <td>0.000000</td>\n",
              "      <td>0.000000</td>\n",
              "      <td>2.101077</td>\n",
              "    </tr>\n",
              "    <tr>\n",
              "      <th>4</th>\n",
              "      <td>1.661139</td>\n",
              "      <td>0.959059</td>\n",
              "      <td>0.000000</td>\n",
              "      <td>0.0</td>\n",
              "      <td>0.000000</td>\n",
              "      <td>0.000000</td>\n",
              "      <td>0.000000</td>\n",
              "      <td>0.0</td>\n",
              "      <td>0.000000</td>\n",
              "      <td>1.661139</td>\n",
              "      <td>0.000000</td>\n",
              "      <td>0.0</td>\n",
              "      <td>1.356314</td>\n",
              "      <td>0.000000</td>\n",
              "      <td>0.0</td>\n",
              "      <td>1.356314</td>\n",
              "      <td>0.0</td>\n",
              "      <td>0.0</td>\n",
              "      <td>1.661139</td>\n",
              "      <td>0.0</td>\n",
              "      <td>1.918118</td>\n",
              "      <td>1.918118</td>\n",
              "      <td>1.356314</td>\n",
              "      <td>0.959059</td>\n",
              "      <td>1.356314</td>\n",
              "      <td>0.0</td>\n",
              "      <td>0.0</td>\n",
              "      <td>0.0</td>\n",
              "      <td>0.0</td>\n",
              "      <td>0.0</td>\n",
              "      <td>0.0</td>\n",
              "      <td>1.356314</td>\n",
              "      <td>0.959059</td>\n",
              "      <td>2.144521</td>\n",
              "      <td>0.0</td>\n",
              "      <td>0.000000</td>\n",
              "      <td>0.0</td>\n",
              "      <td>0.000000</td>\n",
              "      <td>0.000000</td>\n",
              "      <td>1.661139</td>\n",
              "      <td>...</td>\n",
              "      <td>0.000000</td>\n",
              "      <td>0.000000</td>\n",
              "      <td>0.0</td>\n",
              "      <td>2.712628</td>\n",
              "      <td>0.000000</td>\n",
              "      <td>1.356314</td>\n",
              "      <td>0.959059</td>\n",
              "      <td>0.0</td>\n",
              "      <td>0.0</td>\n",
              "      <td>1.356314</td>\n",
              "      <td>1.356314</td>\n",
              "      <td>3.457936</td>\n",
              "      <td>0.0</td>\n",
              "      <td>0.0</td>\n",
              "      <td>0.0</td>\n",
              "      <td>0.959059</td>\n",
              "      <td>0.000000</td>\n",
              "      <td>2.144521</td>\n",
              "      <td>0.000000</td>\n",
              "      <td>0.0</td>\n",
              "      <td>0.959059</td>\n",
              "      <td>0.000000</td>\n",
              "      <td>0.959059</td>\n",
              "      <td>0.000000</td>\n",
              "      <td>2.144521</td>\n",
              "      <td>0.0</td>\n",
              "      <td>1.661139</td>\n",
              "      <td>0.000000</td>\n",
              "      <td>0.959059</td>\n",
              "      <td>0.959059</td>\n",
              "      <td>0.000000</td>\n",
              "      <td>1.661139</td>\n",
              "      <td>2.144521</td>\n",
              "      <td>1.356314</td>\n",
              "      <td>0.000000</td>\n",
              "      <td>0.0</td>\n",
              "      <td>0.000000</td>\n",
              "      <td>0.000000</td>\n",
              "      <td>0.000000</td>\n",
              "      <td>1.356314</td>\n",
              "    </tr>\n",
              "  </tbody>\n",
              "</table>\n",
              "<p>5 rows × 1238 columns</p>\n",
              "</div>\n",
              "      <button class=\"colab-df-convert\" onclick=\"convertToInteractive('df-cdaf8a6c-689a-45d2-a56a-4061721d5b17')\"\n",
              "              title=\"Convert this dataframe to an interactive table.\"\n",
              "              style=\"display:none;\">\n",
              "        \n",
              "  <svg xmlns=\"http://www.w3.org/2000/svg\" height=\"24px\"viewBox=\"0 0 24 24\"\n",
              "       width=\"24px\">\n",
              "    <path d=\"M0 0h24v24H0V0z\" fill=\"none\"/>\n",
              "    <path d=\"M18.56 5.44l.94 2.06.94-2.06 2.06-.94-2.06-.94-.94-2.06-.94 2.06-2.06.94zm-11 1L8.5 8.5l.94-2.06 2.06-.94-2.06-.94L8.5 2.5l-.94 2.06-2.06.94zm10 10l.94 2.06.94-2.06 2.06-.94-2.06-.94-.94-2.06-.94 2.06-2.06.94z\"/><path d=\"M17.41 7.96l-1.37-1.37c-.4-.4-.92-.59-1.43-.59-.52 0-1.04.2-1.43.59L10.3 9.45l-7.72 7.72c-.78.78-.78 2.05 0 2.83L4 21.41c.39.39.9.59 1.41.59.51 0 1.02-.2 1.41-.59l7.78-7.78 2.81-2.81c.8-.78.8-2.07 0-2.86zM5.41 20L4 18.59l7.72-7.72 1.47 1.35L5.41 20z\"/>\n",
              "  </svg>\n",
              "      </button>\n",
              "      \n",
              "  <style>\n",
              "    .colab-df-container {\n",
              "      display:flex;\n",
              "      flex-wrap:wrap;\n",
              "      gap: 12px;\n",
              "    }\n",
              "\n",
              "    .colab-df-convert {\n",
              "      background-color: #E8F0FE;\n",
              "      border: none;\n",
              "      border-radius: 50%;\n",
              "      cursor: pointer;\n",
              "      display: none;\n",
              "      fill: #1967D2;\n",
              "      height: 32px;\n",
              "      padding: 0 0 0 0;\n",
              "      width: 32px;\n",
              "    }\n",
              "\n",
              "    .colab-df-convert:hover {\n",
              "      background-color: #E2EBFA;\n",
              "      box-shadow: 0px 1px 2px rgba(60, 64, 67, 0.3), 0px 1px 3px 1px rgba(60, 64, 67, 0.15);\n",
              "      fill: #174EA6;\n",
              "    }\n",
              "\n",
              "    [theme=dark] .colab-df-convert {\n",
              "      background-color: #3B4455;\n",
              "      fill: #D2E3FC;\n",
              "    }\n",
              "\n",
              "    [theme=dark] .colab-df-convert:hover {\n",
              "      background-color: #434B5C;\n",
              "      box-shadow: 0px 1px 3px 1px rgba(0, 0, 0, 0.15);\n",
              "      filter: drop-shadow(0px 1px 2px rgba(0, 0, 0, 0.3));\n",
              "      fill: #FFFFFF;\n",
              "    }\n",
              "  </style>\n",
              "\n",
              "      <script>\n",
              "        const buttonEl =\n",
              "          document.querySelector('#df-cdaf8a6c-689a-45d2-a56a-4061721d5b17 button.colab-df-convert');\n",
              "        buttonEl.style.display =\n",
              "          google.colab.kernel.accessAllowed ? 'block' : 'none';\n",
              "\n",
              "        async function convertToInteractive(key) {\n",
              "          const element = document.querySelector('#df-cdaf8a6c-689a-45d2-a56a-4061721d5b17');\n",
              "          const dataTable =\n",
              "            await google.colab.kernel.invokeFunction('convertToInteractive',\n",
              "                                                     [key], {});\n",
              "          if (!dataTable) return;\n",
              "\n",
              "          const docLinkHtml = 'Like what you see? Visit the ' +\n",
              "            '<a target=\"_blank\" href=https://colab.research.google.com/notebooks/data_table.ipynb>data table notebook</a>'\n",
              "            + ' to learn more about interactive tables.';\n",
              "          element.innerHTML = '';\n",
              "          dataTable['output_type'] = 'display_data';\n",
              "          await google.colab.output.renderOutput(dataTable, element);\n",
              "          const docLink = document.createElement('div');\n",
              "          docLink.innerHTML = docLinkHtml;\n",
              "          element.appendChild(docLink);\n",
              "        }\n",
              "      </script>\n",
              "    </div>\n",
              "  </div>\n",
              "  "
            ],
            "text/plain": [
              "   X1110008F13Rik  X1110038B12Rik  X1810011O10Rik  ...    Zfp523   Zmynd11    Zranb2\n",
              "0        0.000000        0.000000        0.000000  ...  1.008149  1.008149  1.425737\n",
              "1        1.868914        1.525962        1.868914  ...  1.079018  0.000000  0.000000\n",
              "2        1.145122        1.145122        0.000000  ...  1.145122  0.000000  1.145122\n",
              "3        0.000000        0.000000        0.000000  ...  0.000000  0.000000  2.101077\n",
              "4        1.661139        0.959059        0.000000  ...  0.000000  0.000000  1.356314\n",
              "\n",
              "[5 rows x 1238 columns]"
            ]
          },
          "metadata": {},
          "execution_count": 268
        }
      ]
    },
    {
      "cell_type": "markdown",
      "metadata": {
        "id": "eM5GWDv_ScjG"
      },
      "source": [
        "# Scaling data (if required)"
      ]
    },
    {
      "cell_type": "code",
      "metadata": {
        "id": "NFsmycwG3-mO",
        "colab": {
          "base_uri": "https://localhost:8080/",
          "height": 300
        },
        "outputId": "409756ea-7a20-43a6-e558-2b5bfaef5116"
      },
      "source": [
        "%%script false\n",
        "#only for scanpy pre-processed data (PBMC - 10x Genomics)\n",
        "from sklearn.preprocessing import MinMaxScaler\n",
        "scaler = MinMaxScaler()\n",
        "data = pd.DataFrame(scaler.fit_transform(data))\n",
        "data.head()"
      ],
      "execution_count": null,
      "outputs": [
        {
          "output_type": "execute_result",
          "data": {
            "text/html": [
              "\n",
              "  <div id=\"df-1a29cc84-b7d7-4e0d-9093-811d0a429b86\">\n",
              "    <div class=\"colab-df-container\">\n",
              "      <div>\n",
              "<style scoped>\n",
              "    .dataframe tbody tr th:only-of-type {\n",
              "        vertical-align: middle;\n",
              "    }\n",
              "\n",
              "    .dataframe tbody tr th {\n",
              "        vertical-align: top;\n",
              "    }\n",
              "\n",
              "    .dataframe thead th {\n",
              "        text-align: right;\n",
              "    }\n",
              "</style>\n",
              "<table border=\"1\" class=\"dataframe\">\n",
              "  <thead>\n",
              "    <tr style=\"text-align: right;\">\n",
              "      <th></th>\n",
              "      <th>0</th>\n",
              "      <th>1</th>\n",
              "      <th>2</th>\n",
              "      <th>3</th>\n",
              "      <th>4</th>\n",
              "      <th>5</th>\n",
              "      <th>6</th>\n",
              "      <th>7</th>\n",
              "      <th>8</th>\n",
              "      <th>9</th>\n",
              "      <th>10</th>\n",
              "      <th>11</th>\n",
              "      <th>12</th>\n",
              "      <th>13</th>\n",
              "      <th>14</th>\n",
              "      <th>15</th>\n",
              "      <th>16</th>\n",
              "      <th>17</th>\n",
              "      <th>18</th>\n",
              "      <th>19</th>\n",
              "      <th>20</th>\n",
              "      <th>21</th>\n",
              "      <th>22</th>\n",
              "      <th>23</th>\n",
              "      <th>24</th>\n",
              "      <th>25</th>\n",
              "      <th>26</th>\n",
              "      <th>27</th>\n",
              "      <th>28</th>\n",
              "      <th>29</th>\n",
              "      <th>30</th>\n",
              "      <th>31</th>\n",
              "      <th>32</th>\n",
              "      <th>33</th>\n",
              "      <th>34</th>\n",
              "      <th>35</th>\n",
              "      <th>36</th>\n",
              "      <th>37</th>\n",
              "      <th>38</th>\n",
              "      <th>39</th>\n",
              "      <th>...</th>\n",
              "      <th>1798</th>\n",
              "      <th>1799</th>\n",
              "      <th>1800</th>\n",
              "      <th>1801</th>\n",
              "      <th>1802</th>\n",
              "      <th>1803</th>\n",
              "      <th>1804</th>\n",
              "      <th>1805</th>\n",
              "      <th>1806</th>\n",
              "      <th>1807</th>\n",
              "      <th>1808</th>\n",
              "      <th>1809</th>\n",
              "      <th>1810</th>\n",
              "      <th>1811</th>\n",
              "      <th>1812</th>\n",
              "      <th>1813</th>\n",
              "      <th>1814</th>\n",
              "      <th>1815</th>\n",
              "      <th>1816</th>\n",
              "      <th>1817</th>\n",
              "      <th>1818</th>\n",
              "      <th>1819</th>\n",
              "      <th>1820</th>\n",
              "      <th>1821</th>\n",
              "      <th>1822</th>\n",
              "      <th>1823</th>\n",
              "      <th>1824</th>\n",
              "      <th>1825</th>\n",
              "      <th>1826</th>\n",
              "      <th>1827</th>\n",
              "      <th>1828</th>\n",
              "      <th>1829</th>\n",
              "      <th>1830</th>\n",
              "      <th>1831</th>\n",
              "      <th>1832</th>\n",
              "      <th>1833</th>\n",
              "      <th>1834</th>\n",
              "      <th>1835</th>\n",
              "      <th>1836</th>\n",
              "      <th>1837</th>\n",
              "    </tr>\n",
              "  </thead>\n",
              "  <tbody>\n",
              "    <tr>\n",
              "      <th>0</th>\n",
              "      <td>0.045944</td>\n",
              "      <td>0.020964</td>\n",
              "      <td>0.003329</td>\n",
              "      <td>0.065041</td>\n",
              "      <td>0.098972</td>\n",
              "      <td>0.519241</td>\n",
              "      <td>0.011867</td>\n",
              "      <td>0.039877</td>\n",
              "      <td>0.077767</td>\n",
              "      <td>0.006520</td>\n",
              "      <td>0.007421</td>\n",
              "      <td>0.089177</td>\n",
              "      <td>0.007239</td>\n",
              "      <td>0.409255</td>\n",
              "      <td>0.010921</td>\n",
              "      <td>0.027177</td>\n",
              "      <td>0.103203</td>\n",
              "      <td>0.354183</td>\n",
              "      <td>0.008121</td>\n",
              "      <td>0.111475</td>\n",
              "      <td>0.098582</td>\n",
              "      <td>0.035925</td>\n",
              "      <td>0.079789</td>\n",
              "      <td>0.013480</td>\n",
              "      <td>0.018075</td>\n",
              "      <td>0.325544</td>\n",
              "      <td>0.038243</td>\n",
              "      <td>0.045311</td>\n",
              "      <td>0.024786</td>\n",
              "      <td>0.015298</td>\n",
              "      <td>0.015621</td>\n",
              "      <td>0.008202</td>\n",
              "      <td>0.057302</td>\n",
              "      <td>0.020062</td>\n",
              "      <td>0.022119</td>\n",
              "      <td>0.044110</td>\n",
              "      <td>0.011326</td>\n",
              "      <td>0.023074</td>\n",
              "      <td>0.038858</td>\n",
              "      <td>0.039353</td>\n",
              "      <td>...</td>\n",
              "      <td>0.018070</td>\n",
              "      <td>0.456524</td>\n",
              "      <td>0.172080</td>\n",
              "      <td>0.075381</td>\n",
              "      <td>0.307621</td>\n",
              "      <td>0.069332</td>\n",
              "      <td>0.041808</td>\n",
              "      <td>0.055800</td>\n",
              "      <td>0.076373</td>\n",
              "      <td>0.012192</td>\n",
              "      <td>0.078321</td>\n",
              "      <td>0.027147</td>\n",
              "      <td>0.026079</td>\n",
              "      <td>0.012669</td>\n",
              "      <td>0.388715</td>\n",
              "      <td>0.050799</td>\n",
              "      <td>0.009529</td>\n",
              "      <td>0.030331</td>\n",
              "      <td>0.037252</td>\n",
              "      <td>0.034376</td>\n",
              "      <td>0.229319</td>\n",
              "      <td>0.005353</td>\n",
              "      <td>0.032408</td>\n",
              "      <td>0.019436</td>\n",
              "      <td>0.005457</td>\n",
              "      <td>0.038461</td>\n",
              "      <td>0.015020</td>\n",
              "      <td>0.090310</td>\n",
              "      <td>0.004921</td>\n",
              "      <td>0.360771</td>\n",
              "      <td>0.029362</td>\n",
              "      <td>0.016092</td>\n",
              "      <td>0.008160</td>\n",
              "      <td>0.055039</td>\n",
              "      <td>0.040082</td>\n",
              "      <td>0.007378</td>\n",
              "      <td>0.089512</td>\n",
              "      <td>0.043047</td>\n",
              "      <td>0.016750</td>\n",
              "      <td>0.014161</td>\n",
              "    </tr>\n",
              "    <tr>\n",
              "      <th>1</th>\n",
              "      <td>0.041203</td>\n",
              "      <td>0.012218</td>\n",
              "      <td>0.002522</td>\n",
              "      <td>0.038939</td>\n",
              "      <td>0.241584</td>\n",
              "      <td>0.020298</td>\n",
              "      <td>0.011122</td>\n",
              "      <td>0.019547</td>\n",
              "      <td>0.054449</td>\n",
              "      <td>0.005190</td>\n",
              "      <td>0.013758</td>\n",
              "      <td>0.219758</td>\n",
              "      <td>0.002435</td>\n",
              "      <td>0.051838</td>\n",
              "      <td>0.011851</td>\n",
              "      <td>0.401764</td>\n",
              "      <td>0.221459</td>\n",
              "      <td>0.210819</td>\n",
              "      <td>0.013097</td>\n",
              "      <td>0.050336</td>\n",
              "      <td>0.055795</td>\n",
              "      <td>0.022986</td>\n",
              "      <td>0.043947</td>\n",
              "      <td>0.007511</td>\n",
              "      <td>0.025721</td>\n",
              "      <td>0.027927</td>\n",
              "      <td>0.030536</td>\n",
              "      <td>0.019832</td>\n",
              "      <td>0.029105</td>\n",
              "      <td>0.009799</td>\n",
              "      <td>0.011566</td>\n",
              "      <td>0.011288</td>\n",
              "      <td>0.035842</td>\n",
              "      <td>0.017189</td>\n",
              "      <td>0.021930</td>\n",
              "      <td>0.017584</td>\n",
              "      <td>0.005420</td>\n",
              "      <td>0.020315</td>\n",
              "      <td>0.020869</td>\n",
              "      <td>0.030778</td>\n",
              "      <td>...</td>\n",
              "      <td>0.009834</td>\n",
              "      <td>0.010319</td>\n",
              "      <td>0.088622</td>\n",
              "      <td>0.033817</td>\n",
              "      <td>0.019789</td>\n",
              "      <td>0.233630</td>\n",
              "      <td>0.023602</td>\n",
              "      <td>0.237015</td>\n",
              "      <td>0.042993</td>\n",
              "      <td>0.019072</td>\n",
              "      <td>0.045394</td>\n",
              "      <td>0.013300</td>\n",
              "      <td>0.014427</td>\n",
              "      <td>0.004555</td>\n",
              "      <td>0.007316</td>\n",
              "      <td>0.223177</td>\n",
              "      <td>0.019883</td>\n",
              "      <td>0.025580</td>\n",
              "      <td>0.022114</td>\n",
              "      <td>0.020892</td>\n",
              "      <td>0.091538</td>\n",
              "      <td>0.002179</td>\n",
              "      <td>0.023896</td>\n",
              "      <td>0.016094</td>\n",
              "      <td>0.003134</td>\n",
              "      <td>0.019762</td>\n",
              "      <td>0.011657</td>\n",
              "      <td>0.225865</td>\n",
              "      <td>0.001807</td>\n",
              "      <td>0.020891</td>\n",
              "      <td>0.020729</td>\n",
              "      <td>0.285721</td>\n",
              "      <td>0.018969</td>\n",
              "      <td>0.034400</td>\n",
              "      <td>0.228013</td>\n",
              "      <td>0.013558</td>\n",
              "      <td>0.053309</td>\n",
              "      <td>0.027072</td>\n",
              "      <td>0.006728</td>\n",
              "      <td>0.004810</td>\n",
              "    </tr>\n",
              "    <tr>\n",
              "      <th>2</th>\n",
              "      <td>0.023354</td>\n",
              "      <td>0.019605</td>\n",
              "      <td>0.002252</td>\n",
              "      <td>0.059299</td>\n",
              "      <td>0.326172</td>\n",
              "      <td>0.022712</td>\n",
              "      <td>0.005460</td>\n",
              "      <td>0.040629</td>\n",
              "      <td>0.059239</td>\n",
              "      <td>0.004097</td>\n",
              "      <td>0.012406</td>\n",
              "      <td>0.312801</td>\n",
              "      <td>0.009473</td>\n",
              "      <td>0.112543</td>\n",
              "      <td>0.003102</td>\n",
              "      <td>0.027823</td>\n",
              "      <td>0.091346</td>\n",
              "      <td>0.430715</td>\n",
              "      <td>0.005272</td>\n",
              "      <td>0.125874</td>\n",
              "      <td>0.094643</td>\n",
              "      <td>0.030569</td>\n",
              "      <td>0.078392</td>\n",
              "      <td>0.013117</td>\n",
              "      <td>0.008317</td>\n",
              "      <td>0.025850</td>\n",
              "      <td>0.023915</td>\n",
              "      <td>0.385786</td>\n",
              "      <td>0.005312</td>\n",
              "      <td>0.013001</td>\n",
              "      <td>0.010969</td>\n",
              "      <td>0.003392</td>\n",
              "      <td>0.049973</td>\n",
              "      <td>0.011152</td>\n",
              "      <td>0.008751</td>\n",
              "      <td>0.054112</td>\n",
              "      <td>0.012336</td>\n",
              "      <td>0.012179</td>\n",
              "      <td>0.307438</td>\n",
              "      <td>0.025375</td>\n",
              "      <td>...</td>\n",
              "      <td>0.017929</td>\n",
              "      <td>0.029500</td>\n",
              "      <td>0.178169</td>\n",
              "      <td>0.085445</td>\n",
              "      <td>0.034861</td>\n",
              "      <td>0.306555</td>\n",
              "      <td>0.037787</td>\n",
              "      <td>0.304714</td>\n",
              "      <td>0.069171</td>\n",
              "      <td>0.007327</td>\n",
              "      <td>0.351104</td>\n",
              "      <td>0.029114</td>\n",
              "      <td>0.022836</td>\n",
              "      <td>0.019620</td>\n",
              "      <td>0.353186</td>\n",
              "      <td>0.045408</td>\n",
              "      <td>0.014644</td>\n",
              "      <td>0.017347</td>\n",
              "      <td>0.304153</td>\n",
              "      <td>0.030881</td>\n",
              "      <td>0.247959</td>\n",
              "      <td>0.009100</td>\n",
              "      <td>0.022905</td>\n",
              "      <td>0.011469</td>\n",
              "      <td>0.004869</td>\n",
              "      <td>0.037121</td>\n",
              "      <td>0.009793</td>\n",
              "      <td>0.075512</td>\n",
              "      <td>0.006389</td>\n",
              "      <td>0.026760</td>\n",
              "      <td>0.022114</td>\n",
              "      <td>0.015752</td>\n",
              "      <td>0.011220</td>\n",
              "      <td>0.048037</td>\n",
              "      <td>0.030547</td>\n",
              "      <td>0.012403</td>\n",
              "      <td>0.082023</td>\n",
              "      <td>0.037324</td>\n",
              "      <td>0.020430</td>\n",
              "      <td>0.287094</td>\n",
              "    </tr>\n",
              "    <tr>\n",
              "      <th>3</th>\n",
              "      <td>0.033432</td>\n",
              "      <td>0.020876</td>\n",
              "      <td>0.002778</td>\n",
              "      <td>0.063818</td>\n",
              "      <td>0.355231</td>\n",
              "      <td>0.026271</td>\n",
              "      <td>0.008271</td>\n",
              "      <td>0.041904</td>\n",
              "      <td>0.069033</td>\n",
              "      <td>0.005243</td>\n",
              "      <td>0.009766</td>\n",
              "      <td>0.338569</td>\n",
              "      <td>0.008891</td>\n",
              "      <td>0.403462</td>\n",
              "      <td>0.006388</td>\n",
              "      <td>0.028565</td>\n",
              "      <td>0.099549</td>\n",
              "      <td>0.331111</td>\n",
              "      <td>0.006105</td>\n",
              "      <td>0.564123</td>\n",
              "      <td>0.099698</td>\n",
              "      <td>0.033887</td>\n",
              "      <td>0.081809</td>\n",
              "      <td>0.013742</td>\n",
              "      <td>0.011909</td>\n",
              "      <td>0.031538</td>\n",
              "      <td>0.030677</td>\n",
              "      <td>0.048729</td>\n",
              "      <td>0.013339</td>\n",
              "      <td>0.014420</td>\n",
              "      <td>0.013286</td>\n",
              "      <td>0.005216</td>\n",
              "      <td>0.054809</td>\n",
              "      <td>0.015206</td>\n",
              "      <td>0.014509</td>\n",
              "      <td>0.051899</td>\n",
              "      <td>0.012366</td>\n",
              "      <td>0.017077</td>\n",
              "      <td>0.038865</td>\n",
              "      <td>0.032054</td>\n",
              "      <td>...</td>\n",
              "      <td>0.018637</td>\n",
              "      <td>0.028633</td>\n",
              "      <td>0.182112</td>\n",
              "      <td>0.084387</td>\n",
              "      <td>0.036464</td>\n",
              "      <td>0.066781</td>\n",
              "      <td>0.040945</td>\n",
              "      <td>0.052078</td>\n",
              "      <td>0.421235</td>\n",
              "      <td>0.008876</td>\n",
              "      <td>0.388185</td>\n",
              "      <td>0.029357</td>\n",
              "      <td>0.025145</td>\n",
              "      <td>0.017272</td>\n",
              "      <td>0.028184</td>\n",
              "      <td>0.049916</td>\n",
              "      <td>0.011632</td>\n",
              "      <td>0.023299</td>\n",
              "      <td>0.036724</td>\n",
              "      <td>0.033442</td>\n",
              "      <td>0.591351</td>\n",
              "      <td>0.007740</td>\n",
              "      <td>0.027657</td>\n",
              "      <td>0.015155</td>\n",
              "      <td>0.005304</td>\n",
              "      <td>0.039166</td>\n",
              "      <td>0.012303</td>\n",
              "      <td>0.351700</td>\n",
              "      <td>0.006003</td>\n",
              "      <td>0.029926</td>\n",
              "      <td>0.025907</td>\n",
              "      <td>0.016521</td>\n",
              "      <td>0.009056</td>\n",
              "      <td>0.052667</td>\n",
              "      <td>0.317328</td>\n",
              "      <td>0.009758</td>\n",
              "      <td>0.321527</td>\n",
              "      <td>0.041038</td>\n",
              "      <td>0.019636</td>\n",
              "      <td>0.017810</td>\n",
              "    </tr>\n",
              "    <tr>\n",
              "      <th>4</th>\n",
              "      <td>0.036595</td>\n",
              "      <td>0.026718</td>\n",
              "      <td>0.003316</td>\n",
              "      <td>0.081251</td>\n",
              "      <td>0.124470</td>\n",
              "      <td>0.032310</td>\n",
              "      <td>0.008767</td>\n",
              "      <td>0.608355</td>\n",
              "      <td>0.084604</td>\n",
              "      <td>0.006131</td>\n",
              "      <td>0.005535</td>\n",
              "      <td>0.121518</td>\n",
              "      <td>0.012100</td>\n",
              "      <td>0.152523</td>\n",
              "      <td>0.005765</td>\n",
              "      <td>0.037226</td>\n",
              "      <td>0.125970</td>\n",
              "      <td>0.598748</td>\n",
              "      <td>0.002781</td>\n",
              "      <td>0.165332</td>\n",
              "      <td>0.128276</td>\n",
              "      <td>0.042529</td>\n",
              "      <td>0.105748</td>\n",
              "      <td>0.017730</td>\n",
              "      <td>0.006800</td>\n",
              "      <td>0.037839</td>\n",
              "      <td>0.035822</td>\n",
              "      <td>0.475027</td>\n",
              "      <td>0.010450</td>\n",
              "      <td>0.018092</td>\n",
              "      <td>0.015993</td>\n",
              "      <td>0.003154</td>\n",
              "      <td>0.069141</td>\n",
              "      <td>0.017123</td>\n",
              "      <td>0.014633</td>\n",
              "      <td>0.069619</td>\n",
              "      <td>0.016311</td>\n",
              "      <td>0.018918</td>\n",
              "      <td>0.050880</td>\n",
              "      <td>0.037778</td>\n",
              "      <td>...</td>\n",
              "      <td>0.024138</td>\n",
              "      <td>0.038325</td>\n",
              "      <td>0.237857</td>\n",
              "      <td>0.112151</td>\n",
              "      <td>0.047080</td>\n",
              "      <td>0.084460</td>\n",
              "      <td>0.053105</td>\n",
              "      <td>0.065096</td>\n",
              "      <td>0.097183</td>\n",
              "      <td>0.004280</td>\n",
              "      <td>0.087748</td>\n",
              "      <td>0.038606</td>\n",
              "      <td>0.032927</td>\n",
              "      <td>0.022693</td>\n",
              "      <td>0.037290</td>\n",
              "      <td>0.068543</td>\n",
              "      <td>0.004717</td>\n",
              "      <td>0.026470</td>\n",
              "      <td>0.046834</td>\n",
              "      <td>0.042448</td>\n",
              "      <td>0.342810</td>\n",
              "      <td>0.009861</td>\n",
              "      <td>0.033341</td>\n",
              "      <td>0.017385</td>\n",
              "      <td>0.006856</td>\n",
              "      <td>0.051656</td>\n",
              "      <td>0.014549</td>\n",
              "      <td>0.121430</td>\n",
              "      <td>0.008083</td>\n",
              "      <td>0.037400</td>\n",
              "      <td>0.031672</td>\n",
              "      <td>0.021811</td>\n",
              "      <td>0.001837</td>\n",
              "      <td>0.066451</td>\n",
              "      <td>0.043621</td>\n",
              "      <td>0.005632</td>\n",
              "      <td>0.112265</td>\n",
              "      <td>0.051707</td>\n",
              "      <td>0.026331</td>\n",
              "      <td>0.024057</td>\n",
              "    </tr>\n",
              "  </tbody>\n",
              "</table>\n",
              "<p>5 rows × 1838 columns</p>\n",
              "</div>\n",
              "      <button class=\"colab-df-convert\" onclick=\"convertToInteractive('df-1a29cc84-b7d7-4e0d-9093-811d0a429b86')\"\n",
              "              title=\"Convert this dataframe to an interactive table.\"\n",
              "              style=\"display:none;\">\n",
              "        \n",
              "  <svg xmlns=\"http://www.w3.org/2000/svg\" height=\"24px\"viewBox=\"0 0 24 24\"\n",
              "       width=\"24px\">\n",
              "    <path d=\"M0 0h24v24H0V0z\" fill=\"none\"/>\n",
              "    <path d=\"M18.56 5.44l.94 2.06.94-2.06 2.06-.94-2.06-.94-.94-2.06-.94 2.06-2.06.94zm-11 1L8.5 8.5l.94-2.06 2.06-.94-2.06-.94L8.5 2.5l-.94 2.06-2.06.94zm10 10l.94 2.06.94-2.06 2.06-.94-2.06-.94-.94-2.06-.94 2.06-2.06.94z\"/><path d=\"M17.41 7.96l-1.37-1.37c-.4-.4-.92-.59-1.43-.59-.52 0-1.04.2-1.43.59L10.3 9.45l-7.72 7.72c-.78.78-.78 2.05 0 2.83L4 21.41c.39.39.9.59 1.41.59.51 0 1.02-.2 1.41-.59l7.78-7.78 2.81-2.81c.8-.78.8-2.07 0-2.86zM5.41 20L4 18.59l7.72-7.72 1.47 1.35L5.41 20z\"/>\n",
              "  </svg>\n",
              "      </button>\n",
              "      \n",
              "  <style>\n",
              "    .colab-df-container {\n",
              "      display:flex;\n",
              "      flex-wrap:wrap;\n",
              "      gap: 12px;\n",
              "    }\n",
              "\n",
              "    .colab-df-convert {\n",
              "      background-color: #E8F0FE;\n",
              "      border: none;\n",
              "      border-radius: 50%;\n",
              "      cursor: pointer;\n",
              "      display: none;\n",
              "      fill: #1967D2;\n",
              "      height: 32px;\n",
              "      padding: 0 0 0 0;\n",
              "      width: 32px;\n",
              "    }\n",
              "\n",
              "    .colab-df-convert:hover {\n",
              "      background-color: #E2EBFA;\n",
              "      box-shadow: 0px 1px 2px rgba(60, 64, 67, 0.3), 0px 1px 3px 1px rgba(60, 64, 67, 0.15);\n",
              "      fill: #174EA6;\n",
              "    }\n",
              "\n",
              "    [theme=dark] .colab-df-convert {\n",
              "      background-color: #3B4455;\n",
              "      fill: #D2E3FC;\n",
              "    }\n",
              "\n",
              "    [theme=dark] .colab-df-convert:hover {\n",
              "      background-color: #434B5C;\n",
              "      box-shadow: 0px 1px 3px 1px rgba(0, 0, 0, 0.15);\n",
              "      filter: drop-shadow(0px 1px 2px rgba(0, 0, 0, 0.3));\n",
              "      fill: #FFFFFF;\n",
              "    }\n",
              "  </style>\n",
              "\n",
              "      <script>\n",
              "        const buttonEl =\n",
              "          document.querySelector('#df-1a29cc84-b7d7-4e0d-9093-811d0a429b86 button.colab-df-convert');\n",
              "        buttonEl.style.display =\n",
              "          google.colab.kernel.accessAllowed ? 'block' : 'none';\n",
              "\n",
              "        async function convertToInteractive(key) {\n",
              "          const element = document.querySelector('#df-1a29cc84-b7d7-4e0d-9093-811d0a429b86');\n",
              "          const dataTable =\n",
              "            await google.colab.kernel.invokeFunction('convertToInteractive',\n",
              "                                                     [key], {});\n",
              "          if (!dataTable) return;\n",
              "\n",
              "          const docLinkHtml = 'Like what you see? Visit the ' +\n",
              "            '<a target=\"_blank\" href=https://colab.research.google.com/notebooks/data_table.ipynb>data table notebook</a>'\n",
              "            + ' to learn more about interactive tables.';\n",
              "          element.innerHTML = '';\n",
              "          dataTable['output_type'] = 'display_data';\n",
              "          await google.colab.output.renderOutput(dataTable, element);\n",
              "          const docLink = document.createElement('div');\n",
              "          docLink.innerHTML = docLinkHtml;\n",
              "          element.appendChild(docLink);\n",
              "        }\n",
              "      </script>\n",
              "    </div>\n",
              "  </div>\n",
              "  "
            ],
            "text/plain": [
              "       0         1         2     ...      1835      1836      1837\n",
              "0  0.045944  0.020964  0.003329  ...  0.043047  0.016750  0.014161\n",
              "1  0.041203  0.012218  0.002522  ...  0.027072  0.006728  0.004810\n",
              "2  0.023354  0.019605  0.002252  ...  0.037324  0.020430  0.287094\n",
              "3  0.033432  0.020876  0.002778  ...  0.041038  0.019636  0.017810\n",
              "4  0.036595  0.026718  0.003316  ...  0.051707  0.026331  0.024057\n",
              "\n",
              "[5 rows x 1838 columns]"
            ]
          },
          "metadata": {},
          "execution_count": 219
        }
      ]
    },
    {
      "cell_type": "markdown",
      "metadata": {
        "id": "PQKgW5eASrlA"
      },
      "source": [
        "# Checking loaded data"
      ]
    },
    {
      "cell_type": "code",
      "metadata": {
        "colab": {
          "base_uri": "https://localhost:8080/"
        },
        "id": "pvcCrZtejwjW",
        "outputId": "1c5affa3-3862-40f1-aeb7-1c38c019b0bb"
      },
      "source": [
        "data.shape"
      ],
      "execution_count": null,
      "outputs": [
        {
          "output_type": "execute_result",
          "data": {
            "text/plain": [
              "(1696, 1238)"
            ]
          },
          "metadata": {},
          "execution_count": 269
        }
      ]
    },
    {
      "cell_type": "code",
      "metadata": {
        "colab": {
          "base_uri": "https://localhost:8080/"
        },
        "id": "it-bUYvxj7hd",
        "outputId": "0860b452-de13-4697-f827-d7a01de2eb09"
      },
      "source": [
        "labels.shape"
      ],
      "execution_count": null,
      "outputs": [
        {
          "output_type": "execute_result",
          "data": {
            "text/plain": [
              "(1696, 2)"
            ]
          },
          "metadata": {},
          "execution_count": 270
        }
      ]
    },
    {
      "cell_type": "code",
      "metadata": {
        "colab": {
          "base_uri": "https://localhost:8080/",
          "height": 206
        },
        "id": "xzLNQ2-yM5a9",
        "outputId": "ce5deec1-56d8-4091-a115-73394141ce04"
      },
      "source": [
        "labels.head()"
      ],
      "execution_count": null,
      "outputs": [
        {
          "output_type": "execute_result",
          "data": {
            "text/html": [
              "\n",
              "  <div id=\"df-45a34bc4-4187-4dfa-a276-2347bc8b81b0\">\n",
              "    <div class=\"colab-df-container\">\n",
              "      <div>\n",
              "<style scoped>\n",
              "    .dataframe tbody tr th:only-of-type {\n",
              "        vertical-align: middle;\n",
              "    }\n",
              "\n",
              "    .dataframe tbody tr th {\n",
              "        vertical-align: top;\n",
              "    }\n",
              "\n",
              "    .dataframe thead th {\n",
              "        text-align: right;\n",
              "    }\n",
              "</style>\n",
              "<table border=\"1\" class=\"dataframe\">\n",
              "  <thead>\n",
              "    <tr style=\"text-align: right;\">\n",
              "      <th></th>\n",
              "      <th>Unnamed: 0</th>\n",
              "      <th>x</th>\n",
              "    </tr>\n",
              "  </thead>\n",
              "  <tbody>\n",
              "    <tr>\n",
              "      <th>0</th>\n",
              "      <td>0</td>\n",
              "      <td>delta</td>\n",
              "    </tr>\n",
              "    <tr>\n",
              "      <th>1</th>\n",
              "      <td>1</td>\n",
              "      <td>schwann</td>\n",
              "    </tr>\n",
              "    <tr>\n",
              "      <th>2</th>\n",
              "      <td>2</td>\n",
              "      <td>delta</td>\n",
              "    </tr>\n",
              "    <tr>\n",
              "      <th>3</th>\n",
              "      <td>3</td>\n",
              "      <td>beta</td>\n",
              "    </tr>\n",
              "    <tr>\n",
              "      <th>4</th>\n",
              "      <td>4</td>\n",
              "      <td>beta</td>\n",
              "    </tr>\n",
              "  </tbody>\n",
              "</table>\n",
              "</div>\n",
              "      <button class=\"colab-df-convert\" onclick=\"convertToInteractive('df-45a34bc4-4187-4dfa-a276-2347bc8b81b0')\"\n",
              "              title=\"Convert this dataframe to an interactive table.\"\n",
              "              style=\"display:none;\">\n",
              "        \n",
              "  <svg xmlns=\"http://www.w3.org/2000/svg\" height=\"24px\"viewBox=\"0 0 24 24\"\n",
              "       width=\"24px\">\n",
              "    <path d=\"M0 0h24v24H0V0z\" fill=\"none\"/>\n",
              "    <path d=\"M18.56 5.44l.94 2.06.94-2.06 2.06-.94-2.06-.94-.94-2.06-.94 2.06-2.06.94zm-11 1L8.5 8.5l.94-2.06 2.06-.94-2.06-.94L8.5 2.5l-.94 2.06-2.06.94zm10 10l.94 2.06.94-2.06 2.06-.94-2.06-.94-.94-2.06-.94 2.06-2.06.94z\"/><path d=\"M17.41 7.96l-1.37-1.37c-.4-.4-.92-.59-1.43-.59-.52 0-1.04.2-1.43.59L10.3 9.45l-7.72 7.72c-.78.78-.78 2.05 0 2.83L4 21.41c.39.39.9.59 1.41.59.51 0 1.02-.2 1.41-.59l7.78-7.78 2.81-2.81c.8-.78.8-2.07 0-2.86zM5.41 20L4 18.59l7.72-7.72 1.47 1.35L5.41 20z\"/>\n",
              "  </svg>\n",
              "      </button>\n",
              "      \n",
              "  <style>\n",
              "    .colab-df-container {\n",
              "      display:flex;\n",
              "      flex-wrap:wrap;\n",
              "      gap: 12px;\n",
              "    }\n",
              "\n",
              "    .colab-df-convert {\n",
              "      background-color: #E8F0FE;\n",
              "      border: none;\n",
              "      border-radius: 50%;\n",
              "      cursor: pointer;\n",
              "      display: none;\n",
              "      fill: #1967D2;\n",
              "      height: 32px;\n",
              "      padding: 0 0 0 0;\n",
              "      width: 32px;\n",
              "    }\n",
              "\n",
              "    .colab-df-convert:hover {\n",
              "      background-color: #E2EBFA;\n",
              "      box-shadow: 0px 1px 2px rgba(60, 64, 67, 0.3), 0px 1px 3px 1px rgba(60, 64, 67, 0.15);\n",
              "      fill: #174EA6;\n",
              "    }\n",
              "\n",
              "    [theme=dark] .colab-df-convert {\n",
              "      background-color: #3B4455;\n",
              "      fill: #D2E3FC;\n",
              "    }\n",
              "\n",
              "    [theme=dark] .colab-df-convert:hover {\n",
              "      background-color: #434B5C;\n",
              "      box-shadow: 0px 1px 3px 1px rgba(0, 0, 0, 0.15);\n",
              "      filter: drop-shadow(0px 1px 2px rgba(0, 0, 0, 0.3));\n",
              "      fill: #FFFFFF;\n",
              "    }\n",
              "  </style>\n",
              "\n",
              "      <script>\n",
              "        const buttonEl =\n",
              "          document.querySelector('#df-45a34bc4-4187-4dfa-a276-2347bc8b81b0 button.colab-df-convert');\n",
              "        buttonEl.style.display =\n",
              "          google.colab.kernel.accessAllowed ? 'block' : 'none';\n",
              "\n",
              "        async function convertToInteractive(key) {\n",
              "          const element = document.querySelector('#df-45a34bc4-4187-4dfa-a276-2347bc8b81b0');\n",
              "          const dataTable =\n",
              "            await google.colab.kernel.invokeFunction('convertToInteractive',\n",
              "                                                     [key], {});\n",
              "          if (!dataTable) return;\n",
              "\n",
              "          const docLinkHtml = 'Like what you see? Visit the ' +\n",
              "            '<a target=\"_blank\" href=https://colab.research.google.com/notebooks/data_table.ipynb>data table notebook</a>'\n",
              "            + ' to learn more about interactive tables.';\n",
              "          element.innerHTML = '';\n",
              "          dataTable['output_type'] = 'display_data';\n",
              "          await google.colab.output.renderOutput(dataTable, element);\n",
              "          const docLink = document.createElement('div');\n",
              "          docLink.innerHTML = docLinkHtml;\n",
              "          element.appendChild(docLink);\n",
              "        }\n",
              "      </script>\n",
              "    </div>\n",
              "  </div>\n",
              "  "
            ],
            "text/plain": [
              "   Unnamed: 0        x\n",
              "0           0    delta\n",
              "1           1  schwann\n",
              "2           2    delta\n",
              "3           3     beta\n",
              "4           4     beta"
            ]
          },
          "metadata": {},
          "execution_count": 271
        }
      ]
    },
    {
      "cell_type": "code",
      "metadata": {
        "colab": {
          "base_uri": "https://localhost:8080/"
        },
        "id": "yOfWyAQI1DJs",
        "outputId": "5122a843-1432-4c2c-96a7-5d40e0b8e1be"
      },
      "source": [
        "labels = labels['x']\n",
        "labels.head()"
      ],
      "execution_count": null,
      "outputs": [
        {
          "output_type": "execute_result",
          "data": {
            "text/plain": [
              "0      delta\n",
              "1    schwann\n",
              "2      delta\n",
              "3       beta\n",
              "4       beta\n",
              "Name: x, dtype: object"
            ]
          },
          "metadata": {},
          "execution_count": 272
        }
      ]
    },
    {
      "cell_type": "markdown",
      "metadata": {
        "id": "Nmxn0dEhwf0s"
      },
      "source": [
        "# Finding the optimal dimensions for embedding using reconstruction error"
      ]
    },
    {
      "cell_type": "code",
      "metadata": {
        "id": "v7PqelPewzCd",
        "colab": {
          "base_uri": "https://localhost:8080/"
        },
        "outputId": "f958c067-c26e-4798-991e-3eb276ba1438"
      },
      "source": [
        "d = range(2,16)\n",
        "k=[]\n",
        "error=[]\n",
        "# try each value of k\n",
        "for i in d:\n",
        "    print(\"Applying NMF for k=%d ...\" % i)\n",
        "    # run NMF\n",
        "    model = NMF(init=\"nndsvd\", n_components=i) \n",
        "    W = model.fit_transform(data)\n",
        "    H = model.components_    \n",
        "    k.append(i)\n",
        "    error.append(model.reconstruction_err_)"
      ],
      "execution_count": null,
      "outputs": [
        {
          "output_type": "stream",
          "name": "stdout",
          "text": [
            "Applying NMF for k=2 ...\n",
            "Applying NMF for k=3 ...\n",
            "Applying NMF for k=4 ...\n",
            "Applying NMF for k=5 ...\n",
            "Applying NMF for k=6 ...\n",
            "Applying NMF for k=7 ...\n",
            "Applying NMF for k=8 ...\n",
            "Applying NMF for k=9 ...\n",
            "Applying NMF for k=10 ...\n",
            "Applying NMF for k=11 ...\n",
            "Applying NMF for k=12 ...\n",
            "Applying NMF for k=13 ...\n",
            "Applying NMF for k=14 ...\n",
            "Applying NMF for k=15 ...\n"
          ]
        }
      ]
    },
    {
      "cell_type": "code",
      "metadata": {
        "id": "m-waFpIxxIwa",
        "colab": {
          "base_uri": "https://localhost:8080/",
          "height": 288
        },
        "outputId": "ce0a259e-9437-4924-e344-a0277d66bdcb"
      },
      "source": [
        "# Plotting a bar graph to compare the results \n",
        "plt.plot(k, error) \n",
        "plt.xlabel('Number of dimensions', fontsize = 20) \n",
        "plt.ylabel('Reconstruction Error', fontsize = 20) \n",
        "plt.show() "
      ],
      "execution_count": null,
      "outputs": [
        {
          "output_type": "display_data",
          "data": {
            "image/png": "[encoded data removed]",
            "text/plain": [
              "<Figure size 432x288 with 1 Axes>"
            ]
          },
          "metadata": {
            "needs_background": "light"
          }
        }
      ]
    },
    {
      "cell_type": "code",
      "metadata": {
        "id": "Q7rPltFljItN",
        "colab": {
          "base_uri": "https://localhost:8080/"
        },
        "outputId": "34928d49-d899-407a-b953-3ec7074b942f"
      },
      "source": [
        "x = range(2, len(error)+2)\n",
        "\n",
        "from kneed import KneeLocator\n",
        "kn = KneeLocator(x, error, curve='convex', direction='decreasing')\n",
        "print(kn.knee)"
      ],
      "execution_count": null,
      "outputs": [
        {
          "output_type": "stream",
          "name": "stdout",
          "text": [
            "6\n"
          ]
        }
      ]
    },
    {
      "cell_type": "code",
      "metadata": {
        "id": "yHN60HACjiUm",
        "colab": {
          "base_uri": "https://localhost:8080/",
          "height": 296
        },
        "outputId": "607da31f-8762-479b-c316-6109bb8955ce"
      },
      "source": [
        "plt.xlabel('Number of dimensions')\n",
        "plt.ylabel('Reconstruction error')\n",
        "plt.plot(x, error, 'bx-')\n",
        "plt.vlines(kn.knee, plt.ylim()[0], plt.ylim()[1], linestyles='dashed')"
      ],
      "execution_count": null,
      "outputs": [
        {
          "output_type": "execute_result",
          "data": {
            "text/plain": [
              "<matplotlib.collections.LineCollection at 0x7fad89c45fd0>"
            ]
          },
          "metadata": {},
          "execution_count": 21
        },
        {
          "output_type": "display_data",
          "data": {
            "image/png": "[encoded data removed]",
            "text/plain": [
              "<Figure size 432x288 with 1 Axes>"
            ]
          },
          "metadata": {
            "needs_background": "light"
          }
        }
      ]
    },
    {
      "cell_type": "markdown",
      "metadata": {
        "id": "X7V0FPcUnJYM"
      },
      "source": [
        "# Lower dimensional cell embedding using NMF"
      ]
    },
    {
      "cell_type": "code",
      "metadata": {
        "id": "MS6bKTnQhlE7"
      },
      "source": [
        "optDim = kn.knee"
      ],
      "execution_count": null,
      "outputs": []
    },
    {
      "cell_type": "code",
      "metadata": {
        "id": "5IdCKmNLnCrd"
      },
      "source": [
        "#Mark the begining of the proposed method\n",
        "t.tic()"
      ],
      "execution_count": null,
      "outputs": []
    },
    {
      "cell_type": "code",
      "metadata": {
        "id": "IGuo26QZd847"
      },
      "source": [
        "data_orig = data.copy()"
      ],
      "execution_count": null,
      "outputs": []
    },
    {
      "cell_type": "code",
      "metadata": {
        "id": "eu_ZcTpqcciX"
      },
      "source": [
        "model = NMF(n_components=optDim, init='nndsvd')\n",
        "W = model.fit_transform(data)\n",
        "H = model.components_"
      ],
      "execution_count": null,
      "outputs": []
    },
    {
      "cell_type": "code",
      "metadata": {
        "colab": {
          "base_uri": "https://localhost:8080/"
        },
        "id": "CcpF1opmdIuX",
        "outputId": "1eb4afaf-9dd0-4252-9a9f-67881ed56413"
      },
      "source": [
        "print(W.shape)\n",
        "print(H.shape)"
      ],
      "execution_count": null,
      "outputs": [
        {
          "output_type": "stream",
          "name": "stdout",
          "text": [
            "(1696, 6)\n",
            "(6, 1238)\n"
          ]
        }
      ]
    },
    {
      "cell_type": "code",
      "metadata": {
        "id": "nvR7jYeGgue8"
      },
      "source": [
        "data = pd.DataFrame(W)"
      ],
      "execution_count": null,
      "outputs": []
    },
    {
      "cell_type": "markdown",
      "metadata": {
        "id": "2C6cH0nzk9Q2"
      },
      "source": [
        "Encoding labels"
      ]
    },
    {
      "cell_type": "code",
      "metadata": {
        "id": "HABmOzUnRpCk"
      },
      "source": [
        "from sklearn import preprocessing\n",
        "le = preprocessing.LabelEncoder()\n",
        "y = pd.DataFrame(le.fit_transform(np.ravel(labels)))"
      ],
      "execution_count": null,
      "outputs": []
    },
    {
      "cell_type": "code",
      "metadata": {
        "id": "Drc7NELacY-9"
      },
      "source": [
        "y1 = y.copy()"
      ],
      "execution_count": null,
      "outputs": []
    },
    {
      "cell_type": "code",
      "source": [
        "data.shape"
      ],
      "metadata": {
        "colab": {
          "base_uri": "https://localhost:8080/"
        },
        "id": "uJscAHaRfPL-",
        "outputId": "10942505-7dda-4b0d-ad08-c7b9df24e5bb"
      },
      "execution_count": null,
      "outputs": [
        {
          "output_type": "execute_result",
          "data": {
            "text/plain": [
              "(1696, 6)"
            ]
          },
          "metadata": {},
          "execution_count": 281
        }
      ]
    },
    {
      "cell_type": "code",
      "source": [
        "y1.shape"
      ],
      "metadata": {
        "colab": {
          "base_uri": "https://localhost:8080/"
        },
        "id": "GQ54_AO1fQgN",
        "outputId": "98246382-7ea5-432d-b536-993c9e486714"
      },
      "execution_count": null,
      "outputs": [
        {
          "output_type": "execute_result",
          "data": {
            "text/plain": [
              "(1696, 1)"
            ]
          },
          "metadata": {},
          "execution_count": 282
        }
      ]
    },
    {
      "cell_type": "markdown",
      "source": [
        "# Train, test data preparation"
      ],
      "metadata": {
        "id": "hlB5sYt9krmR"
      }
    },
    {
      "cell_type": "code",
      "metadata": {
        "id": "WU8ItOMOWAFC"
      },
      "source": [
        "indx = pd.DataFrame(np.arange(0,data.shape[0]))\n",
        "df = pd.concat([data,indx], axis=1)\n",
        "X = pd.concat([df,y1], axis=1)"
      ],
      "execution_count": null,
      "outputs": []
    },
    {
      "cell_type": "code",
      "source": [
        "X_train, X_test, y_train, y_test = train_test_split(X, y1, test_size=0.3, random_state=42)"
      ],
      "metadata": {
        "id": "dAm1Kw_KkS5m"
      },
      "execution_count": null,
      "outputs": []
    },
    {
      "cell_type": "code",
      "source": [
        "X_train_ = X_train.copy()\n",
        "X_train_ = X_train.iloc[:,:-2]\n",
        "\n",
        "X_test_ = X_test.copy()\n",
        "X_test_ = X_test.iloc[:,:-2]\n"
      ],
      "metadata": {
        "id": "rvGBCJyOOltf"
      },
      "execution_count": null,
      "outputs": []
    },
    {
      "cell_type": "markdown",
      "metadata": {
        "id": "oryceblO3i7v"
      },
      "source": [
        "# Clustering using k-Means"
      ]
    },
    {
      "cell_type": "code",
      "metadata": {
        "id": "1l7BHf8aCxPS",
        "colab": {
          "base_uri": "https://localhost:8080/"
        },
        "outputId": "885a8a3c-6756-4a86-f828-54305a3ec212"
      },
      "source": [
        "#Setting k to the number of unique labels in the data excluding -1 (-1 stands for unknown labels)\n",
        "k = y_train[0].nunique()\n",
        "k"
      ],
      "execution_count": null,
      "outputs": [
        {
          "output_type": "execute_result",
          "data": {
            "text/plain": [
              "13"
            ]
          },
          "metadata": {},
          "execution_count": 286
        }
      ]
    },
    {
      "cell_type": "markdown",
      "metadata": {
        "id": "pd0KBJ1X3-N6"
      },
      "source": [
        "Recursive clustering"
      ]
    },
    {
      "cell_type": "code",
      "metadata": {
        "id": "I3VjKR_bCqzJ"
      },
      "source": [
        "def rec_KMeans(res):\n",
        "    if len(res) == 0:\n",
        "        return\n",
        "    \n",
        "    num_labels = set()\n",
        "    #finding no. of known labels for each cluster\n",
        "    for i in res:\n",
        "        if(i[-1] != -1):\n",
        "          num_labels.add(i[-1])\n",
        "    print(len(num_labels), num_labels)   \n",
        "\n",
        "    if(len(num_labels) == 1):     #if all labelled data belong from one class\n",
        "        final_clusters.append(res)\n",
        "        cluster_label.append(num_labels)\n",
        "        return\n",
        "    \n",
        "    if(len(num_labels) == 0):     #if no labelled data exist\n",
        "        final_clusters.append(res)\n",
        "        cluster_label.append(-1)\n",
        "        return\n",
        "    \n",
        "    #if all labelled data belong from more than one class, then cluster recursively\n",
        "    newk = len(num_labels)\n",
        "    centroid1 = []\n",
        "    rnd = random.sample(range(len(res)), newk)\n",
        "    for j in range(newk):\n",
        "        centroid1.append(res[rnd[j]])\n",
        "        \n",
        "    print('Partioning further...')\n",
        "    my_KMeans(res, centroid1, newk)"
      ],
      "execution_count": null,
      "outputs": []
    },
    {
      "cell_type": "markdown",
      "metadata": {
        "id": "qZlzPnBo4Blc"
      },
      "source": [
        "Passing each partition to recursive k-Means function"
      ]
    },
    {
      "cell_type": "code",
      "metadata": {
        "id": "khU9EUJq9uoT"
      },
      "source": [
        "def rec_KMeans_call(res):\n",
        "    for par in res:\n",
        "        print('...New cluster...')   \n",
        "        rec_KMeans(res[par])"
      ],
      "execution_count": null,
      "outputs": []
    },
    {
      "cell_type": "markdown",
      "metadata": {
        "id": "lLu1EVVT4ZoU"
      },
      "source": [
        "Distance between a given sample and a given centroid"
      ]
    },
    {
      "cell_type": "code",
      "metadata": {
        "id": "lSolb_2V4tXc"
      },
      "source": [
        "def distance(a,b):\n",
        "    ans = 0\n",
        "    for i in range(len(a)):\n",
        "        ans += math.pow((a[i] - b[i]),2)\n",
        "    return math.sqrt(ans)"
      ],
      "execution_count": null,
      "outputs": []
    },
    {
      "cell_type": "code",
      "metadata": {
        "id": "R-Wmt2QchgLI"
      },
      "source": [
        "def my_KMeans(data, centroid, k):  #using user-defined KMeans\n",
        "    \n",
        "    #max_iter = 1\n",
        "    #for i in range(max_iter):\n",
        "        \n",
        "    diction = {}    #empty dictionary to store data corresponding to each cluster\n",
        "    for i in range(k):\n",
        "        diction[i]=[]\n",
        "        \n",
        "    for j in range(len(data)):\n",
        "        l = []\n",
        "        for c in centroid:\n",
        "            l.append(distance(data[j][:-2],c[:-2]))      #calculate distance of the sample from each centroid\n",
        "        diction[l.index(min(l))].append(data[j])         #assigning the sample to the nearest centroid\n",
        "    \n",
        "    for c in diction:     #update centroids\n",
        "        if(len(diction[c])!=0):\n",
        "            centroid[c] = np.average(diction[c], axis = 0)\n",
        "    rec_KMeans_call(diction)"
      ],
      "execution_count": null,
      "outputs": []
    },
    {
      "cell_type": "code",
      "metadata": {
        "id": "BmRgi6qckASN"
      },
      "source": [
        "cntr = []\n",
        "final_clusters = []\n",
        "cluster_label = []"
      ],
      "execution_count": null,
      "outputs": []
    },
    {
      "cell_type": "code",
      "metadata": {
        "id": "YxfW5witQ0MR"
      },
      "source": [
        "#Initializing centroids\n",
        "random.seed(0)\n",
        "rnd = random.sample(range(X_train.shape[0]), k)\n",
        "for i in range(k):\n",
        "        cntr.append(X_train.iloc[rnd[i]])"
      ],
      "execution_count": null,
      "outputs": []
    },
    {
      "cell_type": "code",
      "metadata": {
        "colab": {
          "base_uri": "https://localhost:8080/"
        },
        "id": "npTH-D9YS8vw",
        "outputId": "6d5d57cf-c1cf-42de-a6b3-1c875de4e171"
      },
      "source": [
        "#initial k-Means call  \n",
        "my_KMeans(X_train.values, cntr, k)"
      ],
      "execution_count": null,
      "outputs": [
        {
          "output_type": "stream",
          "name": "stdout",
          "text": [
            "...New cluster...\n",
            "1 {4.0}\n",
            "...New cluster...\n",
            "2 {8.0, 5.0}\n",
            "Partioning further...\n",
            "...New cluster...\n",
            "2 {8.0, 5.0}\n",
            "Partioning further...\n",
            "...New cluster...\n",
            "1 {8.0}\n",
            "...New cluster...\n",
            "2 {8.0, 5.0}\n",
            "Partioning further...\n",
            "...New cluster...\n",
            "2 {8.0, 5.0}\n",
            "Partioning further...\n",
            "...New cluster...\n",
            "1 {5.0}\n",
            "...New cluster...\n",
            "1 {8.0}\n",
            "...New cluster...\n",
            "1 {8.0}\n",
            "...New cluster...\n",
            "2 {8.0, 5.0}\n",
            "Partioning further...\n",
            "...New cluster...\n",
            "1 {8.0}\n",
            "...New cluster...\n",
            "2 {8.0, 5.0}\n",
            "Partioning further...\n",
            "...New cluster...\n",
            "2 {8.0, 5.0}\n",
            "Partioning further...\n",
            "...New cluster...\n",
            "1 {8.0}\n",
            "...New cluster...\n",
            "2 {8.0, 5.0}\n",
            "Partioning further...\n",
            "...New cluster...\n",
            "2 {8.0, 5.0}\n",
            "Partioning further...\n",
            "...New cluster...\n",
            "1 {8.0}\n",
            "...New cluster...\n",
            "2 {8.0, 5.0}\n",
            "Partioning further...\n",
            "...New cluster...\n",
            "1 {8.0}\n",
            "...New cluster...\n",
            "1 {5.0}\n",
            "...New cluster...\n",
            "1 {8.0}\n",
            "...New cluster...\n",
            "1 {8.0}\n",
            "...New cluster...\n",
            "8 {0.0, 1.0, 2.0, 7.0, 9.0, 10.0, 11.0, 12.0}\n",
            "Partioning further...\n",
            "...New cluster...\n",
            "4 {10.0, 2.0, 11.0, 7.0}\n",
            "Partioning further...\n",
            "...New cluster...\n",
            "1 {7.0}\n",
            "...New cluster...\n",
            "1 {10.0}\n",
            "...New cluster...\n",
            "1 {2.0}\n",
            "...New cluster...\n",
            "1 {11.0}\n",
            "...New cluster...\n",
            "1 {10.0}\n",
            "...New cluster...\n",
            "3 {9.0, 10.0, 1.0}\n",
            "Partioning further...\n",
            "...New cluster...\n",
            "1 {9.0}\n",
            "...New cluster...\n",
            "2 {9.0, 1.0}\n",
            "Partioning further...\n",
            "...New cluster...\n",
            "1 {9.0}\n",
            "...New cluster...\n",
            "1 {1.0}\n",
            "...New cluster...\n",
            "1 {10.0}\n",
            "...New cluster...\n",
            "2 {10.0, 11.0}\n",
            "Partioning further...\n",
            "...New cluster...\n",
            "1 {11.0}\n",
            "...New cluster...\n",
            "2 {10.0, 11.0}\n",
            "Partioning further...\n",
            "...New cluster...\n",
            "2 {10.0, 11.0}\n",
            "Partioning further...\n",
            "...New cluster...\n",
            "2 {10.0, 11.0}\n",
            "Partioning further...\n",
            "...New cluster...\n",
            "1 {10.0}\n",
            "...New cluster...\n",
            "1 {11.0}\n",
            "...New cluster...\n",
            "2 {10.0, 11.0}\n",
            "Partioning further...\n",
            "...New cluster...\n",
            "1 {11.0}\n",
            "...New cluster...\n",
            "1 {10.0}\n",
            "...New cluster...\n",
            "2 {10.0, 11.0}\n",
            "Partioning further...\n",
            "...New cluster...\n",
            "1 {10.0}\n",
            "...New cluster...\n",
            "1 {11.0}\n",
            "...New cluster...\n",
            "5 {0.0, 2.0, 7.0, 9.0, 12.0}\n",
            "Partioning further...\n",
            "...New cluster...\n",
            "1 {0.0}\n",
            "...New cluster...\n",
            "2 {2.0, 12.0}\n",
            "Partioning further...\n",
            "...New cluster...\n",
            "1 {2.0}\n",
            "...New cluster...\n",
            "1 {12.0}\n",
            "...New cluster...\n",
            "1 {12.0}\n",
            "...New cluster...\n",
            "2 {9.0, 2.0}\n",
            "Partioning further...\n",
            "...New cluster...\n",
            "1 {9.0}\n",
            "...New cluster...\n",
            "1 {2.0}\n",
            "...New cluster...\n",
            "1 {7.0}\n",
            "...New cluster...\n",
            "3 {10.0, 11.0, 7.0}\n",
            "Partioning further...\n",
            "...New cluster...\n",
            "2 {10.0, 11.0}\n",
            "Partioning further...\n",
            "...New cluster...\n",
            "1 {11.0}\n",
            "...New cluster...\n",
            "1 {10.0}\n",
            "...New cluster...\n",
            "2 {11.0, 7.0}\n",
            "Partioning further...\n",
            "...New cluster...\n",
            "2 {11.0, 7.0}\n",
            "Partioning further...\n",
            "...New cluster...\n",
            "1 {7.0}\n",
            "...New cluster...\n",
            "1 {11.0}\n",
            "...New cluster...\n",
            "1 {7.0}\n",
            "...New cluster...\n",
            "2 {10.0, 11.0}\n",
            "Partioning further...\n",
            "...New cluster...\n",
            "2 {10.0, 11.0}\n",
            "Partioning further...\n",
            "...New cluster...\n",
            "1 {11.0}\n",
            "...New cluster...\n",
            "1 {10.0}\n",
            "...New cluster...\n",
            "2 {10.0, 11.0}\n",
            "Partioning further...\n",
            "...New cluster...\n",
            "1 {10.0}\n",
            "...New cluster...\n",
            "1 {11.0}\n",
            "...New cluster...\n",
            "4 {9.0, 2.0, 11.0, 12.0}\n",
            "Partioning further...\n",
            "...New cluster...\n",
            "1 {2.0}\n",
            "...New cluster...\n",
            "1 {11.0}\n",
            "...New cluster...\n",
            "1 {9.0}\n",
            "...New cluster...\n",
            "1 {12.0}\n",
            "...New cluster...\n",
            "3 {0.0, 1.0, 11.0}\n",
            "Partioning further...\n",
            "...New cluster...\n",
            "2 {0.0, 1.0}\n",
            "Partioning further...\n",
            "...New cluster...\n",
            "1 {0.0}\n",
            "...New cluster...\n",
            "1 {1.0}\n",
            "...New cluster...\n",
            "1 {0.0}\n",
            "...New cluster...\n",
            "1 {11.0}\n",
            "...New cluster...\n",
            "1 {6.0}\n",
            "...New cluster...\n",
            "1 {4.0}\n",
            "...New cluster...\n",
            "3 {11.0, 3.0, 4.0}\n",
            "Partioning further...\n",
            "...New cluster...\n",
            "2 {3.0, 4.0}\n",
            "Partioning further...\n",
            "...New cluster...\n",
            "2 {3.0, 4.0}\n",
            "Partioning further...\n",
            "...New cluster...\n",
            "1 {3.0}\n",
            "...New cluster...\n",
            "2 {3.0, 4.0}\n",
            "Partioning further...\n",
            "...New cluster...\n",
            "1 {3.0}\n",
            "...New cluster...\n",
            "2 {3.0, 4.0}\n",
            "Partioning further...\n",
            "...New cluster...\n",
            "2 {3.0, 4.0}\n",
            "Partioning further...\n",
            "...New cluster...\n",
            "1 {3.0}\n",
            "...New cluster...\n",
            "1 {4.0}\n",
            "...New cluster...\n",
            "1 {3.0}\n",
            "...New cluster...\n",
            "2 {3.0, 4.0}\n",
            "Partioning further...\n",
            "...New cluster...\n",
            "2 {3.0, 4.0}\n",
            "Partioning further...\n",
            "...New cluster...\n",
            "2 {3.0, 4.0}\n",
            "Partioning further...\n",
            "...New cluster...\n",
            "2 {3.0, 4.0}\n",
            "Partioning further...\n",
            "...New cluster...\n",
            "2 {3.0, 4.0}\n",
            "Partioning further...\n",
            "...New cluster...\n",
            "1 {3.0}\n",
            "...New cluster...\n",
            "1 {4.0}\n",
            "...New cluster...\n",
            "1 {3.0}\n",
            "...New cluster...\n",
            "1 {3.0}\n",
            "...New cluster...\n",
            "1 {3.0}\n",
            "...New cluster...\n",
            "1 {3.0}\n",
            "...New cluster...\n",
            "1 {3.0}\n",
            "...New cluster...\n",
            "2 {11.0, 3.0}\n",
            "Partioning further...\n",
            "...New cluster...\n",
            "1 {11.0}\n",
            "...New cluster...\n",
            "1 {3.0}\n",
            "...New cluster...\n",
            "3 {10.0, 11.0, 7.0}\n",
            "Partioning further...\n",
            "...New cluster...\n",
            "1 {7.0}\n",
            "...New cluster...\n",
            "2 {10.0, 7.0}\n",
            "Partioning further...\n",
            "...New cluster...\n",
            "1 {7.0}\n",
            "...New cluster...\n",
            "2 {10.0, 7.0}\n",
            "Partioning further...\n",
            "...New cluster...\n",
            "1 {7.0}\n",
            "...New cluster...\n",
            "1 {10.0}\n",
            "...New cluster...\n",
            "2 {11.0, 7.0}\n",
            "Partioning further...\n",
            "...New cluster...\n",
            "1 {7.0}\n",
            "...New cluster...\n",
            "2 {11.0, 7.0}\n",
            "Partioning further...\n",
            "...New cluster...\n",
            "2 {11.0, 7.0}\n",
            "Partioning further...\n",
            "...New cluster...\n",
            "1 {7.0}\n",
            "...New cluster...\n",
            "2 {11.0, 7.0}\n",
            "Partioning further...\n",
            "...New cluster...\n",
            "1 {7.0}\n",
            "...New cluster...\n",
            "2 {11.0, 7.0}\n",
            "Partioning further...\n",
            "...New cluster...\n",
            "2 {11.0, 7.0}\n",
            "Partioning further...\n",
            "...New cluster...\n",
            "1 {7.0}\n",
            "...New cluster...\n",
            "2 {11.0, 7.0}\n",
            "Partioning further...\n",
            "...New cluster...\n",
            "1 {11.0}\n",
            "...New cluster...\n",
            "1 {7.0}\n",
            "...New cluster...\n",
            "1 {7.0}\n",
            "...New cluster...\n",
            "1 {7.0}\n",
            "...New cluster...\n",
            "1 {3.0}\n",
            "...New cluster...\n",
            "2 {4.0, 6.0}\n",
            "Partioning further...\n",
            "...New cluster...\n",
            "1 {4.0}\n",
            "...New cluster...\n",
            "2 {4.0, 6.0}\n",
            "Partioning further...\n",
            "...New cluster...\n",
            "2 {4.0, 6.0}\n",
            "Partioning further...\n",
            "...New cluster...\n",
            "1 {4.0}\n",
            "...New cluster...\n",
            "2 {4.0, 6.0}\n",
            "Partioning further...\n",
            "...New cluster...\n",
            "1 {4.0}\n",
            "...New cluster...\n",
            "2 {4.0, 6.0}\n",
            "Partioning further...\n",
            "...New cluster...\n",
            "2 {4.0, 6.0}\n",
            "Partioning further...\n",
            "...New cluster...\n",
            "2 {4.0, 6.0}\n",
            "Partioning further...\n",
            "...New cluster...\n",
            "1 {4.0}\n",
            "...New cluster...\n",
            "2 {4.0, 6.0}\n",
            "Partioning further...\n",
            "...New cluster...\n",
            "1 {4.0}\n",
            "...New cluster...\n",
            "2 {4.0, 6.0}\n",
            "Partioning further...\n",
            "...New cluster...\n",
            "1 {4.0}\n",
            "...New cluster...\n",
            "2 {4.0, 6.0}\n",
            "Partioning further...\n",
            "...New cluster...\n",
            "1 {4.0}\n",
            "...New cluster...\n",
            "1 {6.0}\n",
            "...New cluster...\n",
            "1 {4.0}\n",
            "...New cluster...\n",
            "1 {4.0}\n",
            "...New cluster...\n",
            "2 {4.0, 6.0}\n",
            "Partioning further...\n",
            "...New cluster...\n",
            "1 {6.0}\n",
            "...New cluster...\n",
            "1 {4.0}\n",
            "...New cluster...\n",
            "2 {4.0, 7.0}\n",
            "Partioning further...\n",
            "...New cluster...\n",
            "1 {4.0}\n",
            "...New cluster...\n",
            "2 {4.0, 7.0}\n",
            "Partioning further...\n",
            "...New cluster...\n",
            "1 {7.0}\n",
            "...New cluster...\n",
            "2 {4.0, 7.0}\n",
            "Partioning further...\n",
            "...New cluster...\n",
            "2 {4.0, 7.0}\n",
            "Partioning further...\n",
            "...New cluster...\n",
            "1 {7.0}\n",
            "...New cluster...\n",
            "1 {4.0}\n",
            "...New cluster...\n",
            "1 {4.0}\n",
            "...New cluster...\n",
            "2 {4.0, 5.0}\n",
            "Partioning further...\n",
            "...New cluster...\n",
            "2 {4.0, 5.0}\n",
            "Partioning further...\n",
            "...New cluster...\n",
            "2 {4.0, 5.0}\n",
            "Partioning further...\n",
            "...New cluster...\n",
            "1 {5.0}\n",
            "...New cluster...\n",
            "2 {4.0, 5.0}\n",
            "Partioning further...\n",
            "...New cluster...\n",
            "2 {4.0, 5.0}\n",
            "Partioning further...\n",
            "...New cluster...\n",
            "1 {5.0}\n",
            "...New cluster...\n",
            "2 {4.0, 5.0}\n",
            "Partioning further...\n",
            "...New cluster...\n",
            "1 {5.0}\n",
            "...New cluster...\n",
            "2 {4.0, 5.0}\n",
            "Partioning further...\n",
            "...New cluster...\n",
            "1 {5.0}\n",
            "...New cluster...\n",
            "1 {4.0}\n",
            "...New cluster...\n",
            "1 {5.0}\n",
            "...New cluster...\n",
            "2 {4.0, 5.0}\n",
            "Partioning further...\n",
            "...New cluster...\n",
            "1 {5.0}\n",
            "...New cluster...\n",
            "2 {4.0, 5.0}\n",
            "Partioning further...\n",
            "...New cluster...\n",
            "1 {5.0}\n",
            "...New cluster...\n",
            "2 {4.0, 5.0}\n",
            "Partioning further...\n",
            "...New cluster...\n",
            "1 {4.0}\n",
            "...New cluster...\n",
            "1 {5.0}\n",
            "...New cluster...\n",
            "1 {5.0}\n",
            "...New cluster...\n",
            "4 {3.0, 4.0, 5.0, 6.0}\n",
            "Partioning further...\n",
            "...New cluster...\n",
            "1 {4.0}\n",
            "...New cluster...\n",
            "3 {3.0, 5.0, 6.0}\n",
            "Partioning further...\n",
            "...New cluster...\n",
            "1 {6.0}\n",
            "...New cluster...\n",
            "1 {5.0}\n",
            "...New cluster...\n",
            "3 {3.0, 5.0, 6.0}\n",
            "Partioning further...\n",
            "...New cluster...\n",
            "1 {3.0}\n",
            "...New cluster...\n",
            "1 {5.0}\n",
            "...New cluster...\n",
            "2 {5.0, 6.0}\n",
            "Partioning further...\n",
            "...New cluster...\n",
            "1 {5.0}\n",
            "...New cluster...\n",
            "1 {6.0}\n",
            "...New cluster...\n",
            "1 {4.0}\n",
            "...New cluster...\n",
            "3 {3.0, 4.0, 5.0}\n",
            "Partioning further...\n",
            "...New cluster...\n",
            "2 {4.0, 5.0}\n",
            "Partioning further...\n",
            "...New cluster...\n",
            "1 {4.0}\n",
            "...New cluster...\n",
            "2 {4.0, 5.0}\n",
            "Partioning further...\n",
            "...New cluster...\n",
            "1 {4.0}\n",
            "...New cluster...\n",
            "1 {5.0}\n",
            "...New cluster...\n",
            "3 {3.0, 4.0, 5.0}\n",
            "Partioning further...\n",
            "...New cluster...\n",
            "1 {4.0}\n",
            "...New cluster...\n",
            "2 {4.0, 5.0}\n",
            "Partioning further...\n",
            "...New cluster...\n",
            "1 {4.0}\n",
            "...New cluster...\n",
            "1 {5.0}\n",
            "...New cluster...\n",
            "3 {3.0, 4.0, 5.0}\n",
            "Partioning further...\n",
            "...New cluster...\n",
            "3 {3.0, 4.0, 5.0}\n",
            "Partioning further...\n",
            "...New cluster...\n",
            "1 {4.0}\n",
            "...New cluster...\n",
            "1 {5.0}\n",
            "...New cluster...\n",
            "1 {3.0}\n",
            "...New cluster...\n",
            "1 {4.0}\n",
            "...New cluster...\n",
            "2 {3.0, 4.0}\n",
            "Partioning further...\n",
            "...New cluster...\n",
            "1 {4.0}\n",
            "...New cluster...\n",
            "2 {3.0, 4.0}\n",
            "Partioning further...\n",
            "...New cluster...\n",
            "1 {3.0}\n",
            "...New cluster...\n",
            "1 {4.0}\n",
            "...New cluster...\n",
            "2 {4.0, 5.0}\n",
            "Partioning further...\n",
            "...New cluster...\n",
            "1 {4.0}\n",
            "...New cluster...\n",
            "2 {4.0, 5.0}\n",
            "Partioning further...\n",
            "...New cluster...\n",
            "2 {4.0, 5.0}\n",
            "Partioning further...\n",
            "...New cluster...\n",
            "1 {4.0}\n",
            "...New cluster...\n",
            "1 {5.0}\n",
            "...New cluster...\n",
            "1 {5.0}\n",
            "...New cluster...\n",
            "6 {0.0, 1.0, 2.0, 7.0, 10.0, 11.0}\n",
            "Partioning further...\n",
            "...New cluster...\n",
            "1 {10.0}\n",
            "...New cluster...\n",
            "4 {0.0, 1.0, 11.0, 7.0}\n",
            "Partioning further...\n",
            "...New cluster...\n",
            "3 {0.0, 1.0, 11.0}\n",
            "Partioning further...\n",
            "...New cluster...\n",
            "3 {0.0, 1.0, 11.0}\n",
            "Partioning further...\n",
            "...New cluster...\n",
            "1 {1.0}\n",
            "...New cluster...\n",
            "1 {0.0}\n",
            "...New cluster...\n",
            "1 {11.0}\n",
            "...New cluster...\n",
            "1 {11.0}\n",
            "...New cluster...\n",
            "1 {11.0}\n",
            "...New cluster...\n",
            "1 {7.0}\n",
            "...New cluster...\n",
            "1 {7.0}\n",
            "...New cluster...\n",
            "1 {7.0}\n",
            "...New cluster...\n",
            "1 {10.0}\n",
            "...New cluster...\n",
            "3 {10.0, 11.0, 7.0}\n",
            "Partioning further...\n",
            "...New cluster...\n",
            "2 {10.0, 7.0}\n",
            "Partioning further...\n",
            "...New cluster...\n",
            "1 {7.0}\n",
            "...New cluster...\n",
            "1 {10.0}\n",
            "...New cluster...\n",
            "2 {10.0, 11.0}\n",
            "Partioning further...\n",
            "...New cluster...\n",
            "1 {11.0}\n",
            "...New cluster...\n",
            "2 {10.0, 11.0}\n",
            "Partioning further...\n",
            "...New cluster...\n",
            "2 {10.0, 11.0}\n",
            "Partioning further...\n",
            "...New cluster...\n",
            "2 {10.0, 11.0}\n",
            "Partioning further...\n",
            "...New cluster...\n",
            "1 {11.0}\n",
            "...New cluster...\n",
            "1 {10.0}\n",
            "...New cluster...\n",
            "1 {10.0}\n",
            "...New cluster...\n",
            "1 {11.0}\n",
            "...New cluster...\n",
            "1 {10.0}\n",
            "...New cluster...\n",
            "3 {2.0, 10.0, 11.0}\n",
            "Partioning further...\n",
            "...New cluster...\n",
            "1 {11.0}\n",
            "...New cluster...\n",
            "2 {2.0, 11.0}\n",
            "Partioning further...\n",
            "...New cluster...\n",
            "2 {2.0, 11.0}\n",
            "Partioning further...\n",
            "...New cluster...\n",
            "1 {2.0}\n",
            "...New cluster...\n",
            "1 {11.0}\n",
            "...New cluster...\n",
            "1 {11.0}\n",
            "...New cluster...\n",
            "3 {2.0, 10.0, 11.0}\n",
            "Partioning further...\n",
            "...New cluster...\n",
            "2 {10.0, 11.0}\n",
            "Partioning further...\n",
            "...New cluster...\n",
            "1 {10.0}\n",
            "...New cluster...\n",
            "1 {11.0}\n",
            "...New cluster...\n",
            "2 {2.0, 11.0}\n",
            "Partioning further...\n",
            "...New cluster...\n",
            "1 {11.0}\n",
            "...New cluster...\n",
            "1 {2.0}\n",
            "...New cluster...\n",
            "1 {10.0}\n",
            "...New cluster...\n",
            "2 {10.0, 7.0}\n",
            "Partioning further...\n",
            "...New cluster...\n",
            "1 {10.0}\n",
            "...New cluster...\n",
            "1 {7.0}\n"
          ]
        }
      ]
    },
    {
      "cell_type": "markdown",
      "metadata": {
        "id": "HTCGRRhEBoX7"
      },
      "source": [
        "# Results"
      ]
    },
    {
      "cell_type": "markdown",
      "metadata": {
        "id": "PtPaOvVhJzH9"
      },
      "source": [
        "Computing final centroids"
      ]
    },
    {
      "cell_type": "code",
      "metadata": {
        "id": "Y7jFoyv4gWK0"
      },
      "source": [
        "def get_final_centroids(final_clusters):\n",
        "    final_centroids = []\n",
        "    for i in range(len(final_clusters)):\n",
        "        fc = pd.DataFrame(final_clusters[i]).iloc[:, :-2]\n",
        "        fc_mean = np.average(fc,axis = 0)\n",
        "        final_centroids.append(fc_mean)\n",
        "    return final_centroids\n"
      ],
      "execution_count": null,
      "outputs": []
    },
    {
      "cell_type": "code",
      "metadata": {
        "id": "MMAcmhYTJ45G"
      },
      "source": [
        "final_centroids = get_final_centroids(final_clusters)"
      ],
      "execution_count": null,
      "outputs": []
    },
    {
      "cell_type": "code",
      "metadata": {
        "id": "abofvkMGFEvo"
      },
      "source": [
        "def get_final_results(cluster_label):\n",
        "    no_of_points = []\n",
        "    labelled = []\n",
        "    unlabelled = []\n",
        "    cluster_lbl = []\n",
        "\n",
        "    dtf = [f'cluster{i}' for i in range(1,len(final_clusters) + 1)]\n",
        "    results = pd.DataFrame(dtf, columns = ['Clusters'])\n",
        "    \n",
        "    for i in cluster_label:\n",
        "        if( i != -1):\n",
        "            cluster_lbl.append(int(list(i)[0]))\n",
        "        else:\n",
        "            cluster_lbl.append(i)\n",
        "        \n",
        "    results['Label'] = cluster_lbl\n",
        "    \n",
        "    for i in range(len(final_clusters)):\n",
        "        no_of_points.append(len(final_clusters[i]))  #count of total samples\n",
        "        cl = 0\n",
        "        cu = 0\n",
        "        for j in final_clusters[i]:\n",
        "            if(j[-1] == -1):\n",
        "                cu += 1       #count of unlabelled samples\n",
        "            else:\n",
        "                cl += 1       #count of labelled samples\n",
        "        labelled.append(cl)\n",
        "        unlabelled.append(cu)\n",
        "\n",
        "    results['Total_Count'] = no_of_points\n",
        "    results['Count_ld'] = labelled\n",
        "    results['Count_ud'] = unlabelled\n",
        "    return results"
      ],
      "execution_count": null,
      "outputs": []
    },
    {
      "cell_type": "code",
      "metadata": {
        "colab": {
          "base_uri": "https://localhost:8080/",
          "height": 424
        },
        "id": "J5xmpi7VFIi8",
        "outputId": "9e6809d4-d1c8-47a1-d855-9eaa56b8f3d2"
      },
      "source": [
        "result = get_final_results(cluster_label)\n",
        "pd.DataFrame(result)"
      ],
      "execution_count": null,
      "outputs": [
        {
          "output_type": "execute_result",
          "data": {
            "text/html": [
              "\n",
              "  <div id=\"df-a2ed253e-1dec-451e-b3e9-1bbedc981796\">\n",
              "    <div class=\"colab-df-container\">\n",
              "      <div>\n",
              "<style scoped>\n",
              "    .dataframe tbody tr th:only-of-type {\n",
              "        vertical-align: middle;\n",
              "    }\n",
              "\n",
              "    .dataframe tbody tr th {\n",
              "        vertical-align: top;\n",
              "    }\n",
              "\n",
              "    .dataframe thead th {\n",
              "        text-align: right;\n",
              "    }\n",
              "</style>\n",
              "<table border=\"1\" class=\"dataframe\">\n",
              "  <thead>\n",
              "    <tr style=\"text-align: right;\">\n",
              "      <th></th>\n",
              "      <th>Clusters</th>\n",
              "      <th>Label</th>\n",
              "      <th>Total_Count</th>\n",
              "      <th>Count_ld</th>\n",
              "      <th>Count_ud</th>\n",
              "    </tr>\n",
              "  </thead>\n",
              "  <tbody>\n",
              "    <tr>\n",
              "      <th>0</th>\n",
              "      <td>cluster1</td>\n",
              "      <td>4</td>\n",
              "      <td>42</td>\n",
              "      <td>42</td>\n",
              "      <td>0</td>\n",
              "    </tr>\n",
              "    <tr>\n",
              "      <th>1</th>\n",
              "      <td>cluster2</td>\n",
              "      <td>8</td>\n",
              "      <td>5</td>\n",
              "      <td>5</td>\n",
              "      <td>0</td>\n",
              "    </tr>\n",
              "    <tr>\n",
              "      <th>2</th>\n",
              "      <td>cluster3</td>\n",
              "      <td>5</td>\n",
              "      <td>1</td>\n",
              "      <td>1</td>\n",
              "      <td>0</td>\n",
              "    </tr>\n",
              "    <tr>\n",
              "      <th>3</th>\n",
              "      <td>cluster4</td>\n",
              "      <td>8</td>\n",
              "      <td>3</td>\n",
              "      <td>3</td>\n",
              "      <td>0</td>\n",
              "    </tr>\n",
              "    <tr>\n",
              "      <th>4</th>\n",
              "      <td>cluster5</td>\n",
              "      <td>8</td>\n",
              "      <td>1</td>\n",
              "      <td>1</td>\n",
              "      <td>0</td>\n",
              "    </tr>\n",
              "    <tr>\n",
              "      <th>...</th>\n",
              "      <td>...</td>\n",
              "      <td>...</td>\n",
              "      <td>...</td>\n",
              "      <td>...</td>\n",
              "      <td>...</td>\n",
              "    </tr>\n",
              "    <tr>\n",
              "      <th>158</th>\n",
              "      <td>cluster159</td>\n",
              "      <td>11</td>\n",
              "      <td>1</td>\n",
              "      <td>1</td>\n",
              "      <td>0</td>\n",
              "    </tr>\n",
              "    <tr>\n",
              "      <th>159</th>\n",
              "      <td>cluster160</td>\n",
              "      <td>2</td>\n",
              "      <td>1</td>\n",
              "      <td>1</td>\n",
              "      <td>0</td>\n",
              "    </tr>\n",
              "    <tr>\n",
              "      <th>160</th>\n",
              "      <td>cluster161</td>\n",
              "      <td>10</td>\n",
              "      <td>1</td>\n",
              "      <td>1</td>\n",
              "      <td>0</td>\n",
              "    </tr>\n",
              "    <tr>\n",
              "      <th>161</th>\n",
              "      <td>cluster162</td>\n",
              "      <td>10</td>\n",
              "      <td>1</td>\n",
              "      <td>1</td>\n",
              "      <td>0</td>\n",
              "    </tr>\n",
              "    <tr>\n",
              "      <th>162</th>\n",
              "      <td>cluster163</td>\n",
              "      <td>7</td>\n",
              "      <td>1</td>\n",
              "      <td>1</td>\n",
              "      <td>0</td>\n",
              "    </tr>\n",
              "  </tbody>\n",
              "</table>\n",
              "<p>163 rows × 5 columns</p>\n",
              "</div>\n",
              "      <button class=\"colab-df-convert\" onclick=\"convertToInteractive('df-a2ed253e-1dec-451e-b3e9-1bbedc981796')\"\n",
              "              title=\"Convert this dataframe to an interactive table.\"\n",
              "              style=\"display:none;\">\n",
              "        \n",
              "  <svg xmlns=\"http://www.w3.org/2000/svg\" height=\"24px\"viewBox=\"0 0 24 24\"\n",
              "       width=\"24px\">\n",
              "    <path d=\"M0 0h24v24H0V0z\" fill=\"none\"/>\n",
              "    <path d=\"M18.56 5.44l.94 2.06.94-2.06 2.06-.94-2.06-.94-.94-2.06-.94 2.06-2.06.94zm-11 1L8.5 8.5l.94-2.06 2.06-.94-2.06-.94L8.5 2.5l-.94 2.06-2.06.94zm10 10l.94 2.06.94-2.06 2.06-.94-2.06-.94-.94-2.06-.94 2.06-2.06.94z\"/><path d=\"M17.41 7.96l-1.37-1.37c-.4-.4-.92-.59-1.43-.59-.52 0-1.04.2-1.43.59L10.3 9.45l-7.72 7.72c-.78.78-.78 2.05 0 2.83L4 21.41c.39.39.9.59 1.41.59.51 0 1.02-.2 1.41-.59l7.78-7.78 2.81-2.81c.8-.78.8-2.07 0-2.86zM5.41 20L4 18.59l7.72-7.72 1.47 1.35L5.41 20z\"/>\n",
              "  </svg>\n",
              "      </button>\n",
              "      \n",
              "  <style>\n",
              "    .colab-df-container {\n",
              "      display:flex;\n",
              "      flex-wrap:wrap;\n",
              "      gap: 12px;\n",
              "    }\n",
              "\n",
              "    .colab-df-convert {\n",
              "      background-color: #E8F0FE;\n",
              "      border: none;\n",
              "      border-radius: 50%;\n",
              "      cursor: pointer;\n",
              "      display: none;\n",
              "      fill: #1967D2;\n",
              "      height: 32px;\n",
              "      padding: 0 0 0 0;\n",
              "      width: 32px;\n",
              "    }\n",
              "\n",
              "    .colab-df-convert:hover {\n",
              "      background-color: #E2EBFA;\n",
              "      box-shadow: 0px 1px 2px rgba(60, 64, 67, 0.3), 0px 1px 3px 1px rgba(60, 64, 67, 0.15);\n",
              "      fill: #174EA6;\n",
              "    }\n",
              "\n",
              "    [theme=dark] .colab-df-convert {\n",
              "      background-color: #3B4455;\n",
              "      fill: #D2E3FC;\n",
              "    }\n",
              "\n",
              "    [theme=dark] .colab-df-convert:hover {\n",
              "      background-color: #434B5C;\n",
              "      box-shadow: 0px 1px 3px 1px rgba(0, 0, 0, 0.15);\n",
              "      filter: drop-shadow(0px 1px 2px rgba(0, 0, 0, 0.3));\n",
              "      fill: #FFFFFF;\n",
              "    }\n",
              "  </style>\n",
              "\n",
              "      <script>\n",
              "        const buttonEl =\n",
              "          document.querySelector('#df-a2ed253e-1dec-451e-b3e9-1bbedc981796 button.colab-df-convert');\n",
              "        buttonEl.style.display =\n",
              "          google.colab.kernel.accessAllowed ? 'block' : 'none';\n",
              "\n",
              "        async function convertToInteractive(key) {\n",
              "          const element = document.querySelector('#df-a2ed253e-1dec-451e-b3e9-1bbedc981796');\n",
              "          const dataTable =\n",
              "            await google.colab.kernel.invokeFunction('convertToInteractive',\n",
              "                                                     [key], {});\n",
              "          if (!dataTable) return;\n",
              "\n",
              "          const docLinkHtml = 'Like what you see? Visit the ' +\n",
              "            '<a target=\"_blank\" href=https://colab.research.google.com/notebooks/data_table.ipynb>data table notebook</a>'\n",
              "            + ' to learn more about interactive tables.';\n",
              "          element.innerHTML = '';\n",
              "          dataTable['output_type'] = 'display_data';\n",
              "          await google.colab.output.renderOutput(dataTable, element);\n",
              "          const docLink = document.createElement('div');\n",
              "          docLink.innerHTML = docLinkHtml;\n",
              "          element.appendChild(docLink);\n",
              "        }\n",
              "      </script>\n",
              "    </div>\n",
              "  </div>\n",
              "  "
            ],
            "text/plain": [
              "       Clusters  Label  Total_Count  Count_ld  Count_ud\n",
              "0      cluster1      4           42        42         0\n",
              "1      cluster2      8            5         5         0\n",
              "2      cluster3      5            1         1         0\n",
              "3      cluster4      8            3         3         0\n",
              "4      cluster5      8            1         1         0\n",
              "..          ...    ...          ...       ...       ...\n",
              "158  cluster159     11            1         1         0\n",
              "159  cluster160      2            1         1         0\n",
              "160  cluster161     10            1         1         0\n",
              "161  cluster162     10            1         1         0\n",
              "162  cluster163      7            1         1         0\n",
              "\n",
              "[163 rows x 5 columns]"
            ]
          },
          "metadata": {},
          "execution_count": 297
        }
      ]
    },
    {
      "cell_type": "markdown",
      "metadata": {
        "id": "U3Q8N2fxGKnj"
      },
      "source": [
        "# Setting weighted radius of clusters as threshold"
      ]
    },
    {
      "cell_type": "code",
      "metadata": {
        "id": "AAMpwb35CLqT"
      },
      "source": [
        "rad=[]\n",
        "for i in range(len(final_centroids)):\n",
        "    dist=[]\n",
        "    for j in final_clusters[i]:\n",
        "        dist.append(distance(final_centroids[i],j[:-2]))\n",
        "    rad.append(np.max(dist))"
      ],
      "execution_count": null,
      "outputs": []
    },
    {
      "cell_type": "code",
      "metadata": {
        "id": "a_qE4ma8Kzfd"
      },
      "source": [
        "wrad=0\n",
        "npnts=data.shape[0]\n",
        "for i in range(len(final_clusters)):\n",
        "    wrad += rad[i]*len(final_clusters[i])\n",
        "wrad/=npnts"
      ],
      "execution_count": null,
      "outputs": []
    },
    {
      "cell_type": "markdown",
      "source": [
        "# Predicting class labels for test data using nearest-neighbour rule"
      ],
      "metadata": {
        "id": "xTBNB8jPuZ4E"
      }
    },
    {
      "cell_type": "code",
      "source": [
        "y_pred=[]\n",
        "for i in range(X_test_.shape[0]):\n",
        "      l = []\n",
        "      for j in range(len(final_centroids)):\n",
        "            l.append(distance(X_test_.iloc[i],final_centroids[j]))      #calculate distance of the sample from each centroid\n",
        "      if min(l) <= wrad:\n",
        "            y_pred.append(result.iloc[l.index(min(l))]['Label'])             # assigning the label of the nearest centroid\n",
        "      else:\n",
        "            y_pred.append(-1)"
      ],
      "metadata": {
        "id": "rkNn-F4IvZYx"
      },
      "execution_count": null,
      "outputs": []
    },
    {
      "cell_type": "code",
      "metadata": {
        "colab": {
          "base_uri": "https://localhost:8080/"
        },
        "id": "0oJc1pdGnZDO",
        "outputId": "1970c273-ccd0-400d-e399-6f65006edf69"
      },
      "source": [
        "#Compute time elapsed at the end of proposed algorithm\n",
        "t.toc()"
      ],
      "execution_count": null,
      "outputs": [
        {
          "output_type": "stream",
          "name": "stdout",
          "text": [
            "Elapsed time is 15.672808 seconds.\n"
          ]
        }
      ]
    },
    {
      "cell_type": "markdown",
      "source": [
        "# Validating against ground truth"
      ],
      "metadata": {
        "id": "6L2eAGm10oJo"
      }
    },
    {
      "cell_type": "code",
      "source": [
        "y_test_ = y_test.copy()\n",
        "y_test_.reset_index(inplace=True, drop=True)"
      ],
      "metadata": {
        "id": "LPkON5ptJW1e"
      },
      "execution_count": null,
      "outputs": []
    },
    {
      "cell_type": "code",
      "source": [
        "unlabelled_ind = [i for i, x in enumerate(y_pred) if x == -1]\n",
        "ind = y_test_.index\n",
        "labelled_ind = y_test_.index[~ind.isin(unlabelled_ind)]"
      ],
      "metadata": {
        "id": "ETMOoVni1-9i"
      },
      "execution_count": null,
      "outputs": []
    },
    {
      "cell_type": "code",
      "source": [
        "print('Count of unlabelled cells: ', len(unlabelled_ind))\n",
        "print('Percentage of unlabelled cells: {0:.2f}'.format(len(unlabelled_ind)/X_test_.shape[0]*100))"
      ],
      "metadata": {
        "colab": {
          "base_uri": "https://localhost:8080/"
        },
        "id": "WaXM2D8jLICs",
        "outputId": "a350d9f8-0db0-43e3-cad6-f823313bbdb2"
      },
      "execution_count": null,
      "outputs": [
        {
          "output_type": "stream",
          "name": "stdout",
          "text": [
            "Count of unlabelled cells:  72\n",
            "Percentage of unlabelled cells: 14.15\n"
          ]
        }
      ]
    },
    {
      "cell_type": "code",
      "source": [
        "classified_GT = y_test_.iloc[labelled_ind]\n",
        "classified_pred = pd.DataFrame(y_pred).iloc[labelled_ind]"
      ],
      "metadata": {
        "id": "eQiLrXjG3Ad_"
      },
      "execution_count": null,
      "outputs": []
    },
    {
      "cell_type": "code",
      "source": [
        "print('CASSL\\n')\n",
        "print('Confusion matrix: \\n', confusion_matrix(classified_GT,classified_pred))\n",
        "\n",
        "print('Accuracy: {0:.2f}'.format(accuracy_score(classified_GT,classified_pred)))\n",
        "\n",
        "print('Classification_report: \\n', classification_report(classified_GT,classified_pred))"
      ],
      "metadata": {
        "colab": {
          "base_uri": "https://localhost:8080/"
        },
        "id": "xGD_8rLKzkMT",
        "outputId": "55d0bec1-f2bc-4a0c-d95d-fd16993d12f6"
      },
      "execution_count": null,
      "outputs": [
        {
          "output_type": "stream",
          "name": "stdout",
          "text": [
            "CASSL\n",
            "\n",
            "Confusion matrix: \n",
            " [[  1   2   0   0   0   0   0   0   0   0   0   0   0]\n",
            " [  1   1   0   0   0   0   0   0   0   0   0   0   0]\n",
            " [  1   0   2   0   0   0   0   0   0   0   0   1   0]\n",
            " [  0   0   0  33   2   0   0   0   0   0   0   0   0]\n",
            " [  0   0   0   0 223   2   1   0   0   0   0   0   0]\n",
            " [  0   0   0   0   2  24   0   0   0   0   0   0   0]\n",
            " [  0   0   0   0   0   0  63   0   0   0   0   0   0]\n",
            " [  0   0   0   0   0   0   0  31   0   0   2   4   0]\n",
            " [  0   0   0   0   0   1   0   0  10   0   0   0   0]\n",
            " [  1   0   0   0   0   0   0   0   0   2   0   0   0]\n",
            " [  0   0   0   0   0   0   0   0   0   0   8   2   0]\n",
            " [  0   0   0   0   0   0   0   1   0   0   8   7   0]\n",
            " [  0   0   1   0   0   0   0   0   0   0   0   0   0]]\n",
            "Accuracy: 0.93\n",
            "Classification_report: \n",
            "               precision    recall  f1-score   support\n",
            "\n",
            "           0       0.25      0.33      0.29         3\n",
            "           1       0.33      0.50      0.40         2\n",
            "           2       0.67      0.50      0.57         4\n",
            "           3       1.00      0.94      0.97        35\n",
            "           4       0.98      0.99      0.98       226\n",
            "           5       0.89      0.92      0.91        26\n",
            "           6       0.98      1.00      0.99        63\n",
            "           7       0.97      0.84      0.90        37\n",
            "           8       1.00      0.91      0.95        11\n",
            "           9       1.00      0.67      0.80         3\n",
            "          10       0.44      0.80      0.57        10\n",
            "          11       0.50      0.44      0.47        16\n",
            "          12       0.00      0.00      0.00         1\n",
            "\n",
            "    accuracy                           0.93       437\n",
            "   macro avg       0.69      0.68      0.68       437\n",
            "weighted avg       0.93      0.93      0.93       437\n",
            "\n"
          ]
        },
        {
          "output_type": "stream",
          "name": "stderr",
          "text": [
            "/usr/local/lib/python3.7/dist-packages/sklearn/metrics/_classification.py:1318: UndefinedMetricWarning: Precision and F-score are ill-defined and being set to 0.0 in labels with no predicted samples. Use `zero_division` parameter to control this behavior.\n",
            "  _warn_prf(average, modifier, msg_start, len(result))\n",
            "/usr/local/lib/python3.7/dist-packages/sklearn/metrics/_classification.py:1318: UndefinedMetricWarning: Precision and F-score are ill-defined and being set to 0.0 in labels with no predicted samples. Use `zero_division` parameter to control this behavior.\n",
            "  _warn_prf(average, modifier, msg_start, len(result))\n",
            "/usr/local/lib/python3.7/dist-packages/sklearn/metrics/_classification.py:1318: UndefinedMetricWarning: Precision and F-score are ill-defined and being set to 0.0 in labels with no predicted samples. Use `zero_division` parameter to control this behavior.\n",
            "  _warn_prf(average, modifier, msg_start, len(result))\n"
          ]
        }
      ]
    },
    {
      "cell_type": "markdown",
      "source": [
        "# Comparison against state-of-the-art supervised methods"
      ],
      "metadata": {
        "id": "eE315Z0tLsge"
      }
    },
    {
      "cell_type": "markdown",
      "source": [
        "Random Forest classifier"
      ],
      "metadata": {
        "id": "aLI1ayBMMWqt"
      }
    },
    {
      "cell_type": "code",
      "source": [
        "clf = RandomForestClassifier(random_state=42, n_estimators=50)\n",
        "clf.fit(X_train_, np.ravel(y_train))"
      ],
      "metadata": {
        "colab": {
          "base_uri": "https://localhost:8080/"
        },
        "id": "YBn9RUsfkS8c",
        "outputId": "ee8b382d-74e1-49c4-dc89-b79d88fea34f"
      },
      "execution_count": null,
      "outputs": [
        {
          "output_type": "execute_result",
          "data": {
            "text/plain": [
              "RandomForestClassifier(n_estimators=50, random_state=42)"
            ]
          },
          "metadata": {},
          "execution_count": 307
        }
      ]
    },
    {
      "cell_type": "code",
      "source": [
        "y_pred = clf.predict(X_test_)"
      ],
      "metadata": {
        "id": "CmEShjIPkS_-"
      },
      "execution_count": null,
      "outputs": []
    },
    {
      "cell_type": "code",
      "source": [
        "print('Random Forest\\n')\n",
        "print('Confusion matrix: \\n', confusion_matrix(y_test,y_pred))\n",
        "\n",
        "print('Accuracy: {0:.2f}'.format(accuracy_score(y_test,y_pred)))\n",
        "\n",
        "print('Classification_report: \\n', classification_report(y_test,y_pred))"
      ],
      "metadata": {
        "colab": {
          "base_uri": "https://localhost:8080/"
        },
        "id": "TfaHv6jgkTDJ",
        "outputId": "a9b9540d-7401-4223-fae1-0fae050e4835"
      },
      "execution_count": null,
      "outputs": [
        {
          "output_type": "stream",
          "name": "stdout",
          "text": [
            "Random Forest\n",
            "\n",
            "Confusion matrix: \n",
            " [[  3   0   0   0   0   0   0   0   0   0   0   0   0]\n",
            " [  2   0   0   0   1   0   0   0   0   0   0   0   0]\n",
            " [  1   0   3   0   0   0   0   0   0   0   0   0   0]\n",
            " [  0   0   0  54   0   0   0   0   1   0   0   0   0]\n",
            " [  0   0   0   1 228   1   0   0   0   0   0   0   0]\n",
            " [  0   0   0   1   1  48   0   0   0   0   0   0   0]\n",
            " [  0   0   0   0   2   0  80   0   0   0   0   0   0]\n",
            " [  0   0   1   0   0   0   0  34   0   0   1   2   0]\n",
            " [  0   0   0   1   0   0   0   0  12   0   0   0   0]\n",
            " [  1   0   0   0   0   0   0   0   0   1   0   1   0]\n",
            " [  0   0   0   0   0   0   0   2   0   0   5   4   0]\n",
            " [  0   0   2   0   0   0   0   0   0   0   7   7   0]\n",
            " [  0   0   1   0   0   0   0   0   0   0   0   0   0]]\n",
            "Accuracy: 0.93\n",
            "Classification_report: \n",
            "               precision    recall  f1-score   support\n",
            "\n",
            "           0       0.43      1.00      0.60         3\n",
            "           1       0.00      0.00      0.00         3\n",
            "           2       0.43      0.75      0.55         4\n",
            "           3       0.95      0.98      0.96        55\n",
            "           4       0.98      0.99      0.99       230\n",
            "           5       0.98      0.96      0.97        50\n",
            "           6       1.00      0.98      0.99        82\n",
            "           7       0.94      0.89      0.92        38\n",
            "           8       0.92      0.92      0.92        13\n",
            "           9       1.00      0.33      0.50         3\n",
            "          10       0.38      0.45      0.42        11\n",
            "          11       0.50      0.44      0.47        16\n",
            "          12       0.00      0.00      0.00         1\n",
            "\n",
            "    accuracy                           0.93       509\n",
            "   macro avg       0.66      0.67      0.64       509\n",
            "weighted avg       0.93      0.93      0.93       509\n",
            "\n"
          ]
        },
        {
          "output_type": "stream",
          "name": "stderr",
          "text": [
            "/usr/local/lib/python3.7/dist-packages/sklearn/metrics/_classification.py:1318: UndefinedMetricWarning: Precision and F-score are ill-defined and being set to 0.0 in labels with no predicted samples. Use `zero_division` parameter to control this behavior.\n",
            "  _warn_prf(average, modifier, msg_start, len(result))\n",
            "/usr/local/lib/python3.7/dist-packages/sklearn/metrics/_classification.py:1318: UndefinedMetricWarning: Precision and F-score are ill-defined and being set to 0.0 in labels with no predicted samples. Use `zero_division` parameter to control this behavior.\n",
            "  _warn_prf(average, modifier, msg_start, len(result))\n",
            "/usr/local/lib/python3.7/dist-packages/sklearn/metrics/_classification.py:1318: UndefinedMetricWarning: Precision and F-score are ill-defined and being set to 0.0 in labels with no predicted samples. Use `zero_division` parameter to control this behavior.\n",
            "  _warn_prf(average, modifier, msg_start, len(result))\n"
          ]
        }
      ]
    },
    {
      "cell_type": "markdown",
      "source": [
        "k-nn"
      ],
      "metadata": {
        "id": "zYABK7i3Qcgr"
      }
    },
    {
      "cell_type": "code",
      "source": [
        "neigh = KNeighborsClassifier(n_neighbors=9)\n",
        "neigh.fit(X_train_, np.ravel(y_train))"
      ],
      "metadata": {
        "colab": {
          "base_uri": "https://localhost:8080/"
        },
        "outputId": "c577fb0d-0ee1-4934-f807-72167005f739",
        "id": "qCw5kp1RQcgr"
      },
      "execution_count": null,
      "outputs": [
        {
          "output_type": "execute_result",
          "data": {
            "text/plain": [
              "KNeighborsClassifier(n_neighbors=9)"
            ]
          },
          "metadata": {},
          "execution_count": 310
        }
      ]
    },
    {
      "cell_type": "code",
      "source": [
        "y_pred = neigh.predict(X_test_)"
      ],
      "metadata": {
        "id": "BGF97-eSQcgr"
      },
      "execution_count": null,
      "outputs": []
    },
    {
      "cell_type": "code",
      "source": [
        "print('k-nn\\n')\n",
        "print('Confusion matrix: \\n', confusion_matrix(y_test,y_pred))\n",
        "\n",
        "print('Accuracy: {0:.2f}'.format(accuracy_score(y_test,y_pred)))\n",
        "\n",
        "print('Classification_report: \\n', classification_report(y_test,y_pred))"
      ],
      "metadata": {
        "colab": {
          "base_uri": "https://localhost:8080/"
        },
        "outputId": "b90d9491-5741-494b-ffb0-bd605323fcd4",
        "id": "z5sc5ieGQcgr"
      },
      "execution_count": null,
      "outputs": [
        {
          "output_type": "stream",
          "name": "stdout",
          "text": [
            "k-nn\n",
            "\n",
            "Confusion matrix: \n",
            " [[  3   0   0   0   0   0   0   0   0   0   0   0   0]\n",
            " [  2   0   0   0   1   0   0   0   0   0   0   0   0]\n",
            " [  1   0   3   0   0   0   0   0   0   0   0   0   0]\n",
            " [  0   0   0  54   1   0   0   0   0   0   0   0   0]\n",
            " [  0   0   0   1 228   1   0   0   0   0   0   0   0]\n",
            " [  0   0   0   1   1  48   0   0   0   0   0   0   0]\n",
            " [  0   0   0   0   1   0  81   0   0   0   0   0   0]\n",
            " [  0   0   0   0   2   0   0  30   0   0   5   1   0]\n",
            " [  0   0   0   1   0   0   0   0  12   0   0   0   0]\n",
            " [  2   0   0   0   0   0   0   0   0   1   0   0   0]\n",
            " [  0   0   0   0   0   0   0   2   0   0   8   1   0]\n",
            " [  0   0   1   0   0   0   0   0   0   0   7   8   0]\n",
            " [  0   0   1   0   0   0   0   0   0   0   0   0   0]]\n",
            "Accuracy: 0.94\n",
            "Classification_report: \n",
            "               precision    recall  f1-score   support\n",
            "\n",
            "           0       0.38      1.00      0.55         3\n",
            "           1       0.00      0.00      0.00         3\n",
            "           2       0.60      0.75      0.67         4\n",
            "           3       0.95      0.98      0.96        55\n",
            "           4       0.97      0.99      0.98       230\n",
            "           5       0.98      0.96      0.97        50\n",
            "           6       1.00      0.99      0.99        82\n",
            "           7       0.94      0.79      0.86        38\n",
            "           8       1.00      0.92      0.96        13\n",
            "           9       1.00      0.33      0.50         3\n",
            "          10       0.40      0.73      0.52        11\n",
            "          11       0.80      0.50      0.62        16\n",
            "          12       0.00      0.00      0.00         1\n",
            "\n",
            "    accuracy                           0.94       509\n",
            "   macro avg       0.69      0.69      0.66       509\n",
            "weighted avg       0.94      0.94      0.93       509\n",
            "\n"
          ]
        },
        {
          "output_type": "stream",
          "name": "stderr",
          "text": [
            "/usr/local/lib/python3.7/dist-packages/sklearn/metrics/_classification.py:1318: UndefinedMetricWarning: Precision and F-score are ill-defined and being set to 0.0 in labels with no predicted samples. Use `zero_division` parameter to control this behavior.\n",
            "  _warn_prf(average, modifier, msg_start, len(result))\n",
            "/usr/local/lib/python3.7/dist-packages/sklearn/metrics/_classification.py:1318: UndefinedMetricWarning: Precision and F-score are ill-defined and being set to 0.0 in labels with no predicted samples. Use `zero_division` parameter to control this behavior.\n",
            "  _warn_prf(average, modifier, msg_start, len(result))\n",
            "/usr/local/lib/python3.7/dist-packages/sklearn/metrics/_classification.py:1318: UndefinedMetricWarning: Precision and F-score are ill-defined and being set to 0.0 in labels with no predicted samples. Use `zero_division` parameter to control this behavior.\n",
            "  _warn_prf(average, modifier, msg_start, len(result))\n"
          ]
        }
      ]
    },
    {
      "cell_type": "markdown",
      "source": [
        "Support Vector Machine"
      ],
      "metadata": {
        "id": "rwM0BW66a6x0"
      }
    },
    {
      "cell_type": "code",
      "source": [
        "clf = SVC(gamma='auto', kernel='linear')\n",
        "clf.fit(X_train_, np.ravel(y_train))"
      ],
      "metadata": {
        "colab": {
          "base_uri": "https://localhost:8080/"
        },
        "outputId": "c0bc37a8-4093-4ebf-b3fc-f918441fae13",
        "id": "qIxIEDDsa6x3"
      },
      "execution_count": null,
      "outputs": [
        {
          "output_type": "execute_result",
          "data": {
            "text/plain": [
              "SVC(gamma='auto', kernel='linear')"
            ]
          },
          "metadata": {},
          "execution_count": 313
        }
      ]
    },
    {
      "cell_type": "code",
      "source": [
        "y_pred = clf.predict(X_test_)"
      ],
      "metadata": {
        "id": "8JQF8_Csa6x5"
      },
      "execution_count": null,
      "outputs": []
    },
    {
      "cell_type": "code",
      "source": [
        "print('Support Vector Machine\\n')\n",
        "print('Confusion matrix: \\n', confusion_matrix(y_test,y_pred))\n",
        "\n",
        "print('Accuracy: {0:.2f}'.format(accuracy_score(y_test,y_pred)))\n",
        "\n",
        "print('Classification_report: \\n', classification_report(y_test,y_pred))"
      ],
      "metadata": {
        "colab": {
          "base_uri": "https://localhost:8080/"
        },
        "outputId": "48fc2b58-c64a-49e5-8a53-ae88489197a0",
        "id": "afWdQzGpa6x5"
      },
      "execution_count": null,
      "outputs": [
        {
          "output_type": "stream",
          "name": "stdout",
          "text": [
            "Support Vector Machine\n",
            "\n",
            "Confusion matrix: \n",
            " [[  2   0   0   0   0   0   0   0   0   0   0   1   0]\n",
            " [  0   0   0   0   0   0   0   0   0   0   0   3   0]\n",
            " [  0   0   0   0   0   0   0   0   0   0   0   4   0]\n",
            " [  0   0   0  55   0   0   0   0   0   0   0   0   0]\n",
            " [  0   0   0   0 229   1   0   0   0   0   0   0   0]\n",
            " [  0   0   0   1   1  48   0   0   0   0   0   0   0]\n",
            " [  0   0   0   0   0   0  82   0   0   0   0   0   0]\n",
            " [  0   0   0   0   2   0   0  33   0   0   1   2   0]\n",
            " [  0   0   0   1   0   0   0   0  12   0   0   0   0]\n",
            " [  0   0   0   0   0   0   0   0   0   0   0   3   0]\n",
            " [  0   0   0   0   0   0   0   3   0   0   3   5   0]\n",
            " [  0   0   0   0   0   0   0   2   0   0   3  11   0]\n",
            " [  0   0   0   0   0   0   0   0   0   0   0   1   0]]\n",
            "Accuracy: 0.93\n",
            "Classification_report: \n",
            "               precision    recall  f1-score   support\n",
            "\n",
            "           0       1.00      0.67      0.80         3\n",
            "           1       0.00      0.00      0.00         3\n",
            "           2       0.00      0.00      0.00         4\n",
            "           3       0.96      1.00      0.98        55\n",
            "           4       0.99      1.00      0.99       230\n",
            "           5       0.98      0.96      0.97        50\n",
            "           6       1.00      1.00      1.00        82\n",
            "           7       0.87      0.87      0.87        38\n",
            "           8       1.00      0.92      0.96        13\n",
            "           9       0.00      0.00      0.00         3\n",
            "          10       0.43      0.27      0.33        11\n",
            "          11       0.37      0.69      0.48        16\n",
            "          12       0.00      0.00      0.00         1\n",
            "\n",
            "    accuracy                           0.93       509\n",
            "   macro avg       0.58      0.57      0.57       509\n",
            "weighted avg       0.92      0.93      0.93       509\n",
            "\n"
          ]
        },
        {
          "output_type": "stream",
          "name": "stderr",
          "text": [
            "/usr/local/lib/python3.7/dist-packages/sklearn/metrics/_classification.py:1318: UndefinedMetricWarning: Precision and F-score are ill-defined and being set to 0.0 in labels with no predicted samples. Use `zero_division` parameter to control this behavior.\n",
            "  _warn_prf(average, modifier, msg_start, len(result))\n",
            "/usr/local/lib/python3.7/dist-packages/sklearn/metrics/_classification.py:1318: UndefinedMetricWarning: Precision and F-score are ill-defined and being set to 0.0 in labels with no predicted samples. Use `zero_division` parameter to control this behavior.\n",
            "  _warn_prf(average, modifier, msg_start, len(result))\n",
            "/usr/local/lib/python3.7/dist-packages/sklearn/metrics/_classification.py:1318: UndefinedMetricWarning: Precision and F-score are ill-defined and being set to 0.0 in labels with no predicted samples. Use `zero_division` parameter to control this behavior.\n",
            "  _warn_prf(average, modifier, msg_start, len(result))\n"
          ]
        }
      ]
    },
    {
      "cell_type": "markdown",
      "metadata": {
        "id": "dlpanaNnFPI-"
      },
      "source": [
        "# -----------THE END----------"
      ]
    }
  ]
}
