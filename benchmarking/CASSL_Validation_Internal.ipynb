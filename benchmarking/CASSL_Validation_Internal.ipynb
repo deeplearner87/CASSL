{
  "nbformat": 4,
  "nbformat_minor": 0,
  "metadata": {
    "colab": {
      "name": "CASSL_Validation_Internal.ipynb",
      "provenance": [],
      "collapsed_sections": [
        "Nmxn0dEhwf0s"
      ],
      "toc_visible": true
    },
    "kernelspec": {
      "display_name": "Python 3",
      "name": "python3"
    }
  },
  "cells": [
    {
      "cell_type": "markdown",
      "metadata": {
        "id": "uzxWXO1V2oh6"
      },
      "source": [
        "# Importing libraries"
      ]
    },
    {
      "cell_type": "code",
      "metadata": {
        "id": "sXG7u5it2WrK"
      },
      "source": [
        "import math\n",
        "import pandas as pd\n",
        "import numpy as np\n",
        "import matplotlib.pyplot as plt\n",
        "import seaborn as sns\n",
        "import random\n",
        "from sklearn.cluster import KMeans\n",
        "from sklearn.preprocessing import LabelEncoder\n",
        "from sklearn.metrics.cluster import adjusted_rand_score, adjusted_mutual_info_score, fowlkes_mallows_score\n",
        "from sklearn.metrics import silhouette_score, davies_bouldin_score, calinski_harabasz_score\n",
        "import seaborn as sns\n",
        "from sklearn.manifold import TSNE\n",
        "from sklearn.decomposition import NMF\n",
        "import tensorflow as tf\n",
        "from sklearn.metrics.pairwise import euclidean_distances"
      ],
      "execution_count": null,
      "outputs": []
    },
    {
      "cell_type": "code",
      "metadata": {
        "id": "azZAvGkqCVP3",
        "colab": {
          "base_uri": "https://localhost:8080/"
        },
        "outputId": "834a2e16-342d-48b7-8c72-dcd633edc514"
      },
      "source": [
        "!pip install pytictoc"
      ],
      "execution_count": null,
      "outputs": [
        {
          "output_type": "stream",
          "name": "stdout",
          "text": [
            "Requirement already satisfied: pytictoc in /usr/local/lib/python3.7/dist-packages (1.5.2)\n"
          ]
        }
      ]
    },
    {
      "cell_type": "code",
      "metadata": {
        "colab": {
          "base_uri": "https://localhost:8080/"
        },
        "id": "I_g0ZJR-jOi_",
        "outputId": "7000b1d4-ee10-4e0b-eae0-047f379f363d"
      },
      "source": [
        "!pip install kneed"
      ],
      "execution_count": null,
      "outputs": [
        {
          "output_type": "stream",
          "name": "stdout",
          "text": [
            "Requirement already satisfied: kneed in /usr/local/lib/python3.7/dist-packages (0.7.0)\n",
            "Requirement already satisfied: numpy>=1.14.2 in /usr/local/lib/python3.7/dist-packages (from kneed) (1.19.5)\n",
            "Requirement already satisfied: matplotlib in /usr/local/lib/python3.7/dist-packages (from kneed) (3.2.2)\n",
            "Requirement already satisfied: scipy in /usr/local/lib/python3.7/dist-packages (from kneed) (1.4.1)\n",
            "Requirement already satisfied: cycler>=0.10 in /usr/local/lib/python3.7/dist-packages (from matplotlib->kneed) (0.10.0)\n",
            "Requirement already satisfied: python-dateutil>=2.1 in /usr/local/lib/python3.7/dist-packages (from matplotlib->kneed) (2.8.2)\n",
            "Requirement already satisfied: kiwisolver>=1.0.1 in /usr/local/lib/python3.7/dist-packages (from matplotlib->kneed) (1.3.2)\n",
            "Requirement already satisfied: pyparsing!=2.0.4,!=2.1.2,!=2.1.6,>=2.0.1 in /usr/local/lib/python3.7/dist-packages (from matplotlib->kneed) (2.4.7)\n",
            "Requirement already satisfied: six in /usr/local/lib/python3.7/dist-packages (from cycler>=0.10->matplotlib->kneed) (1.15.0)\n"
          ]
        }
      ]
    },
    {
      "cell_type": "code",
      "metadata": {
        "id": "i9ks8QJYCe3j"
      },
      "source": [
        "from pytictoc import TicToc\n",
        "t = TicToc()"
      ],
      "execution_count": null,
      "outputs": []
    },
    {
      "cell_type": "markdown",
      "metadata": {
        "id": "CEhM9idP3AuQ"
      },
      "source": [
        "# Importing scRNA-seq data"
      ]
    },
    {
      "cell_type": "code",
      "metadata": {
        "id": "bRiS4oDCi7aX",
        "colab": {
          "base_uri": "https://localhost:8080/"
        },
        "outputId": "b38cc320-7135-4622-cc4b-b158b5ff5bc0"
      },
      "source": [
        "#Mounting google drive\n",
        "from google.colab import drive\n",
        "drive.mount('/content/drive')"
      ],
      "execution_count": null,
      "outputs": [
        {
          "output_type": "stream",
          "name": "stdout",
          "text": [
            "Drive already mounted at /content/drive; to attempt to forcibly remount, call drive.mount(\"/content/drive\", force_remount=True).\n"
          ]
        }
      ]
    },
    {
      "cell_type": "code",
      "metadata": {
        "colab": {
          "base_uri": "https://localhost:8080/"
        },
        "id": "vnkqz3ZpjErq",
        "outputId": "1e0892b2-d7f3-45bb-8f31-aff319e95cd2"
      },
      "source": [
        "ls \"/content/drive/My Drive/scRNAseq Data/Preprocessed_Data_Annotations/\""
      ],
      "execution_count": null,
      "outputs": [
        {
          "output_type": "stream",
          "name": "stdout",
          "text": [
            "AMB_annotations.csv\n",
            "AMB_preprocessed_data_scprep_percentile_5_95.csv\n",
            "Baron_Human_annotations.csv\n",
            "Baron_Human_preprocessed_data_scprep_percentile_5_95.csv\n",
            "Baron_Mouse_annotations.csv\n",
            "Baron_Mouse_preprocessed_data_scprep_percentile_5_95.csv\n",
            "GSE57249_fpkm_labels.csv\n",
            "GSE57249_fpkm_preprocessed.csv\n",
            "missingAnnotations_Test.csv\n",
            "PBMC_3k_annotations.csv\n",
            "PBMC3K_preprocessed_data_minmax_normalized.csv\n",
            "PBMC_3k_preprocessed_data_scanpy.csv\n",
            "Preimplantation_annotations.csv\n",
            "Preimplantation_preprocessed_data_scprep_percentile_20_90.csv\n",
            "Segerstolpe_annotations.csv\n",
            "Segerstolpe_preprocessed_data_scprep_percentile_10_95.csv\n",
            "Usoskin_annotations.csv\n",
            "Usoskin_preprocessed_data_scprep_percentile_5_95.csv\n",
            "Zeisel_annotations.csv\n",
            "Zeisel_preprocessed_data_scprep_percentile_5_95.csv\n",
            "Zheng_PBMC_DownSampled_annotations.csv\n",
            "Zheng_PBMC_DownSampled_preprocessed_data_scprep_percentile_5_90.csv\n"
          ]
        }
      ]
    },
    {
      "cell_type": "code",
      "metadata": {
        "id": "A4nNDNWpi4AY"
      },
      "source": [
        "data = pd.read_csv(\"/content/drive/My Drive/scRNAseq Data/Preprocessed_Data_Annotations/Baron_Mouse_preprocessed_data_scprep_percentile_5_95.csv\", header=0, index_col=0, sep=\",\")"
      ],
      "execution_count": null,
      "outputs": []
    },
    {
      "cell_type": "code",
      "metadata": {
        "id": "T6Dzw-jBcMoH"
      },
      "source": [
        "labels = pd.read_csv(\"/content/drive/My Drive/scRNAseq Data/Preprocessed_Data_Annotations/Baron_Mouse_annotations.csv\", header=0, index_col=None, sep=\",\")"
      ],
      "execution_count": null,
      "outputs": []
    },
    {
      "cell_type": "code",
      "metadata": {
        "id": "EPrGapzDjtH_"
      },
      "source": [
        "data.reset_index(inplace=True, drop=True)"
      ],
      "execution_count": null,
      "outputs": []
    },
    {
      "cell_type": "code",
      "metadata": {
        "colab": {
          "base_uri": "https://localhost:8080/",
          "height": 253
        },
        "id": "lp27GOLalq25",
        "outputId": "e6ca16bd-f44f-460e-c005-37f54f1e9e87"
      },
      "source": [
        "data.head()"
      ],
      "execution_count": null,
      "outputs": [
        {
          "output_type": "execute_result",
          "data": {
            "text/html": [
              "<div>\n",
              "<style scoped>\n",
              "    .dataframe tbody tr th:only-of-type {\n",
              "        vertical-align: middle;\n",
              "    }\n",
              "\n",
              "    .dataframe tbody tr th {\n",
              "        vertical-align: top;\n",
              "    }\n",
              "\n",
              "    .dataframe thead th {\n",
              "        text-align: right;\n",
              "    }\n",
              "</style>\n",
              "<table border=\"1\" class=\"dataframe\">\n",
              "  <thead>\n",
              "    <tr style=\"text-align: right;\">\n",
              "      <th></th>\n",
              "      <th>X1110008F13Rik</th>\n",
              "      <th>X1110038B12Rik</th>\n",
              "      <th>X1810011O10Rik</th>\n",
              "      <th>X2210010C04Rik</th>\n",
              "      <th>X2210016F16Rik</th>\n",
              "      <th>X2510009E07Rik</th>\n",
              "      <th>X2810403A07Rik</th>\n",
              "      <th>X4632427E13Rik</th>\n",
              "      <th>X4932438A13Rik</th>\n",
              "      <th>X5330417C22Rik</th>\n",
              "      <th>X8430408G22Rik</th>\n",
              "      <th>AW112010</th>\n",
              "      <th>AW549877</th>\n",
              "      <th>Abca1</th>\n",
              "      <th>Abca3</th>\n",
              "      <th>Abcc8</th>\n",
              "      <th>Ace2</th>\n",
              "      <th>Ackr3</th>\n",
              "      <th>Acly</th>\n",
              "      <th>Acp5</th>\n",
              "      <th>Actb</th>\n",
              "      <th>Actg1</th>\n",
              "      <th>Actl6a</th>\n",
              "      <th>Actn1</th>\n",
              "      <th>Actn4</th>\n",
              "      <th>Adam8</th>\n",
              "      <th>Adamts1</th>\n",
              "      <th>Adgrl1</th>\n",
              "      <th>Adgrl2</th>\n",
              "      <th>Adgrl4</th>\n",
              "      <th>Adm</th>\n",
              "      <th>Aebp2</th>\n",
              "      <th>Aftph</th>\n",
              "      <th>Ago2</th>\n",
              "      <th>Agrn</th>\n",
              "      <th>Ahnak</th>\n",
              "      <th>Ajuba</th>\n",
              "      <th>Akap12</th>\n",
              "      <th>Akr1b8</th>\n",
              "      <th>Alcam</th>\n",
              "      <th>...</th>\n",
              "      <th>Utrn</th>\n",
              "      <th>Vcam1</th>\n",
              "      <th>Vezf1</th>\n",
              "      <th>Vgf</th>\n",
              "      <th>Vim</th>\n",
              "      <th>Vldlr</th>\n",
              "      <th>Vmp1</th>\n",
              "      <th>Vwa1</th>\n",
              "      <th>Vwf</th>\n",
              "      <th>Wars</th>\n",
              "      <th>Wasf2</th>\n",
              "      <th>Wbp5</th>\n",
              "      <th>Wdfy3</th>\n",
              "      <th>Wfdc18</th>\n",
              "      <th>Wfdc2</th>\n",
              "      <th>Wfs1</th>\n",
              "      <th>Wipi1</th>\n",
              "      <th>Wls</th>\n",
              "      <th>Wnt4</th>\n",
              "      <th>Wnt7a</th>\n",
              "      <th>Wrnip1</th>\n",
              "      <th>Wwc1</th>\n",
              "      <th>Wwc2</th>\n",
              "      <th>Wwtr1</th>\n",
              "      <th>Xist</th>\n",
              "      <th>Ypel2</th>\n",
              "      <th>Ypel3</th>\n",
              "      <th>Zc3h7a</th>\n",
              "      <th>Zcchc12</th>\n",
              "      <th>Zcchc18</th>\n",
              "      <th>Zdhhc2</th>\n",
              "      <th>Zfand5</th>\n",
              "      <th>Zfhx2</th>\n",
              "      <th>Zfos1</th>\n",
              "      <th>Zfp36</th>\n",
              "      <th>Zfp36l1</th>\n",
              "      <th>Zfp36l2</th>\n",
              "      <th>Zfp523</th>\n",
              "      <th>Zmynd11</th>\n",
              "      <th>Zranb2</th>\n",
              "    </tr>\n",
              "  </thead>\n",
              "  <tbody>\n",
              "    <tr>\n",
              "      <th>0</th>\n",
              "      <td>0.000000</td>\n",
              "      <td>0.000000</td>\n",
              "      <td>0.000000</td>\n",
              "      <td>0.0</td>\n",
              "      <td>0.000000</td>\n",
              "      <td>0.000000</td>\n",
              "      <td>1.746164</td>\n",
              "      <td>0.0</td>\n",
              "      <td>1.008149</td>\n",
              "      <td>1.425737</td>\n",
              "      <td>1.008149</td>\n",
              "      <td>0.0</td>\n",
              "      <td>0.000000</td>\n",
              "      <td>0.000000</td>\n",
              "      <td>0.0</td>\n",
              "      <td>3.024446</td>\n",
              "      <td>0.0</td>\n",
              "      <td>0.0</td>\n",
              "      <td>2.851475</td>\n",
              "      <td>0.0</td>\n",
              "      <td>2.851475</td>\n",
              "      <td>3.492329</td>\n",
              "      <td>0.000000</td>\n",
              "      <td>0.000000</td>\n",
              "      <td>1.008149</td>\n",
              "      <td>0.0</td>\n",
              "      <td>0.0</td>\n",
              "      <td>0.0</td>\n",
              "      <td>0.0</td>\n",
              "      <td>0.0</td>\n",
              "      <td>0.0</td>\n",
              "      <td>1.008149</td>\n",
              "      <td>1.008149</td>\n",
              "      <td>0.000000</td>\n",
              "      <td>0.0</td>\n",
              "      <td>0.000000</td>\n",
              "      <td>0.0</td>\n",
              "      <td>0.000000</td>\n",
              "      <td>0.000000</td>\n",
              "      <td>1.746164</td>\n",
              "      <td>...</td>\n",
              "      <td>1.008149</td>\n",
              "      <td>0.000000</td>\n",
              "      <td>0.0</td>\n",
              "      <td>1.425737</td>\n",
              "      <td>0.000000</td>\n",
              "      <td>1.425737</td>\n",
              "      <td>0.000000</td>\n",
              "      <td>0.0</td>\n",
              "      <td>0.0</td>\n",
              "      <td>0.000000</td>\n",
              "      <td>0.000000</td>\n",
              "      <td>2.016297</td>\n",
              "      <td>0.0</td>\n",
              "      <td>0.0</td>\n",
              "      <td>0.0</td>\n",
              "      <td>2.016297</td>\n",
              "      <td>0.000000</td>\n",
              "      <td>0.000000</td>\n",
              "      <td>0.000000</td>\n",
              "      <td>0.0</td>\n",
              "      <td>1.008149</td>\n",
              "      <td>1.425737</td>\n",
              "      <td>0.000000</td>\n",
              "      <td>0.000000</td>\n",
              "      <td>0.000000</td>\n",
              "      <td>0.0</td>\n",
              "      <td>1.746164</td>\n",
              "      <td>1.425737</td>\n",
              "      <td>1.425737</td>\n",
              "      <td>1.008149</td>\n",
              "      <td>0.000000</td>\n",
              "      <td>1.008149</td>\n",
              "      <td>0.000000</td>\n",
              "      <td>0.000000</td>\n",
              "      <td>1.425737</td>\n",
              "      <td>0.0</td>\n",
              "      <td>0.000000</td>\n",
              "      <td>1.008149</td>\n",
              "      <td>1.008149</td>\n",
              "      <td>1.425737</td>\n",
              "    </tr>\n",
              "    <tr>\n",
              "      <th>1</th>\n",
              "      <td>1.868914</td>\n",
              "      <td>1.525962</td>\n",
              "      <td>1.868914</td>\n",
              "      <td>0.0</td>\n",
              "      <td>0.000000</td>\n",
              "      <td>0.000000</td>\n",
              "      <td>0.000000</td>\n",
              "      <td>0.0</td>\n",
              "      <td>0.000000</td>\n",
              "      <td>0.000000</td>\n",
              "      <td>0.000000</td>\n",
              "      <td>0.0</td>\n",
              "      <td>0.000000</td>\n",
              "      <td>0.000000</td>\n",
              "      <td>0.0</td>\n",
              "      <td>0.000000</td>\n",
              "      <td>0.0</td>\n",
              "      <td>0.0</td>\n",
              "      <td>1.525962</td>\n",
              "      <td>0.0</td>\n",
              "      <td>10.897548</td>\n",
              "      <td>10.064410</td>\n",
              "      <td>0.000000</td>\n",
              "      <td>7.238273</td>\n",
              "      <td>3.890455</td>\n",
              "      <td>0.0</td>\n",
              "      <td>0.0</td>\n",
              "      <td>0.0</td>\n",
              "      <td>0.0</td>\n",
              "      <td>0.0</td>\n",
              "      <td>0.0</td>\n",
              "      <td>2.158036</td>\n",
              "      <td>1.079018</td>\n",
              "      <td>1.525962</td>\n",
              "      <td>0.0</td>\n",
              "      <td>6.198487</td>\n",
              "      <td>0.0</td>\n",
              "      <td>1.525962</td>\n",
              "      <td>2.158036</td>\n",
              "      <td>0.000000</td>\n",
              "      <td>...</td>\n",
              "      <td>1.079018</td>\n",
              "      <td>4.316072</td>\n",
              "      <td>0.0</td>\n",
              "      <td>0.000000</td>\n",
              "      <td>14.516703</td>\n",
              "      <td>0.000000</td>\n",
              "      <td>2.643044</td>\n",
              "      <td>0.0</td>\n",
              "      <td>0.0</td>\n",
              "      <td>0.000000</td>\n",
              "      <td>1.079018</td>\n",
              "      <td>0.000000</td>\n",
              "      <td>0.0</td>\n",
              "      <td>0.0</td>\n",
              "      <td>0.0</td>\n",
              "      <td>0.000000</td>\n",
              "      <td>0.000000</td>\n",
              "      <td>1.079018</td>\n",
              "      <td>0.000000</td>\n",
              "      <td>0.0</td>\n",
              "      <td>0.000000</td>\n",
              "      <td>0.000000</td>\n",
              "      <td>1.079018</td>\n",
              "      <td>1.525962</td>\n",
              "      <td>3.737828</td>\n",
              "      <td>0.0</td>\n",
              "      <td>0.000000</td>\n",
              "      <td>0.000000</td>\n",
              "      <td>0.000000</td>\n",
              "      <td>0.000000</td>\n",
              "      <td>1.079018</td>\n",
              "      <td>0.000000</td>\n",
              "      <td>0.000000</td>\n",
              "      <td>1.079018</td>\n",
              "      <td>1.079018</td>\n",
              "      <td>0.0</td>\n",
              "      <td>1.079018</td>\n",
              "      <td>1.079018</td>\n",
              "      <td>0.000000</td>\n",
              "      <td>0.000000</td>\n",
              "    </tr>\n",
              "    <tr>\n",
              "      <th>2</th>\n",
              "      <td>1.145122</td>\n",
              "      <td>1.145122</td>\n",
              "      <td>0.000000</td>\n",
              "      <td>0.0</td>\n",
              "      <td>1.145122</td>\n",
              "      <td>0.000000</td>\n",
              "      <td>0.000000</td>\n",
              "      <td>0.0</td>\n",
              "      <td>0.000000</td>\n",
              "      <td>2.560570</td>\n",
              "      <td>0.000000</td>\n",
              "      <td>0.0</td>\n",
              "      <td>0.000000</td>\n",
              "      <td>1.145122</td>\n",
              "      <td>0.0</td>\n",
              "      <td>2.804964</td>\n",
              "      <td>0.0</td>\n",
              "      <td>0.0</td>\n",
              "      <td>1.619446</td>\n",
              "      <td>0.0</td>\n",
              "      <td>1.619446</td>\n",
              "      <td>4.128795</td>\n",
              "      <td>1.619446</td>\n",
              "      <td>0.000000</td>\n",
              "      <td>1.619446</td>\n",
              "      <td>0.0</td>\n",
              "      <td>0.0</td>\n",
              "      <td>0.0</td>\n",
              "      <td>0.0</td>\n",
              "      <td>0.0</td>\n",
              "      <td>0.0</td>\n",
              "      <td>0.000000</td>\n",
              "      <td>0.000000</td>\n",
              "      <td>0.000000</td>\n",
              "      <td>0.0</td>\n",
              "      <td>0.000000</td>\n",
              "      <td>0.0</td>\n",
              "      <td>0.000000</td>\n",
              "      <td>0.000000</td>\n",
              "      <td>1.619446</td>\n",
              "      <td>...</td>\n",
              "      <td>1.145122</td>\n",
              "      <td>0.000000</td>\n",
              "      <td>0.0</td>\n",
              "      <td>2.290243</td>\n",
              "      <td>0.000000</td>\n",
              "      <td>1.619446</td>\n",
              "      <td>0.000000</td>\n",
              "      <td>0.0</td>\n",
              "      <td>0.0</td>\n",
              "      <td>0.000000</td>\n",
              "      <td>0.000000</td>\n",
              "      <td>3.238893</td>\n",
              "      <td>0.0</td>\n",
              "      <td>0.0</td>\n",
              "      <td>0.0</td>\n",
              "      <td>1.619446</td>\n",
              "      <td>1.145122</td>\n",
              "      <td>1.145122</td>\n",
              "      <td>0.000000</td>\n",
              "      <td>0.0</td>\n",
              "      <td>0.000000</td>\n",
              "      <td>1.145122</td>\n",
              "      <td>0.000000</td>\n",
              "      <td>0.000000</td>\n",
              "      <td>4.435037</td>\n",
              "      <td>0.0</td>\n",
              "      <td>1.619446</td>\n",
              "      <td>0.000000</td>\n",
              "      <td>0.000000</td>\n",
              "      <td>1.619446</td>\n",
              "      <td>1.983409</td>\n",
              "      <td>0.000000</td>\n",
              "      <td>0.000000</td>\n",
              "      <td>1.145122</td>\n",
              "      <td>0.000000</td>\n",
              "      <td>0.0</td>\n",
              "      <td>0.000000</td>\n",
              "      <td>1.145122</td>\n",
              "      <td>0.000000</td>\n",
              "      <td>1.145122</td>\n",
              "    </tr>\n",
              "    <tr>\n",
              "      <th>3</th>\n",
              "      <td>0.000000</td>\n",
              "      <td>0.000000</td>\n",
              "      <td>0.000000</td>\n",
              "      <td>0.0</td>\n",
              "      <td>0.000000</td>\n",
              "      <td>1.050538</td>\n",
              "      <td>0.000000</td>\n",
              "      <td>0.0</td>\n",
              "      <td>0.000000</td>\n",
              "      <td>1.050538</td>\n",
              "      <td>0.000000</td>\n",
              "      <td>0.0</td>\n",
              "      <td>0.000000</td>\n",
              "      <td>0.000000</td>\n",
              "      <td>0.0</td>\n",
              "      <td>1.485686</td>\n",
              "      <td>0.0</td>\n",
              "      <td>0.0</td>\n",
              "      <td>2.349075</td>\n",
              "      <td>0.0</td>\n",
              "      <td>3.151615</td>\n",
              "      <td>5.849150</td>\n",
              "      <td>0.000000</td>\n",
              "      <td>1.485686</td>\n",
              "      <td>0.000000</td>\n",
              "      <td>0.0</td>\n",
              "      <td>0.0</td>\n",
              "      <td>0.0</td>\n",
              "      <td>0.0</td>\n",
              "      <td>0.0</td>\n",
              "      <td>0.0</td>\n",
              "      <td>0.000000</td>\n",
              "      <td>0.000000</td>\n",
              "      <td>2.349075</td>\n",
              "      <td>0.0</td>\n",
              "      <td>0.000000</td>\n",
              "      <td>0.0</td>\n",
              "      <td>0.000000</td>\n",
              "      <td>0.000000</td>\n",
              "      <td>0.000000</td>\n",
              "      <td>...</td>\n",
              "      <td>0.000000</td>\n",
              "      <td>0.000000</td>\n",
              "      <td>0.0</td>\n",
              "      <td>4.457057</td>\n",
              "      <td>0.000000</td>\n",
              "      <td>1.485686</td>\n",
              "      <td>1.485686</td>\n",
              "      <td>0.0</td>\n",
              "      <td>0.0</td>\n",
              "      <td>1.050538</td>\n",
              "      <td>1.485686</td>\n",
              "      <td>3.322094</td>\n",
              "      <td>0.0</td>\n",
              "      <td>0.0</td>\n",
              "      <td>0.0</td>\n",
              "      <td>0.000000</td>\n",
              "      <td>2.101077</td>\n",
              "      <td>0.000000</td>\n",
              "      <td>1.050538</td>\n",
              "      <td>0.0</td>\n",
              "      <td>1.819586</td>\n",
              "      <td>0.000000</td>\n",
              "      <td>0.000000</td>\n",
              "      <td>0.000000</td>\n",
              "      <td>2.573283</td>\n",
              "      <td>0.0</td>\n",
              "      <td>1.819586</td>\n",
              "      <td>1.050538</td>\n",
              "      <td>0.000000</td>\n",
              "      <td>0.000000</td>\n",
              "      <td>1.050538</td>\n",
              "      <td>0.000000</td>\n",
              "      <td>1.485686</td>\n",
              "      <td>0.000000</td>\n",
              "      <td>0.000000</td>\n",
              "      <td>0.0</td>\n",
              "      <td>1.050538</td>\n",
              "      <td>0.000000</td>\n",
              "      <td>0.000000</td>\n",
              "      <td>2.101077</td>\n",
              "    </tr>\n",
              "    <tr>\n",
              "      <th>4</th>\n",
              "      <td>1.661139</td>\n",
              "      <td>0.959059</td>\n",
              "      <td>0.000000</td>\n",
              "      <td>0.0</td>\n",
              "      <td>0.000000</td>\n",
              "      <td>0.000000</td>\n",
              "      <td>0.000000</td>\n",
              "      <td>0.0</td>\n",
              "      <td>0.000000</td>\n",
              "      <td>1.661139</td>\n",
              "      <td>0.000000</td>\n",
              "      <td>0.0</td>\n",
              "      <td>1.356314</td>\n",
              "      <td>0.000000</td>\n",
              "      <td>0.0</td>\n",
              "      <td>1.356314</td>\n",
              "      <td>0.0</td>\n",
              "      <td>0.0</td>\n",
              "      <td>1.661139</td>\n",
              "      <td>0.0</td>\n",
              "      <td>1.918118</td>\n",
              "      <td>1.918118</td>\n",
              "      <td>1.356314</td>\n",
              "      <td>0.959059</td>\n",
              "      <td>1.356314</td>\n",
              "      <td>0.0</td>\n",
              "      <td>0.0</td>\n",
              "      <td>0.0</td>\n",
              "      <td>0.0</td>\n",
              "      <td>0.0</td>\n",
              "      <td>0.0</td>\n",
              "      <td>1.356314</td>\n",
              "      <td>0.959059</td>\n",
              "      <td>2.144521</td>\n",
              "      <td>0.0</td>\n",
              "      <td>0.000000</td>\n",
              "      <td>0.0</td>\n",
              "      <td>0.000000</td>\n",
              "      <td>0.000000</td>\n",
              "      <td>1.661139</td>\n",
              "      <td>...</td>\n",
              "      <td>0.000000</td>\n",
              "      <td>0.000000</td>\n",
              "      <td>0.0</td>\n",
              "      <td>2.712628</td>\n",
              "      <td>0.000000</td>\n",
              "      <td>1.356314</td>\n",
              "      <td>0.959059</td>\n",
              "      <td>0.0</td>\n",
              "      <td>0.0</td>\n",
              "      <td>1.356314</td>\n",
              "      <td>1.356314</td>\n",
              "      <td>3.457936</td>\n",
              "      <td>0.0</td>\n",
              "      <td>0.0</td>\n",
              "      <td>0.0</td>\n",
              "      <td>0.959059</td>\n",
              "      <td>0.000000</td>\n",
              "      <td>2.144521</td>\n",
              "      <td>0.000000</td>\n",
              "      <td>0.0</td>\n",
              "      <td>0.959059</td>\n",
              "      <td>0.000000</td>\n",
              "      <td>0.959059</td>\n",
              "      <td>0.000000</td>\n",
              "      <td>2.144521</td>\n",
              "      <td>0.0</td>\n",
              "      <td>1.661139</td>\n",
              "      <td>0.000000</td>\n",
              "      <td>0.959059</td>\n",
              "      <td>0.959059</td>\n",
              "      <td>0.000000</td>\n",
              "      <td>1.661139</td>\n",
              "      <td>2.144521</td>\n",
              "      <td>1.356314</td>\n",
              "      <td>0.000000</td>\n",
              "      <td>0.0</td>\n",
              "      <td>0.000000</td>\n",
              "      <td>0.000000</td>\n",
              "      <td>0.000000</td>\n",
              "      <td>1.356314</td>\n",
              "    </tr>\n",
              "  </tbody>\n",
              "</table>\n",
              "<p>5 rows × 1238 columns</p>\n",
              "</div>"
            ],
            "text/plain": [
              "   X1110008F13Rik  X1110038B12Rik  X1810011O10Rik  ...    Zfp523   Zmynd11    Zranb2\n",
              "0        0.000000        0.000000        0.000000  ...  1.008149  1.008149  1.425737\n",
              "1        1.868914        1.525962        1.868914  ...  1.079018  0.000000  0.000000\n",
              "2        1.145122        1.145122        0.000000  ...  1.145122  0.000000  1.145122\n",
              "3        0.000000        0.000000        0.000000  ...  0.000000  0.000000  2.101077\n",
              "4        1.661139        0.959059        0.000000  ...  0.000000  0.000000  1.356314\n",
              "\n",
              "[5 rows x 1238 columns]"
            ]
          },
          "metadata": {},
          "execution_count": 756
        }
      ]
    },
    {
      "cell_type": "code",
      "metadata": {
        "id": "ammPFg6xqyt0"
      },
      "source": [
        "#Change for Seurat\n",
        "train_data = pd.read_csv(\"/content/drive/My Drive/scRNAseq Data/CALLR/BaronMouseTrain.csv\", header=0, index_col=0, sep=\",\")"
      ],
      "execution_count": null,
      "outputs": []
    },
    {
      "cell_type": "code",
      "metadata": {
        "colab": {
          "base_uri": "https://localhost:8080/"
        },
        "id": "SibTXka8yNeL",
        "outputId": "0e7fd0df-1712-4de1-9a90-4b5d79e1063c"
      },
      "source": [
        "train_data.shape"
      ],
      "execution_count": null,
      "outputs": [
        {
          "output_type": "execute_result",
          "data": {
            "text/plain": [
              "(170, 2)"
            ]
          },
          "metadata": {},
          "execution_count": 758
        }
      ]
    },
    {
      "cell_type": "markdown",
      "metadata": {
        "id": "eM5GWDv_ScjG"
      },
      "source": [
        "# Scaling data (if required)"
      ]
    },
    {
      "cell_type": "code",
      "metadata": {
        "id": "NFsmycwG3-mO",
        "colab": {
          "base_uri": "https://localhost:8080/",
          "height": 253
        },
        "outputId": "57f48c8a-2943-41c0-942a-34f0df1183a1"
      },
      "source": [
        "%%script false\n",
        "#only for scanpy pre-processed data (PBMC - 10x Genomics)\n",
        "from sklearn.preprocessing import MinMaxScaler\n",
        "scaler = MinMaxScaler()\n",
        "data = pd.DataFrame(scaler.fit_transform(data))\n",
        "data.head()"
      ],
      "execution_count": null,
      "outputs": [
        {
          "output_type": "execute_result",
          "data": {
            "text/html": [
              "<div>\n",
              "<style scoped>\n",
              "    .dataframe tbody tr th:only-of-type {\n",
              "        vertical-align: middle;\n",
              "    }\n",
              "\n",
              "    .dataframe tbody tr th {\n",
              "        vertical-align: top;\n",
              "    }\n",
              "\n",
              "    .dataframe thead th {\n",
              "        text-align: right;\n",
              "    }\n",
              "</style>\n",
              "<table border=\"1\" class=\"dataframe\">\n",
              "  <thead>\n",
              "    <tr style=\"text-align: right;\">\n",
              "      <th></th>\n",
              "      <th>0</th>\n",
              "      <th>1</th>\n",
              "      <th>2</th>\n",
              "      <th>3</th>\n",
              "      <th>4</th>\n",
              "      <th>5</th>\n",
              "      <th>6</th>\n",
              "      <th>7</th>\n",
              "      <th>8</th>\n",
              "      <th>9</th>\n",
              "      <th>10</th>\n",
              "      <th>11</th>\n",
              "      <th>12</th>\n",
              "      <th>13</th>\n",
              "      <th>14</th>\n",
              "      <th>15</th>\n",
              "      <th>16</th>\n",
              "      <th>17</th>\n",
              "      <th>18</th>\n",
              "      <th>19</th>\n",
              "      <th>20</th>\n",
              "      <th>21</th>\n",
              "      <th>22</th>\n",
              "      <th>23</th>\n",
              "      <th>24</th>\n",
              "      <th>25</th>\n",
              "      <th>26</th>\n",
              "      <th>27</th>\n",
              "      <th>28</th>\n",
              "      <th>29</th>\n",
              "      <th>30</th>\n",
              "      <th>31</th>\n",
              "      <th>32</th>\n",
              "      <th>33</th>\n",
              "      <th>34</th>\n",
              "      <th>35</th>\n",
              "      <th>36</th>\n",
              "      <th>37</th>\n",
              "      <th>38</th>\n",
              "      <th>39</th>\n",
              "      <th>...</th>\n",
              "      <th>1798</th>\n",
              "      <th>1799</th>\n",
              "      <th>1800</th>\n",
              "      <th>1801</th>\n",
              "      <th>1802</th>\n",
              "      <th>1803</th>\n",
              "      <th>1804</th>\n",
              "      <th>1805</th>\n",
              "      <th>1806</th>\n",
              "      <th>1807</th>\n",
              "      <th>1808</th>\n",
              "      <th>1809</th>\n",
              "      <th>1810</th>\n",
              "      <th>1811</th>\n",
              "      <th>1812</th>\n",
              "      <th>1813</th>\n",
              "      <th>1814</th>\n",
              "      <th>1815</th>\n",
              "      <th>1816</th>\n",
              "      <th>1817</th>\n",
              "      <th>1818</th>\n",
              "      <th>1819</th>\n",
              "      <th>1820</th>\n",
              "      <th>1821</th>\n",
              "      <th>1822</th>\n",
              "      <th>1823</th>\n",
              "      <th>1824</th>\n",
              "      <th>1825</th>\n",
              "      <th>1826</th>\n",
              "      <th>1827</th>\n",
              "      <th>1828</th>\n",
              "      <th>1829</th>\n",
              "      <th>1830</th>\n",
              "      <th>1831</th>\n",
              "      <th>1832</th>\n",
              "      <th>1833</th>\n",
              "      <th>1834</th>\n",
              "      <th>1835</th>\n",
              "      <th>1836</th>\n",
              "      <th>1837</th>\n",
              "    </tr>\n",
              "  </thead>\n",
              "  <tbody>\n",
              "    <tr>\n",
              "      <th>0</th>\n",
              "      <td>0.045944</td>\n",
              "      <td>0.020964</td>\n",
              "      <td>0.003329</td>\n",
              "      <td>0.065041</td>\n",
              "      <td>0.098972</td>\n",
              "      <td>0.519241</td>\n",
              "      <td>0.011867</td>\n",
              "      <td>0.039877</td>\n",
              "      <td>0.077767</td>\n",
              "      <td>0.006520</td>\n",
              "      <td>0.007421</td>\n",
              "      <td>0.089177</td>\n",
              "      <td>0.007239</td>\n",
              "      <td>0.409255</td>\n",
              "      <td>0.010921</td>\n",
              "      <td>0.027177</td>\n",
              "      <td>0.103203</td>\n",
              "      <td>0.354183</td>\n",
              "      <td>0.008121</td>\n",
              "      <td>0.111475</td>\n",
              "      <td>0.098582</td>\n",
              "      <td>0.035925</td>\n",
              "      <td>0.079789</td>\n",
              "      <td>0.013480</td>\n",
              "      <td>0.018075</td>\n",
              "      <td>0.325544</td>\n",
              "      <td>0.038243</td>\n",
              "      <td>0.045311</td>\n",
              "      <td>0.024786</td>\n",
              "      <td>0.015298</td>\n",
              "      <td>0.015621</td>\n",
              "      <td>0.008202</td>\n",
              "      <td>0.057302</td>\n",
              "      <td>0.020062</td>\n",
              "      <td>0.022119</td>\n",
              "      <td>0.044110</td>\n",
              "      <td>0.011326</td>\n",
              "      <td>0.023074</td>\n",
              "      <td>0.038858</td>\n",
              "      <td>0.039353</td>\n",
              "      <td>...</td>\n",
              "      <td>0.018070</td>\n",
              "      <td>0.456524</td>\n",
              "      <td>0.172080</td>\n",
              "      <td>0.075381</td>\n",
              "      <td>0.307621</td>\n",
              "      <td>0.069332</td>\n",
              "      <td>0.041808</td>\n",
              "      <td>0.055800</td>\n",
              "      <td>0.076373</td>\n",
              "      <td>0.012192</td>\n",
              "      <td>0.078321</td>\n",
              "      <td>0.027147</td>\n",
              "      <td>0.026079</td>\n",
              "      <td>0.012669</td>\n",
              "      <td>0.388715</td>\n",
              "      <td>0.050799</td>\n",
              "      <td>0.009529</td>\n",
              "      <td>0.030331</td>\n",
              "      <td>0.037252</td>\n",
              "      <td>0.034376</td>\n",
              "      <td>0.229319</td>\n",
              "      <td>0.005353</td>\n",
              "      <td>0.032408</td>\n",
              "      <td>0.019436</td>\n",
              "      <td>0.005457</td>\n",
              "      <td>0.038461</td>\n",
              "      <td>0.015020</td>\n",
              "      <td>0.090310</td>\n",
              "      <td>0.004921</td>\n",
              "      <td>0.360771</td>\n",
              "      <td>0.029362</td>\n",
              "      <td>0.016092</td>\n",
              "      <td>0.008160</td>\n",
              "      <td>0.055039</td>\n",
              "      <td>0.040082</td>\n",
              "      <td>0.007378</td>\n",
              "      <td>0.089512</td>\n",
              "      <td>0.043047</td>\n",
              "      <td>0.016750</td>\n",
              "      <td>0.014161</td>\n",
              "    </tr>\n",
              "    <tr>\n",
              "      <th>1</th>\n",
              "      <td>0.041203</td>\n",
              "      <td>0.012218</td>\n",
              "      <td>0.002522</td>\n",
              "      <td>0.038939</td>\n",
              "      <td>0.241584</td>\n",
              "      <td>0.020298</td>\n",
              "      <td>0.011122</td>\n",
              "      <td>0.019547</td>\n",
              "      <td>0.054449</td>\n",
              "      <td>0.005190</td>\n",
              "      <td>0.013758</td>\n",
              "      <td>0.219758</td>\n",
              "      <td>0.002435</td>\n",
              "      <td>0.051838</td>\n",
              "      <td>0.011851</td>\n",
              "      <td>0.401764</td>\n",
              "      <td>0.221459</td>\n",
              "      <td>0.210819</td>\n",
              "      <td>0.013097</td>\n",
              "      <td>0.050336</td>\n",
              "      <td>0.055795</td>\n",
              "      <td>0.022986</td>\n",
              "      <td>0.043947</td>\n",
              "      <td>0.007511</td>\n",
              "      <td>0.025721</td>\n",
              "      <td>0.027927</td>\n",
              "      <td>0.030536</td>\n",
              "      <td>0.019832</td>\n",
              "      <td>0.029105</td>\n",
              "      <td>0.009799</td>\n",
              "      <td>0.011566</td>\n",
              "      <td>0.011288</td>\n",
              "      <td>0.035842</td>\n",
              "      <td>0.017189</td>\n",
              "      <td>0.021930</td>\n",
              "      <td>0.017584</td>\n",
              "      <td>0.005420</td>\n",
              "      <td>0.020315</td>\n",
              "      <td>0.020869</td>\n",
              "      <td>0.030778</td>\n",
              "      <td>...</td>\n",
              "      <td>0.009834</td>\n",
              "      <td>0.010319</td>\n",
              "      <td>0.088622</td>\n",
              "      <td>0.033817</td>\n",
              "      <td>0.019789</td>\n",
              "      <td>0.233630</td>\n",
              "      <td>0.023602</td>\n",
              "      <td>0.237015</td>\n",
              "      <td>0.042993</td>\n",
              "      <td>0.019072</td>\n",
              "      <td>0.045394</td>\n",
              "      <td>0.013300</td>\n",
              "      <td>0.014427</td>\n",
              "      <td>0.004555</td>\n",
              "      <td>0.007316</td>\n",
              "      <td>0.223177</td>\n",
              "      <td>0.019883</td>\n",
              "      <td>0.025580</td>\n",
              "      <td>0.022114</td>\n",
              "      <td>0.020892</td>\n",
              "      <td>0.091538</td>\n",
              "      <td>0.002179</td>\n",
              "      <td>0.023896</td>\n",
              "      <td>0.016094</td>\n",
              "      <td>0.003134</td>\n",
              "      <td>0.019762</td>\n",
              "      <td>0.011657</td>\n",
              "      <td>0.225865</td>\n",
              "      <td>0.001807</td>\n",
              "      <td>0.020891</td>\n",
              "      <td>0.020729</td>\n",
              "      <td>0.285721</td>\n",
              "      <td>0.018969</td>\n",
              "      <td>0.034400</td>\n",
              "      <td>0.228013</td>\n",
              "      <td>0.013558</td>\n",
              "      <td>0.053309</td>\n",
              "      <td>0.027072</td>\n",
              "      <td>0.006728</td>\n",
              "      <td>0.004810</td>\n",
              "    </tr>\n",
              "    <tr>\n",
              "      <th>2</th>\n",
              "      <td>0.023354</td>\n",
              "      <td>0.019605</td>\n",
              "      <td>0.002252</td>\n",
              "      <td>0.059299</td>\n",
              "      <td>0.326172</td>\n",
              "      <td>0.022712</td>\n",
              "      <td>0.005460</td>\n",
              "      <td>0.040629</td>\n",
              "      <td>0.059239</td>\n",
              "      <td>0.004097</td>\n",
              "      <td>0.012406</td>\n",
              "      <td>0.312801</td>\n",
              "      <td>0.009473</td>\n",
              "      <td>0.112543</td>\n",
              "      <td>0.003102</td>\n",
              "      <td>0.027823</td>\n",
              "      <td>0.091346</td>\n",
              "      <td>0.430715</td>\n",
              "      <td>0.005272</td>\n",
              "      <td>0.125874</td>\n",
              "      <td>0.094643</td>\n",
              "      <td>0.030569</td>\n",
              "      <td>0.078392</td>\n",
              "      <td>0.013117</td>\n",
              "      <td>0.008317</td>\n",
              "      <td>0.025850</td>\n",
              "      <td>0.023915</td>\n",
              "      <td>0.385786</td>\n",
              "      <td>0.005312</td>\n",
              "      <td>0.013001</td>\n",
              "      <td>0.010969</td>\n",
              "      <td>0.003392</td>\n",
              "      <td>0.049973</td>\n",
              "      <td>0.011152</td>\n",
              "      <td>0.008751</td>\n",
              "      <td>0.054112</td>\n",
              "      <td>0.012336</td>\n",
              "      <td>0.012179</td>\n",
              "      <td>0.307438</td>\n",
              "      <td>0.025375</td>\n",
              "      <td>...</td>\n",
              "      <td>0.017929</td>\n",
              "      <td>0.029500</td>\n",
              "      <td>0.178169</td>\n",
              "      <td>0.085445</td>\n",
              "      <td>0.034861</td>\n",
              "      <td>0.306555</td>\n",
              "      <td>0.037787</td>\n",
              "      <td>0.304714</td>\n",
              "      <td>0.069171</td>\n",
              "      <td>0.007327</td>\n",
              "      <td>0.351104</td>\n",
              "      <td>0.029114</td>\n",
              "      <td>0.022836</td>\n",
              "      <td>0.019620</td>\n",
              "      <td>0.353186</td>\n",
              "      <td>0.045408</td>\n",
              "      <td>0.014644</td>\n",
              "      <td>0.017347</td>\n",
              "      <td>0.304153</td>\n",
              "      <td>0.030881</td>\n",
              "      <td>0.247959</td>\n",
              "      <td>0.009100</td>\n",
              "      <td>0.022905</td>\n",
              "      <td>0.011469</td>\n",
              "      <td>0.004869</td>\n",
              "      <td>0.037121</td>\n",
              "      <td>0.009793</td>\n",
              "      <td>0.075512</td>\n",
              "      <td>0.006389</td>\n",
              "      <td>0.026760</td>\n",
              "      <td>0.022114</td>\n",
              "      <td>0.015752</td>\n",
              "      <td>0.011220</td>\n",
              "      <td>0.048037</td>\n",
              "      <td>0.030547</td>\n",
              "      <td>0.012403</td>\n",
              "      <td>0.082023</td>\n",
              "      <td>0.037324</td>\n",
              "      <td>0.020430</td>\n",
              "      <td>0.287094</td>\n",
              "    </tr>\n",
              "    <tr>\n",
              "      <th>3</th>\n",
              "      <td>0.033432</td>\n",
              "      <td>0.020876</td>\n",
              "      <td>0.002778</td>\n",
              "      <td>0.063818</td>\n",
              "      <td>0.355231</td>\n",
              "      <td>0.026271</td>\n",
              "      <td>0.008271</td>\n",
              "      <td>0.041904</td>\n",
              "      <td>0.069033</td>\n",
              "      <td>0.005243</td>\n",
              "      <td>0.009766</td>\n",
              "      <td>0.338569</td>\n",
              "      <td>0.008891</td>\n",
              "      <td>0.403462</td>\n",
              "      <td>0.006388</td>\n",
              "      <td>0.028565</td>\n",
              "      <td>0.099549</td>\n",
              "      <td>0.331111</td>\n",
              "      <td>0.006105</td>\n",
              "      <td>0.564123</td>\n",
              "      <td>0.099698</td>\n",
              "      <td>0.033887</td>\n",
              "      <td>0.081809</td>\n",
              "      <td>0.013742</td>\n",
              "      <td>0.011909</td>\n",
              "      <td>0.031538</td>\n",
              "      <td>0.030677</td>\n",
              "      <td>0.048729</td>\n",
              "      <td>0.013339</td>\n",
              "      <td>0.014420</td>\n",
              "      <td>0.013286</td>\n",
              "      <td>0.005216</td>\n",
              "      <td>0.054809</td>\n",
              "      <td>0.015206</td>\n",
              "      <td>0.014509</td>\n",
              "      <td>0.051899</td>\n",
              "      <td>0.012366</td>\n",
              "      <td>0.017077</td>\n",
              "      <td>0.038865</td>\n",
              "      <td>0.032054</td>\n",
              "      <td>...</td>\n",
              "      <td>0.018637</td>\n",
              "      <td>0.028633</td>\n",
              "      <td>0.182112</td>\n",
              "      <td>0.084387</td>\n",
              "      <td>0.036464</td>\n",
              "      <td>0.066781</td>\n",
              "      <td>0.040945</td>\n",
              "      <td>0.052078</td>\n",
              "      <td>0.421235</td>\n",
              "      <td>0.008876</td>\n",
              "      <td>0.388185</td>\n",
              "      <td>0.029357</td>\n",
              "      <td>0.025145</td>\n",
              "      <td>0.017272</td>\n",
              "      <td>0.028184</td>\n",
              "      <td>0.049916</td>\n",
              "      <td>0.011632</td>\n",
              "      <td>0.023299</td>\n",
              "      <td>0.036724</td>\n",
              "      <td>0.033442</td>\n",
              "      <td>0.591351</td>\n",
              "      <td>0.007740</td>\n",
              "      <td>0.027657</td>\n",
              "      <td>0.015155</td>\n",
              "      <td>0.005304</td>\n",
              "      <td>0.039166</td>\n",
              "      <td>0.012303</td>\n",
              "      <td>0.351700</td>\n",
              "      <td>0.006003</td>\n",
              "      <td>0.029926</td>\n",
              "      <td>0.025907</td>\n",
              "      <td>0.016521</td>\n",
              "      <td>0.009056</td>\n",
              "      <td>0.052667</td>\n",
              "      <td>0.317328</td>\n",
              "      <td>0.009758</td>\n",
              "      <td>0.321527</td>\n",
              "      <td>0.041038</td>\n",
              "      <td>0.019636</td>\n",
              "      <td>0.017810</td>\n",
              "    </tr>\n",
              "    <tr>\n",
              "      <th>4</th>\n",
              "      <td>0.036595</td>\n",
              "      <td>0.026718</td>\n",
              "      <td>0.003316</td>\n",
              "      <td>0.081251</td>\n",
              "      <td>0.124470</td>\n",
              "      <td>0.032310</td>\n",
              "      <td>0.008767</td>\n",
              "      <td>0.608355</td>\n",
              "      <td>0.084604</td>\n",
              "      <td>0.006131</td>\n",
              "      <td>0.005535</td>\n",
              "      <td>0.121518</td>\n",
              "      <td>0.012100</td>\n",
              "      <td>0.152523</td>\n",
              "      <td>0.005765</td>\n",
              "      <td>0.037226</td>\n",
              "      <td>0.125970</td>\n",
              "      <td>0.598748</td>\n",
              "      <td>0.002781</td>\n",
              "      <td>0.165332</td>\n",
              "      <td>0.128276</td>\n",
              "      <td>0.042529</td>\n",
              "      <td>0.105748</td>\n",
              "      <td>0.017730</td>\n",
              "      <td>0.006800</td>\n",
              "      <td>0.037839</td>\n",
              "      <td>0.035822</td>\n",
              "      <td>0.475027</td>\n",
              "      <td>0.010450</td>\n",
              "      <td>0.018092</td>\n",
              "      <td>0.015993</td>\n",
              "      <td>0.003154</td>\n",
              "      <td>0.069141</td>\n",
              "      <td>0.017123</td>\n",
              "      <td>0.014633</td>\n",
              "      <td>0.069619</td>\n",
              "      <td>0.016311</td>\n",
              "      <td>0.018918</td>\n",
              "      <td>0.050880</td>\n",
              "      <td>0.037778</td>\n",
              "      <td>...</td>\n",
              "      <td>0.024138</td>\n",
              "      <td>0.038325</td>\n",
              "      <td>0.237857</td>\n",
              "      <td>0.112151</td>\n",
              "      <td>0.047080</td>\n",
              "      <td>0.084460</td>\n",
              "      <td>0.053105</td>\n",
              "      <td>0.065096</td>\n",
              "      <td>0.097183</td>\n",
              "      <td>0.004280</td>\n",
              "      <td>0.087748</td>\n",
              "      <td>0.038606</td>\n",
              "      <td>0.032927</td>\n",
              "      <td>0.022693</td>\n",
              "      <td>0.037290</td>\n",
              "      <td>0.068543</td>\n",
              "      <td>0.004717</td>\n",
              "      <td>0.026470</td>\n",
              "      <td>0.046834</td>\n",
              "      <td>0.042448</td>\n",
              "      <td>0.342810</td>\n",
              "      <td>0.009861</td>\n",
              "      <td>0.033341</td>\n",
              "      <td>0.017385</td>\n",
              "      <td>0.006856</td>\n",
              "      <td>0.051656</td>\n",
              "      <td>0.014549</td>\n",
              "      <td>0.121430</td>\n",
              "      <td>0.008083</td>\n",
              "      <td>0.037400</td>\n",
              "      <td>0.031672</td>\n",
              "      <td>0.021811</td>\n",
              "      <td>0.001837</td>\n",
              "      <td>0.066451</td>\n",
              "      <td>0.043621</td>\n",
              "      <td>0.005632</td>\n",
              "      <td>0.112265</td>\n",
              "      <td>0.051707</td>\n",
              "      <td>0.026331</td>\n",
              "      <td>0.024057</td>\n",
              "    </tr>\n",
              "  </tbody>\n",
              "</table>\n",
              "<p>5 rows × 1838 columns</p>\n",
              "</div>"
            ],
            "text/plain": [
              "       0         1         2     ...      1835      1836      1837\n",
              "0  0.045944  0.020964  0.003329  ...  0.043047  0.016750  0.014161\n",
              "1  0.041203  0.012218  0.002522  ...  0.027072  0.006728  0.004810\n",
              "2  0.023354  0.019605  0.002252  ...  0.037324  0.020430  0.287094\n",
              "3  0.033432  0.020876  0.002778  ...  0.041038  0.019636  0.017810\n",
              "4  0.036595  0.026718  0.003316  ...  0.051707  0.026331  0.024057\n",
              "\n",
              "[5 rows x 1838 columns]"
            ]
          },
          "metadata": {},
          "execution_count": 575
        }
      ]
    },
    {
      "cell_type": "markdown",
      "metadata": {
        "id": "PQKgW5eASrlA"
      },
      "source": [
        "# Checking loaded data"
      ]
    },
    {
      "cell_type": "code",
      "metadata": {
        "colab": {
          "base_uri": "https://localhost:8080/"
        },
        "id": "pvcCrZtejwjW",
        "outputId": "5c93df05-56c0-490e-ce33-e2bf863c7e78"
      },
      "source": [
        "data.shape"
      ],
      "execution_count": null,
      "outputs": [
        {
          "output_type": "execute_result",
          "data": {
            "text/plain": [
              "(1696, 1238)"
            ]
          },
          "metadata": {},
          "execution_count": 759
        }
      ]
    },
    {
      "cell_type": "code",
      "metadata": {
        "colab": {
          "base_uri": "https://localhost:8080/"
        },
        "id": "it-bUYvxj7hd",
        "outputId": "c4ac78a2-9fef-47b8-e648-609e5d0ead9b"
      },
      "source": [
        "labels.shape"
      ],
      "execution_count": null,
      "outputs": [
        {
          "output_type": "execute_result",
          "data": {
            "text/plain": [
              "(1696, 2)"
            ]
          },
          "metadata": {},
          "execution_count": 760
        }
      ]
    },
    {
      "cell_type": "code",
      "metadata": {
        "colab": {
          "base_uri": "https://localhost:8080/"
        },
        "id": "xzLNQ2-yM5a9",
        "outputId": "3b153e23-19c0-4da9-e46c-8ef2dfe25681"
      },
      "source": [
        "labels.nunique()"
      ],
      "execution_count": null,
      "outputs": [
        {
          "output_type": "execute_result",
          "data": {
            "text/plain": [
              "Unnamed: 0    1696\n",
              "x               13\n",
              "dtype: int64"
            ]
          },
          "metadata": {},
          "execution_count": 761
        }
      ]
    },
    {
      "cell_type": "code",
      "metadata": {
        "colab": {
          "base_uri": "https://localhost:8080/",
          "height": 419
        },
        "id": "EWEcU_pnGmdi",
        "outputId": "59d256d4-ffe6-4c13-85bd-1840ec1d5987"
      },
      "source": [
        "labels"
      ],
      "execution_count": null,
      "outputs": [
        {
          "output_type": "execute_result",
          "data": {
            "text/html": [
              "<div>\n",
              "<style scoped>\n",
              "    .dataframe tbody tr th:only-of-type {\n",
              "        vertical-align: middle;\n",
              "    }\n",
              "\n",
              "    .dataframe tbody tr th {\n",
              "        vertical-align: top;\n",
              "    }\n",
              "\n",
              "    .dataframe thead th {\n",
              "        text-align: right;\n",
              "    }\n",
              "</style>\n",
              "<table border=\"1\" class=\"dataframe\">\n",
              "  <thead>\n",
              "    <tr style=\"text-align: right;\">\n",
              "      <th></th>\n",
              "      <th>Unnamed: 0</th>\n",
              "      <th>x</th>\n",
              "    </tr>\n",
              "  </thead>\n",
              "  <tbody>\n",
              "    <tr>\n",
              "      <th>0</th>\n",
              "      <td>0</td>\n",
              "      <td>delta</td>\n",
              "    </tr>\n",
              "    <tr>\n",
              "      <th>1</th>\n",
              "      <td>1</td>\n",
              "      <td>schwann</td>\n",
              "    </tr>\n",
              "    <tr>\n",
              "      <th>2</th>\n",
              "      <td>2</td>\n",
              "      <td>delta</td>\n",
              "    </tr>\n",
              "    <tr>\n",
              "      <th>3</th>\n",
              "      <td>3</td>\n",
              "      <td>beta</td>\n",
              "    </tr>\n",
              "    <tr>\n",
              "      <th>4</th>\n",
              "      <td>4</td>\n",
              "      <td>beta</td>\n",
              "    </tr>\n",
              "    <tr>\n",
              "      <th>...</th>\n",
              "      <td>...</td>\n",
              "      <td>...</td>\n",
              "    </tr>\n",
              "    <tr>\n",
              "      <th>1691</th>\n",
              "      <td>1691</td>\n",
              "      <td>beta</td>\n",
              "    </tr>\n",
              "    <tr>\n",
              "      <th>1692</th>\n",
              "      <td>1692</td>\n",
              "      <td>beta</td>\n",
              "    </tr>\n",
              "    <tr>\n",
              "      <th>1693</th>\n",
              "      <td>1693</td>\n",
              "      <td>ductal</td>\n",
              "    </tr>\n",
              "    <tr>\n",
              "      <th>1694</th>\n",
              "      <td>1694</td>\n",
              "      <td>quiescent_stellate</td>\n",
              "    </tr>\n",
              "    <tr>\n",
              "      <th>1695</th>\n",
              "      <td>1695</td>\n",
              "      <td>ductal</td>\n",
              "    </tr>\n",
              "  </tbody>\n",
              "</table>\n",
              "<p>1696 rows × 2 columns</p>\n",
              "</div>"
            ],
            "text/plain": [
              "      Unnamed: 0                   x\n",
              "0              0               delta\n",
              "1              1             schwann\n",
              "2              2               delta\n",
              "3              3                beta\n",
              "4              4                beta\n",
              "...          ...                 ...\n",
              "1691        1691                beta\n",
              "1692        1692                beta\n",
              "1693        1693              ductal\n",
              "1694        1694  quiescent_stellate\n",
              "1695        1695              ductal\n",
              "\n",
              "[1696 rows x 2 columns]"
            ]
          },
          "metadata": {},
          "execution_count": 762
        }
      ]
    },
    {
      "cell_type": "code",
      "metadata": {
        "colab": {
          "base_uri": "https://localhost:8080/"
        },
        "id": "yOfWyAQI1DJs",
        "outputId": "5380502b-0ef7-447a-beb5-54ea94899828"
      },
      "source": [
        "labels = labels['x']\n",
        "labels.head()"
      ],
      "execution_count": null,
      "outputs": [
        {
          "output_type": "execute_result",
          "data": {
            "text/plain": [
              "0      delta\n",
              "1    schwann\n",
              "2      delta\n",
              "3       beta\n",
              "4       beta\n",
              "Name: x, dtype: object"
            ]
          },
          "metadata": {},
          "execution_count": 763
        }
      ]
    },
    {
      "cell_type": "markdown",
      "metadata": {
        "id": "Nmxn0dEhwf0s"
      },
      "source": [
        "# Finding the optimal dimensions for embedding using reconstruction error"
      ]
    },
    {
      "cell_type": "code",
      "metadata": {
        "id": "v7PqelPewzCd"
      },
      "source": [
        "d = range(2,16)\n",
        "k=[]\n",
        "error=[]\n",
        "# try each value of k\n",
        "for i in d:\n",
        "    print(\"Applying NMF for k=%d ...\" % i)\n",
        "    # run NMF\n",
        "    model = NMF(init=\"nndsvd\", n_components=i) \n",
        "    W = model.fit_transform(data)\n",
        "    H = model.components_    \n",
        "    k.append(i)\n",
        "    error.append(model.reconstruction_err_)"
      ],
      "execution_count": null,
      "outputs": []
    },
    {
      "cell_type": "code",
      "metadata": {
        "id": "m-waFpIxxIwa"
      },
      "source": [
        "# Plotting a bar graph to compare the results \n",
        "plt.plot(k, error) \n",
        "plt.xlabel('Number of dimensions', fontsize = 20) \n",
        "plt.ylabel('Reconstruction Error', fontsize = 20) \n",
        "plt.show() "
      ],
      "execution_count": null,
      "outputs": []
    },
    {
      "cell_type": "code",
      "metadata": {
        "id": "Q7rPltFljItN"
      },
      "source": [
        "x = range(2, len(error)+2)\n",
        "\n",
        "from kneed import KneeLocator\n",
        "kn = KneeLocator(x, error, curve='convex', direction='decreasing')\n",
        "print(kn.knee)"
      ],
      "execution_count": null,
      "outputs": []
    },
    {
      "cell_type": "code",
      "metadata": {
        "id": "yHN60HACjiUm"
      },
      "source": [
        "plt.xlabel('Number of dimensions')\n",
        "plt.ylabel('Reconstruction error')\n",
        "plt.plot(x, error, 'bx-')\n",
        "plt.vlines(kn.knee, plt.ylim()[0], plt.ylim()[1], linestyles='dashed')"
      ],
      "execution_count": null,
      "outputs": []
    },
    {
      "cell_type": "markdown",
      "metadata": {
        "id": "X7V0FPcUnJYM"
      },
      "source": [
        "# Lower dimensional cell embedding using NMF"
      ]
    },
    {
      "cell_type": "code",
      "metadata": {
        "id": "MS6bKTnQhlE7"
      },
      "source": [
        "optDim = kn.knee"
      ],
      "execution_count": null,
      "outputs": []
    },
    {
      "cell_type": "code",
      "metadata": {
        "id": "5IdCKmNLnCrd"
      },
      "source": [
        "#Mark the begining of the proposed method\n",
        "t.tic()"
      ],
      "execution_count": null,
      "outputs": []
    },
    {
      "cell_type": "code",
      "metadata": {
        "id": "IGuo26QZd847"
      },
      "source": [
        "data_orig = data.copy()"
      ],
      "execution_count": null,
      "outputs": []
    },
    {
      "cell_type": "code",
      "metadata": {
        "id": "eu_ZcTpqcciX"
      },
      "source": [
        "model = NMF(n_components=optDim, init='nndsvd')\n",
        "W = model.fit_transform(data)\n",
        "H = model.components_"
      ],
      "execution_count": null,
      "outputs": []
    },
    {
      "cell_type": "code",
      "metadata": {
        "colab": {
          "base_uri": "https://localhost:8080/"
        },
        "id": "CcpF1opmdIuX",
        "outputId": "84a84091-937b-42f0-9eba-b63da722f849"
      },
      "source": [
        "print(W.shape)\n",
        "print(H.shape)"
      ],
      "execution_count": null,
      "outputs": [
        {
          "output_type": "stream",
          "name": "stdout",
          "text": [
            "(1696, 6)\n",
            "(6, 1238)\n"
          ]
        }
      ]
    },
    {
      "cell_type": "code",
      "metadata": {
        "id": "nvR7jYeGgue8"
      },
      "source": [
        "data = pd.DataFrame(W)"
      ],
      "execution_count": null,
      "outputs": []
    },
    {
      "cell_type": "markdown",
      "metadata": {
        "id": "2C6cH0nzk9Q2"
      },
      "source": [
        "# (A) Encoding labels (B) Removing p% labels (C) Labelling unknown cells as -1"
      ]
    },
    {
      "cell_type": "markdown",
      "metadata": {
        "id": "oh1FGVEXMqM2"
      },
      "source": [
        "**Encoding the labels**"
      ]
    },
    {
      "cell_type": "code",
      "metadata": {
        "id": "HABmOzUnRpCk"
      },
      "source": [
        "from sklearn import preprocessing\n",
        "le = preprocessing.LabelEncoder()\n",
        "y = pd.DataFrame(le.fit_transform(np.ravel(labels)))"
      ],
      "execution_count": null,
      "outputs": []
    },
    {
      "cell_type": "code",
      "metadata": {
        "id": "Drc7NELacY-9"
      },
      "source": [
        "y1 = y.copy()"
      ],
      "execution_count": null,
      "outputs": []
    },
    {
      "cell_type": "code",
      "metadata": {
        "id": "kMsn7rIzwC8i"
      },
      "source": [
        "ground_truth = y.copy()"
      ],
      "execution_count": null,
      "outputs": []
    },
    {
      "cell_type": "markdown",
      "metadata": {
        "id": "YFA1oChFrGvo"
      },
      "source": [
        "**Removing p% labels (if no label is missing)**"
      ]
    },
    {
      "cell_type": "code",
      "metadata": {
        "id": "J2qdQwaz31n1"
      },
      "source": [
        "%%script false\n",
        "p = 0.9   #input parameter p = {0.1, 0.2, 0.3, 0.4, 0.5, 0.6, 0.7, 0.8 0.9}\n",
        "n = int(p * data.shape[0])    \n",
        "index = random.sample(range(1, data.shape[0]), n)"
      ],
      "execution_count": null,
      "outputs": []
    },
    {
      "cell_type": "code",
      "metadata": {
        "colab": {
          "base_uri": "https://localhost:8080/"
        },
        "id": "BSCLsdJg2KE3",
        "outputId": "95c42749-0ba8-4acc-c444-4f35d9465acb"
      },
      "source": [
        "data.shape"
      ],
      "execution_count": null,
      "outputs": [
        {
          "output_type": "execute_result",
          "data": {
            "text/plain": [
              "(1696, 6)"
            ]
          },
          "metadata": {},
          "execution_count": 774
        }
      ]
    },
    {
      "cell_type": "markdown",
      "metadata": {
        "id": "KuHQVvLUqwOa"
      },
      "source": [
        "**Changes for Seurat**"
      ]
    },
    {
      "cell_type": "code",
      "metadata": {
        "id": "zsZcBPPQra7z"
      },
      "source": [
        "trainInd = train_data['index']\n",
        "index = data_orig.index[~data_orig.index.isin(trainInd)]"
      ],
      "execution_count": null,
      "outputs": []
    },
    {
      "cell_type": "code",
      "metadata": {
        "id": "QGfZ3KU9t7s2"
      },
      "source": [
        "dataWOmissingLab = data_orig.iloc[trainInd]\n",
        "LabNOTmissing = y.iloc[trainInd]"
      ],
      "execution_count": null,
      "outputs": []
    },
    {
      "cell_type": "code",
      "metadata": {
        "id": "12RDczIPatOF"
      },
      "source": [
        "#dataWOmissingLab = data_orig.iloc[~y.index.isin(index)]\n",
        "#LabNOTmissing = y.iloc[~y.index.isin(index)]"
      ],
      "execution_count": null,
      "outputs": []
    },
    {
      "cell_type": "markdown",
      "metadata": {
        "id": "QhBTOAgLMloY"
      },
      "source": [
        "**Labelling unknown data as -1**"
      ]
    },
    {
      "cell_type": "code",
      "metadata": {
        "id": "WU8ItOMOWAFC"
      },
      "source": [
        "y.iloc[index] = -1           # forcibly removing p% of the labels\n",
        "indx = pd.DataFrame(np.arange(0,data.shape[0]))\n",
        "df = pd.concat([data,indx], axis=1)\n",
        "X = pd.concat([df,y], axis=1)"
      ],
      "execution_count": null,
      "outputs": []
    },
    {
      "cell_type": "code",
      "metadata": {
        "id": "1l7BHf8aCxPS"
      },
      "source": [
        "#Setting k to the number of unique labels in the data excluding -1 (-1 stands for unknown labels)\n",
        "k = y[0].nunique()-1"
      ],
      "execution_count": null,
      "outputs": []
    },
    {
      "cell_type": "markdown",
      "metadata": {
        "id": "oryceblO3i7v"
      },
      "source": [
        "# Clustering using k-Means"
      ]
    },
    {
      "cell_type": "markdown",
      "metadata": {
        "id": "pd0KBJ1X3-N6"
      },
      "source": [
        "Recursive clustering"
      ]
    },
    {
      "cell_type": "code",
      "metadata": {
        "id": "I3VjKR_bCqzJ"
      },
      "source": [
        "def rec_KMeans(res):\n",
        "    if len(res) == 0:\n",
        "        return\n",
        "    \n",
        "    num_labels = set()\n",
        "    #finding no. of known labels for each cluster\n",
        "    for i in res:\n",
        "        if(i[-1] != -1):\n",
        "          num_labels.add(i[-1])\n",
        "    print(len(num_labels), num_labels)   \n",
        "\n",
        "    if(len(num_labels) == 1):     #if all labelled data belong from one class\n",
        "        final_clusters.append(res)\n",
        "        cluster_label.append(num_labels)\n",
        "        return\n",
        "    \n",
        "    if(len(num_labels) == 0):     #if no labelled data exist\n",
        "        final_clusters.append(res)\n",
        "        cluster_label.append(-1)\n",
        "        return\n",
        "    \n",
        "    #if all labelled data belong from more than one class, then cluster recursively\n",
        "    newk = len(num_labels)\n",
        "    centroid1 = []\n",
        "    rnd = random.sample(range(len(res)), newk)\n",
        "    for j in range(newk):\n",
        "        centroid1.append(res[rnd[j]])\n",
        "        \n",
        "    print('Partioning further...')\n",
        "    my_KMeans(res, centroid1, newk)"
      ],
      "execution_count": null,
      "outputs": []
    },
    {
      "cell_type": "markdown",
      "metadata": {
        "id": "qZlzPnBo4Blc"
      },
      "source": [
        "Passing each partition to recursive k-Means function"
      ]
    },
    {
      "cell_type": "code",
      "metadata": {
        "id": "khU9EUJq9uoT"
      },
      "source": [
        "def rec_KMeans_call(res):\n",
        "    for par in res:\n",
        "        print('...New cluster...')   \n",
        "        rec_KMeans(res[par])"
      ],
      "execution_count": null,
      "outputs": []
    },
    {
      "cell_type": "markdown",
      "metadata": {
        "id": "lLu1EVVT4ZoU"
      },
      "source": [
        "Distance between a given sample and a given centroid"
      ]
    },
    {
      "cell_type": "code",
      "metadata": {
        "id": "lSolb_2V4tXc"
      },
      "source": [
        "def distance(a,b):\n",
        "    ans = 0\n",
        "    for i in range(len(a)):\n",
        "        ans += math.pow((a[i] - b[i]),2)\n",
        "    return math.sqrt(ans)"
      ],
      "execution_count": null,
      "outputs": []
    },
    {
      "cell_type": "code",
      "metadata": {
        "id": "R-Wmt2QchgLI"
      },
      "source": [
        "def my_KMeans(data, centroid, k):  #using user-defined KMeans\n",
        "    \n",
        "    #max_iter = 1\n",
        "    #for i in range(max_iter):\n",
        "        \n",
        "    diction = {}    #empty dictionary to store data corresponding to each cluster\n",
        "    for i in range(k):\n",
        "        diction[i]=[]\n",
        "        \n",
        "    for j in range(len(data)):\n",
        "        l = []\n",
        "        for c in centroid:\n",
        "            l.append(distance(data[j][:-2],c[:-2]))      #calculate distance of the sample from each centroid\n",
        "        diction[l.index(min(l))].append(data[j])         #assigning the sample to the nearest centroid\n",
        "    \n",
        "    for c in diction:     #update centroids\n",
        "        if(len(diction[c])!=0):\n",
        "            centroid[c] = np.average(diction[c], axis = 0)\n",
        "    rec_KMeans_call(diction)"
      ],
      "execution_count": null,
      "outputs": []
    },
    {
      "cell_type": "code",
      "metadata": {
        "id": "BmRgi6qckASN"
      },
      "source": [
        "cntr = []\n",
        "final_clusters = []\n",
        "cluster_label = []"
      ],
      "execution_count": null,
      "outputs": []
    },
    {
      "cell_type": "code",
      "metadata": {
        "id": "YxfW5witQ0MR"
      },
      "source": [
        "#Initializing centroids\n",
        "random.seed(0)\n",
        "rnd = random.sample(range(X.shape[0]), k)\n",
        "for i in range(k):\n",
        "        cntr.append(X.iloc[rnd[i]])"
      ],
      "execution_count": null,
      "outputs": []
    },
    {
      "cell_type": "code",
      "metadata": {
        "colab": {
          "base_uri": "https://localhost:8080/"
        },
        "id": "npTH-D9YS8vw",
        "outputId": "89429fa4-f2c6-475e-e0ec-9521fbba0923"
      },
      "source": [
        "#initial k-Means call  \n",
        "my_KMeans(X.values, cntr, k)"
      ],
      "execution_count": null,
      "outputs": [
        {
          "output_type": "stream",
          "name": "stdout",
          "text": [
            "...New cluster...\n",
            "1 {4.0}\n",
            "...New cluster...\n",
            "1 {3.0}\n",
            "...New cluster...\n",
            "2 {3.0, 5.0}\n",
            "Partioning further...\n",
            "...New cluster...\n",
            "1 {3.0}\n",
            "...New cluster...\n",
            "2 {3.0, 5.0}\n",
            "Partioning further...\n",
            "...New cluster...\n",
            "0 set()\n",
            "...New cluster...\n",
            "2 {3.0, 5.0}\n",
            "Partioning further...\n",
            "...New cluster...\n",
            "0 set()\n",
            "...New cluster...\n",
            "2 {3.0, 5.0}\n",
            "Partioning further...\n",
            "...New cluster...\n",
            "2 {3.0, 5.0}\n",
            "Partioning further...\n",
            "...New cluster...\n",
            "0 set()\n",
            "...New cluster...\n",
            "2 {3.0, 5.0}\n",
            "Partioning further...\n",
            "...New cluster...\n",
            "1 {3.0}\n",
            "...New cluster...\n",
            "1 {5.0}\n",
            "...New cluster...\n",
            "1 {5.0}\n",
            "...New cluster...\n",
            "1 {6.0}\n",
            "...New cluster...\n",
            "4 {0.0, 2.0, 12.0, 6.0}\n",
            "Partioning further...\n",
            "...New cluster...\n",
            "1 {6.0}\n",
            "...New cluster...\n",
            "3 {0.0, 2.0, 6.0}\n",
            "Partioning further...\n",
            "...New cluster...\n",
            "2 {0.0, 6.0}\n",
            "Partioning further...\n",
            "...New cluster...\n",
            "1 {6.0}\n",
            "...New cluster...\n",
            "2 {0.0, 6.0}\n",
            "Partioning further...\n",
            "...New cluster...\n",
            "0 set()\n",
            "...New cluster...\n",
            "2 {0.0, 6.0}\n",
            "Partioning further...\n",
            "...New cluster...\n",
            "1 {6.0}\n",
            "...New cluster...\n",
            "2 {0.0, 6.0}\n",
            "Partioning further...\n",
            "...New cluster...\n",
            "2 {0.0, 6.0}\n",
            "Partioning further...\n",
            "...New cluster...\n",
            "2 {0.0, 6.0}\n",
            "Partioning further...\n",
            "...New cluster...\n",
            "1 {6.0}\n",
            "...New cluster...\n",
            "1 {0.0}\n",
            "...New cluster...\n",
            "0 set()\n",
            "...New cluster...\n",
            "0 set()\n",
            "...New cluster...\n",
            "1 {2.0}\n",
            "...New cluster...\n",
            "0 set()\n",
            "...New cluster...\n",
            "1 {6.0}\n",
            "...New cluster...\n",
            "2 {12.0, 6.0}\n",
            "Partioning further...\n",
            "...New cluster...\n",
            "1 {6.0}\n",
            "...New cluster...\n",
            "1 {12.0}\n",
            "...New cluster...\n",
            "1 {3.0}\n",
            "...New cluster...\n",
            "1 {7.0}\n",
            "...New cluster...\n",
            "4 {9.0, 4.0, 1.0, 7.0}\n",
            "Partioning further...\n",
            "...New cluster...\n",
            "3 {9.0, 1.0, 7.0}\n",
            "Partioning further...\n",
            "...New cluster...\n",
            "2 {9.0, 1.0}\n",
            "Partioning further...\n",
            "...New cluster...\n",
            "1 {9.0}\n",
            "...New cluster...\n",
            "1 {1.0}\n",
            "...New cluster...\n",
            "1 {7.0}\n",
            "...New cluster...\n",
            "0 set()\n",
            "...New cluster...\n",
            "1 {4.0}\n",
            "...New cluster...\n",
            "2 {1.0, 7.0}\n",
            "Partioning further...\n",
            "...New cluster...\n",
            "1 {1.0}\n",
            "...New cluster...\n",
            "1 {7.0}\n",
            "...New cluster...\n",
            "1 {4.0}\n",
            "...New cluster...\n",
            "1 {4.0}\n",
            "...New cluster...\n",
            "4 {8.0, 3.0, 4.0, 5.0}\n",
            "Partioning further...\n",
            "...New cluster...\n",
            "2 {3.0, 4.0}\n",
            "Partioning further...\n",
            "...New cluster...\n",
            "1 {4.0}\n",
            "...New cluster...\n",
            "1 {3.0}\n",
            "...New cluster...\n",
            "1 {8.0}\n",
            "...New cluster...\n",
            "2 {8.0, 5.0}\n",
            "Partioning further...\n",
            "...New cluster...\n",
            "2 {8.0, 5.0}\n",
            "Partioning further...\n",
            "...New cluster...\n",
            "2 {8.0, 5.0}\n",
            "Partioning further...\n",
            "...New cluster...\n",
            "1 {5.0}\n",
            "...New cluster...\n",
            "1 {8.0}\n",
            "...New cluster...\n",
            "1 {5.0}\n",
            "...New cluster...\n",
            "1 {5.0}\n",
            "...New cluster...\n",
            "2 {4.0, 5.0}\n",
            "Partioning further...\n",
            "...New cluster...\n",
            "2 {4.0, 5.0}\n",
            "Partioning further...\n",
            "...New cluster...\n",
            "1 {5.0}\n",
            "...New cluster...\n",
            "1 {4.0}\n",
            "...New cluster...\n",
            "0 set()\n",
            "...New cluster...\n",
            "5 {2.0, 7.0, 9.0, 10.0, 11.0}\n",
            "Partioning further...\n",
            "...New cluster...\n",
            "2 {2.0, 11.0}\n",
            "Partioning further...\n",
            "...New cluster...\n",
            "1 {11.0}\n",
            "...New cluster...\n",
            "1 {2.0}\n",
            "...New cluster...\n",
            "2 {10.0, 11.0}\n",
            "Partioning further...\n",
            "...New cluster...\n",
            "2 {10.0, 11.0}\n",
            "Partioning further...\n",
            "...New cluster...\n",
            "2 {10.0, 11.0}\n",
            "Partioning further...\n",
            "...New cluster...\n",
            "0 set()\n",
            "...New cluster...\n",
            "2 {10.0, 11.0}\n",
            "Partioning further...\n",
            "...New cluster...\n",
            "1 {11.0}\n",
            "...New cluster...\n",
            "1 {10.0}\n",
            "...New cluster...\n",
            "0 set()\n",
            "...New cluster...\n",
            "0 set()\n",
            "...New cluster...\n",
            "4 {2.0, 9.0, 10.0, 11.0}\n",
            "Partioning further...\n",
            "...New cluster...\n",
            "1 {2.0}\n",
            "...New cluster...\n",
            "0 set()\n",
            "...New cluster...\n",
            "2 {10.0, 11.0}\n",
            "Partioning further...\n",
            "...New cluster...\n",
            "1 {11.0}\n",
            "...New cluster...\n",
            "1 {10.0}\n",
            "...New cluster...\n",
            "2 {9.0, 10.0}\n",
            "Partioning further...\n",
            "...New cluster...\n",
            "2 {9.0, 10.0}\n",
            "Partioning further...\n",
            "...New cluster...\n",
            "2 {9.0, 10.0}\n",
            "Partioning further...\n",
            "...New cluster...\n",
            "1 {10.0}\n",
            "...New cluster...\n",
            "1 {9.0}\n",
            "...New cluster...\n",
            "0 set()\n",
            "...New cluster...\n",
            "0 set()\n",
            "...New cluster...\n",
            "2 {10.0, 7.0}\n",
            "Partioning further...\n",
            "...New cluster...\n",
            "1 {10.0}\n",
            "...New cluster...\n",
            "1 {7.0}\n",
            "...New cluster...\n",
            "2 {10.0, 7.0}\n",
            "Partioning further...\n",
            "...New cluster...\n",
            "1 {7.0}\n",
            "...New cluster...\n",
            "2 {10.0, 7.0}\n",
            "Partioning further...\n",
            "...New cluster...\n",
            "2 {10.0, 7.0}\n",
            "Partioning further...\n",
            "...New cluster...\n",
            "1 {7.0}\n",
            "...New cluster...\n",
            "1 {10.0}\n",
            "...New cluster...\n",
            "0 set()\n",
            "...New cluster...\n",
            "2 {4.0, 5.0}\n",
            "Partioning further...\n",
            "...New cluster...\n",
            "1 {4.0}\n",
            "...New cluster...\n",
            "2 {4.0, 5.0}\n",
            "Partioning further...\n",
            "...New cluster...\n",
            "1 {4.0}\n",
            "...New cluster...\n",
            "2 {4.0, 5.0}\n",
            "Partioning further...\n",
            "...New cluster...\n",
            "2 {4.0, 5.0}\n",
            "Partioning further...\n",
            "...New cluster...\n",
            "1 {4.0}\n",
            "...New cluster...\n",
            "1 {5.0}\n",
            "...New cluster...\n",
            "1 {4.0}\n",
            "...New cluster...\n",
            "2 {8.0, 3.0}\n",
            "Partioning further...\n",
            "...New cluster...\n",
            "0 set()\n",
            "...New cluster...\n",
            "2 {8.0, 3.0}\n",
            "Partioning further...\n",
            "...New cluster...\n",
            "1 {8.0}\n",
            "...New cluster...\n",
            "1 {3.0}\n"
          ]
        }
      ]
    },
    {
      "cell_type": "markdown",
      "metadata": {
        "id": "HTCGRRhEBoX7"
      },
      "source": [
        "# Results"
      ]
    },
    {
      "cell_type": "markdown",
      "metadata": {
        "id": "PtPaOvVhJzH9"
      },
      "source": [
        "Computing final centroids"
      ]
    },
    {
      "cell_type": "code",
      "metadata": {
        "id": "Y7jFoyv4gWK0"
      },
      "source": [
        "def get_final_centroids(final_clusters):\n",
        "    final_centroids = []\n",
        "    for i in range(len(final_clusters)):\n",
        "        fc = pd.DataFrame(final_clusters[i]).iloc[:, :-2]\n",
        "        fc_mean = np.average(fc,axis = 0)\n",
        "        final_centroids.append(fc_mean)\n",
        "    return final_centroids\n"
      ],
      "execution_count": null,
      "outputs": []
    },
    {
      "cell_type": "code",
      "metadata": {
        "id": "MMAcmhYTJ45G"
      },
      "source": [
        "final_centroids = get_final_centroids(final_clusters)"
      ],
      "execution_count": null,
      "outputs": []
    },
    {
      "cell_type": "code",
      "metadata": {
        "id": "abofvkMGFEvo"
      },
      "source": [
        "def get_final_results(cluster_label):\n",
        "    no_of_points = []\n",
        "    labelled = []\n",
        "    unlabelled = []\n",
        "    cluster_lbl = []\n",
        "\n",
        "    dtf = [f'cluster{i}' for i in range(1,len(final_clusters) + 1)]\n",
        "    results = pd.DataFrame(dtf, columns = ['Clusters'])\n",
        "    \n",
        "    for i in cluster_label:\n",
        "        if( i != -1):\n",
        "            cluster_lbl.append(int(list(i)[0]))\n",
        "        else:\n",
        "            cluster_lbl.append(i)\n",
        "        \n",
        "    results['Label'] = cluster_lbl\n",
        "    \n",
        "    for i in range(len(final_clusters)):\n",
        "        no_of_points.append(len(final_clusters[i]))  #count of total samples\n",
        "        cl = 0\n",
        "        cu = 0\n",
        "        for j in final_clusters[i]:\n",
        "            if(j[-1] == -1):\n",
        "                cu += 1       #count of unlabelled samples\n",
        "            else:\n",
        "                cl += 1       #count of labelled samples\n",
        "        labelled.append(cl)\n",
        "        unlabelled.append(cu)\n",
        "\n",
        "    results['Total_Count'] = no_of_points\n",
        "    results['Count_ld'] = labelled\n",
        "    results['Count_ud'] = unlabelled\n",
        "    return results"
      ],
      "execution_count": null,
      "outputs": []
    },
    {
      "cell_type": "code",
      "metadata": {
        "colab": {
          "base_uri": "https://localhost:8080/"
        },
        "id": "J5xmpi7VFIi8",
        "outputId": "dffb2215-881b-423c-ac2e-31e7337a6f93"
      },
      "source": [
        "result = get_final_results(cluster_label)\n",
        "print(result)"
      ],
      "execution_count": null,
      "outputs": [
        {
          "output_type": "stream",
          "name": "stdout",
          "text": [
            "     Clusters  Label  Total_Count  Count_ld  Count_ud\n",
            "0    cluster1      4          299        33       266\n",
            "1    cluster2      3           35         2        33\n",
            "2    cluster3      3           49         4        45\n",
            "3    cluster4     -1            4         0         4\n",
            "4    cluster5     -1            2         0         2\n",
            "..        ...    ...          ...       ...       ...\n",
            "68  cluster69      5           11         1        10\n",
            "69  cluster70      4           98         5        93\n",
            "70  cluster71     -1           13         0        13\n",
            "71  cluster72      8            7         2         5\n",
            "72  cluster73      3           45         3        42\n",
            "\n",
            "[73 rows x 5 columns]\n"
          ]
        }
      ]
    },
    {
      "cell_type": "markdown",
      "metadata": {
        "id": "BqFWlR1qvVCO"
      },
      "source": [
        "# Labelling clusters with both labelled and unlabelled cells"
      ]
    },
    {
      "cell_type": "code",
      "metadata": {
        "id": "goZgzvQtfjJ4"
      },
      "source": [
        "pl=[]\n",
        "index=[]\n",
        "\n",
        "for i in range(len(result)):\n",
        "    cls = result['Label'][i]\n",
        "    nud = result['Count_ud'][i]\n",
        "    if cls != -1 and nud > 0:\n",
        "        for j in final_clusters[i]:\n",
        "            if(j[-1] == -1):\n",
        "                j[-1] = cls   #setting the class label\n",
        "                #marking the predicted label and corresponding index position\n",
        "                id = int(j[-2])\n",
        "                index.append(id)     \n",
        "                pl.append(cls)"
      ],
      "execution_count": null,
      "outputs": []
    },
    {
      "cell_type": "markdown",
      "metadata": {
        "id": "U3Q8N2fxGKnj"
      },
      "source": [
        "# Setting weighted radius of clusters as threshold"
      ]
    },
    {
      "cell_type": "code",
      "metadata": {
        "id": "AAMpwb35CLqT"
      },
      "source": [
        "rad=[]\n",
        "for i in range(len(final_centroids)):\n",
        "    dist=[]\n",
        "    for j in final_clusters[i]:\n",
        "        dist.append(distance(final_centroids[i],j[:-2]))\n",
        "    rad.append(np.max(dist))"
      ],
      "execution_count": null,
      "outputs": []
    },
    {
      "cell_type": "code",
      "metadata": {
        "id": "a_qE4ma8Kzfd"
      },
      "source": [
        "wrad=0\n",
        "npnts=data.shape[0]\n",
        "for i in range(len(final_clusters)):\n",
        "    wrad += rad[i]*len(final_clusters[i])\n",
        "wrad/=npnts"
      ],
      "execution_count": null,
      "outputs": []
    },
    {
      "cell_type": "markdown",
      "metadata": {
        "id": "E9VcM6nqJ_3S"
      },
      "source": [
        "# Labelling the clusters with all unlabelled cells"
      ]
    },
    {
      "cell_type": "code",
      "metadata": {
        "id": "_lP4YswZ6KDV"
      },
      "source": [
        "pos = [i for i in result.loc[result['Label']==-1].index]"
      ],
      "execution_count": null,
      "outputs": []
    },
    {
      "cell_type": "code",
      "metadata": {
        "colab": {
          "base_uri": "https://localhost:8080/"
        },
        "id": "MGpzeKbP_g-r",
        "outputId": "33bbeae0-15da-422b-e93b-649dc5d332bb"
      },
      "source": [
        "d = euclidean_distances(final_centroids, final_centroids)\n",
        "for i in pos:\n",
        "    nc = i\n",
        "    #find nearest labelled cluster\n",
        "    while result.loc[nc,'Label'] == -1:\n",
        "        d[i][nc]=999\n",
        "        nn = np.where(d[i] == np.amin(d[i]))  #finding nearest neighbor of the unlabelled cluster\n",
        "        nc = nn[0][0]\n",
        "\n",
        "    #Setting labels of unlabelled data in unlabelled clusters to the class label of the nearest cluster\n",
        "    #if distance from nearest centroid is less than or equal to threshold distance (weighted radius)\n",
        "    l = len(final_clusters[i])  #number of points in cluster i\n",
        "    print('no. of points in cluster {0}: {1}'.format(i,l))\n",
        "    c=0\n",
        "    for j in final_clusters[i]:\n",
        "        if (distance(final_centroids[nc],j[:-2]) <= wrad):\n",
        "            c+=1\n",
        "            j[-1] = result['Label'][nc]   #setting the class label\n",
        "            #marking the predicted label\n",
        "            id = int(j[-2])\n",
        "            index.append(id)\n",
        "            pl.append(int(j[-1]))\n",
        "    print('no. of points labelled now: ',c)\n",
        "    if c==l:    #implies labels of all samples in cluster i changed\n",
        "        print('Label of cluster {0} changed to the label of its nearest neighbour cluster {1}'.format(i+1,nc))\n",
        "        result.loc[i,'Label'] = result.loc[nc,'Label']"
      ],
      "execution_count": null,
      "outputs": [
        {
          "output_type": "stream",
          "name": "stdout",
          "text": [
            "no. of points in cluster 3: 4\n",
            "no. of points labelled now:  4\n",
            "Label of cluster 4 changed to the label of its nearest neighbour cluster 2\n",
            "no. of points in cluster 4: 2\n",
            "no. of points labelled now:  2\n",
            "Label of cluster 5 changed to the label of its nearest neighbour cluster 7\n",
            "no. of points in cluster 5: 1\n",
            "no. of points labelled now:  1\n",
            "Label of cluster 6 changed to the label of its nearest neighbour cluster 6\n",
            "no. of points in cluster 12: 1\n",
            "no. of points labelled now:  1\n",
            "Label of cluster 13 changed to the label of its nearest neighbour cluster 14\n",
            "no. of points in cluster 16: 1\n",
            "no. of points labelled now:  1\n",
            "Label of cluster 17 changed to the label of its nearest neighbour cluster 18\n",
            "no. of points in cluster 17: 1\n",
            "no. of points labelled now:  1\n",
            "Label of cluster 18 changed to the label of its nearest neighbour cluster 14\n",
            "no. of points in cluster 19: 2\n",
            "no. of points labelled now:  2\n",
            "Label of cluster 20 changed to the label of its nearest neighbour cluster 18\n",
            "no. of points in cluster 28: 2\n",
            "no. of points labelled now:  2\n",
            "Label of cluster 29 changed to the label of its nearest neighbour cluster 27\n",
            "no. of points in cluster 43: 23\n",
            "no. of points labelled now:  11\n",
            "no. of points in cluster 46: 1\n",
            "no. of points labelled now:  1\n",
            "Label of cluster 47 changed to the label of its nearest neighbour cluster 48\n",
            "no. of points in cluster 49: 1\n",
            "no. of points labelled now:  1\n",
            "Label of cluster 50 changed to the label of its nearest neighbour cluster 48\n",
            "no. of points in cluster 50: 9\n",
            "no. of points labelled now:  9\n",
            "Label of cluster 51 changed to the label of its nearest neighbour cluster 47\n",
            "no. of points in cluster 52: 1\n",
            "no. of points labelled now:  1\n",
            "Label of cluster 53 changed to the label of its nearest neighbour cluster 53\n",
            "no. of points in cluster 57: 2\n",
            "no. of points labelled now:  2\n",
            "Label of cluster 58 changed to the label of its nearest neighbour cluster 51\n",
            "no. of points in cluster 58: 5\n",
            "no. of points labelled now:  5\n",
            "Label of cluster 59 changed to the label of its nearest neighbour cluster 56\n",
            "no. of points in cluster 64: 1\n",
            "no. of points labelled now:  1\n",
            "Label of cluster 65 changed to the label of its nearest neighbour cluster 62\n",
            "no. of points in cluster 70: 13\n",
            "no. of points labelled now:  13\n",
            "Label of cluster 71 changed to the label of its nearest neighbour cluster 1\n"
          ]
        }
      ]
    },
    {
      "cell_type": "markdown",
      "metadata": {
        "id": "RaE5-BUUo_Cw"
      },
      "source": [
        "Computing running time"
      ]
    },
    {
      "cell_type": "code",
      "metadata": {
        "colab": {
          "base_uri": "https://localhost:8080/"
        },
        "id": "0oJc1pdGnZDO",
        "outputId": "c56b84e4-0178-4f82-cfa9-fe71077478cc"
      },
      "source": [
        "#Compute time elapsed at the end of proposed algorithm\n",
        "t.toc()"
      ],
      "execution_count": null,
      "outputs": [
        {
          "output_type": "stream",
          "name": "stdout",
          "text": [
            "Elapsed time is 5.849020 seconds.\n"
          ]
        }
      ]
    },
    {
      "cell_type": "markdown",
      "metadata": {
        "id": "dissDtuEP7tN"
      },
      "source": [
        "# Storing true labels"
      ]
    },
    {
      "cell_type": "code",
      "metadata": {
        "id": "9KicyVZyDqI1"
      },
      "source": [
        "tl = []\n",
        "for i in index:\n",
        "    tl.append(ground_truth.iloc[i].values[0])"
      ],
      "execution_count": null,
      "outputs": []
    },
    {
      "cell_type": "markdown",
      "metadata": {
        "id": "pHIgvGm92PMt"
      },
      "source": [
        "# Results after reassignment"
      ]
    },
    {
      "cell_type": "code",
      "metadata": {
        "id": "G1alCbK337zp"
      },
      "source": [
        "def get_final_results(result):\n",
        "    labelled = []\n",
        "    unlabelled = []\n",
        "    for i in range(len(final_clusters)):\n",
        "        cl = 0\n",
        "        cu = 0\n",
        "        for j in final_clusters[i]:\n",
        "            if(j[-1] == -1):\n",
        "                cu += 1       #count of unlabelled samples\n",
        "            else:\n",
        "                cl += 1       #count of labelled samples\n",
        "        labelled.append(cl)\n",
        "        unlabelled.append(cu)\n",
        "\n",
        "    result['Count_ld_Now'] = labelled\n",
        "    result['Count_ud_Now'] = unlabelled\n",
        "    return result"
      ],
      "execution_count": null,
      "outputs": []
    },
    {
      "cell_type": "code",
      "metadata": {
        "colab": {
          "base_uri": "https://localhost:8080/"
        },
        "id": "Vlh_td882H32",
        "outputId": "de345145-b257-4254-d806-cec40b575fcc"
      },
      "source": [
        "reassignmentResult = get_final_results(result)\n",
        "print(reassignmentResult)"
      ],
      "execution_count": null,
      "outputs": [
        {
          "output_type": "stream",
          "name": "stdout",
          "text": [
            "     Clusters  Label  Total_Count  ...  Count_ud  Count_ld_Now  Count_ud_Now\n",
            "0    cluster1      4          299  ...       266           299             0\n",
            "1    cluster2      3           35  ...        33            35             0\n",
            "2    cluster3      3           49  ...        45            49             0\n",
            "3    cluster4      3            4  ...         4             4             0\n",
            "4    cluster5      5            2  ...         2             2             0\n",
            "..        ...    ...          ...  ...       ...           ...           ...\n",
            "68  cluster69      5           11  ...        10            11             0\n",
            "69  cluster70      4           98  ...        93            98             0\n",
            "70  cluster71      3           13  ...        13            13             0\n",
            "71  cluster72      8            7  ...         5             7             0\n",
            "72  cluster73      3           45  ...        42            45             0\n",
            "\n",
            "[73 rows x 7 columns]\n"
          ]
        }
      ]
    },
    {
      "cell_type": "code",
      "metadata": {
        "colab": {
          "base_uri": "https://localhost:8080/"
        },
        "id": "ApHYk-t7d_Hp",
        "outputId": "427d642c-8bdb-4824-f36e-abbadf418859"
      },
      "source": [
        "#Finding how many samples are still unlabelled\n",
        "count = 0\n",
        "unlab = []\n",
        "for i in range(len(final_clusters)):\n",
        "  for j in final_clusters[i]:\n",
        "    if(j[-1] == -1):\n",
        "      count+=1\n",
        "      unlab.append(int(j[-2]))\n",
        "print('Count of unlabelled cells: ', count)\n",
        "print('Percentage of unlabelled cells: {0:.2f}'.format(count/data.shape[0]*100))\n",
        "if count>0:\n",
        "  print('Unknown cell indices: ',unlab)"
      ],
      "execution_count": null,
      "outputs": [
        {
          "output_type": "stream",
          "name": "stdout",
          "text": [
            "Count of unlabelled cells:  12\n",
            "Percentage of unlabelled cells: 0.71\n",
            "Unknown cell indices:  [134, 349, 874, 886, 1026, 1151, 1188, 1354, 1442, 1481, 1587, 1629]\n"
          ]
        }
      ]
    },
    {
      "cell_type": "code",
      "metadata": {
        "id": "NSnaLIdM9cpF"
      },
      "source": [
        "#Remove unpredicted cells from data\n",
        "index_labelled = ~data_orig.index.isin(unlab)\n",
        "data_labelled = data_orig.iloc[~data_orig.index.isin(unlab)]"
      ],
      "execution_count": null,
      "outputs": []
    },
    {
      "cell_type": "code",
      "metadata": {
        "id": "sMcn54eBglRo"
      },
      "source": [
        "labWOmissing = pd.DataFrame(list(zip(LabNOTmissing.index,LabNOTmissing[0].values)), columns = ['Index', 'Predicted Label'])"
      ],
      "execution_count": null,
      "outputs": []
    },
    {
      "cell_type": "code",
      "metadata": {
        "id": "kGtd9NyBapEJ"
      },
      "source": [
        "predicted = pd.DataFrame(list(zip(index, pl)), columns = ['Index', 'Predicted Label'])"
      ],
      "execution_count": null,
      "outputs": []
    },
    {
      "cell_type": "code",
      "metadata": {
        "id": "SwLtK4X0gcZ2"
      },
      "source": [
        "allLabels = pd.concat([labWOmissing, predicted], axis=0).sort_values(by = 'Index')"
      ],
      "execution_count": null,
      "outputs": []
    },
    {
      "cell_type": "markdown",
      "metadata": {
        "id": "XOyNI9z4PzUZ"
      },
      "source": [
        "#Storing predicted labels and corresponding data"
      ]
    },
    {
      "cell_type": "code",
      "metadata": {
        "id": "Zf8IkHvBPyuy"
      },
      "source": [
        "%%script false\n",
        "allLabels.to_csv(\"/content/drive/My Drive/scRNASeq_RKM_data/Results/predictedLabels.csv\", header=True, index=True, sep=\",\")\n",
        "data_labelled.to_csv(\"/content/drive/My Drive/scRNASeq_RKM_data/Results/predictedData.csv\", header=True, index=True, sep=\",\")"
      ],
      "execution_count": null,
      "outputs": []
    },
    {
      "cell_type": "markdown",
      "metadata": {
        "id": "bUm2r74aG-LG"
      },
      "source": [
        "# Validation"
      ]
    },
    {
      "cell_type": "code",
      "metadata": {
        "id": "_naU_y8a4cpb"
      },
      "source": [
        "actual = pd.DataFrame(list(zip(index, tl)), columns = ['Index', 'True Label'])"
      ],
      "execution_count": null,
      "outputs": []
    },
    {
      "cell_type": "code",
      "metadata": {
        "id": "LNI4xiGmNMU-"
      },
      "source": [
        "merged_inner = pd.merge(left=actual, right=predicted, left_on='Index', right_on='Index')"
      ],
      "execution_count": null,
      "outputs": []
    },
    {
      "cell_type": "markdown",
      "metadata": {
        "id": "8AB6-oumqaHq"
      },
      "source": [
        "**Classification Metrics**\n",
        "\n"
      ]
    },
    {
      "cell_type": "code",
      "metadata": {
        "id": "oSpxxt61OJNX",
        "colab": {
          "base_uri": "https://localhost:8080/"
        },
        "outputId": "02b52c16-5a50-404d-9773-84b87aef0bf4"
      },
      "source": [
        "from sklearn.metrics import confusion_matrix\n",
        "from sklearn.metrics import accuracy_score\n",
        "from sklearn.metrics import classification_report\n",
        "\n",
        "print('Confusion matrix: \\n', confusion_matrix(merged_inner['True Label'],merged_inner['Predicted Label']))\n",
        "\n",
        "print('Accuracy: {0:.2f}'.format(accuracy_score(merged_inner['True Label'],merged_inner['Predicted Label'])))\n",
        "\n",
        "print('Classification_report: \\n', classification_report(merged_inner['True Label'],merged_inner['Predicted Label']))"
      ],
      "execution_count": null,
      "outputs": [
        {
          "output_type": "stream",
          "name": "stdout",
          "text": [
            "Confusion matrix: \n",
            " [[  0   3   4   0   0   0   0   0   0   0   0   0   0]\n",
            " [  0   2   1   0   0   0   0   0   0   1   0   0   0]\n",
            " [  0   0   7   0   0   0   0   0   0   1   1   0   0]\n",
            " [  0   0   0 164   3   2   0   0   3   0   0   0   0]\n",
            " [  0   0   0  18 676  12   0   0   2   0   0   0   0]\n",
            " [  0   0   0   1   5 147   2   0  14   0   0   0   0]\n",
            " [  0   0   0   0   2   0 203   0   0   0   0   0   9]\n",
            " [  0   0   2   0   0   0   0  97   0   0  19   4   0]\n",
            " [  0   0   0   0   0   0   1   0  26   0   0   0   0]\n",
            " [  0   0   3   0   0   0   0   0   0   2   0   0   0]\n",
            " [  0   0   0   0   0   0   0   1   0   1   6  23   0]\n",
            " [  0   3   8   0   0   0   0   1   1   5   3  22   0]\n",
            " [  0   0   2   0   0   0   0   0   0   0   0   0   1]]\n",
            "Accuracy: 0.89\n",
            "Classification_report: \n",
            "               precision    recall  f1-score   support\n",
            "\n",
            "           0       0.00      0.00      0.00         7\n",
            "           1       0.25      0.50      0.33         4\n",
            "           2       0.26      0.78      0.39         9\n",
            "           3       0.90      0.95      0.92       172\n",
            "           4       0.99      0.95      0.97       708\n",
            "           5       0.91      0.87      0.89       169\n",
            "           6       0.99      0.95      0.97       214\n",
            "           7       0.98      0.80      0.88       122\n",
            "           8       0.57      0.96      0.71        27\n",
            "           9       0.20      0.40      0.27         5\n",
            "          10       0.21      0.19      0.20        31\n",
            "          11       0.45      0.51      0.48        43\n",
            "          12       0.10      0.33      0.15         3\n",
            "\n",
            "    accuracy                           0.89      1514\n",
            "   macro avg       0.52      0.63      0.55      1514\n",
            "weighted avg       0.91      0.89      0.90      1514\n",
            "\n"
          ]
        },
        {
          "output_type": "stream",
          "name": "stderr",
          "text": [
            "/usr/local/lib/python3.7/dist-packages/sklearn/metrics/_classification.py:1272: UndefinedMetricWarning: Precision and F-score are ill-defined and being set to 0.0 in labels with no predicted samples. Use `zero_division` parameter to control this behavior.\n",
            "  _warn_prf(average, modifier, msg_start, len(result))\n"
          ]
        }
      ]
    },
    {
      "cell_type": "code",
      "metadata": {
        "colab": {
          "base_uri": "https://localhost:8080/"
        },
        "id": "pATHKngvx5kf",
        "outputId": "a997458e-ec4e-415a-91b8-e4b1415d8605"
      },
      "source": [
        "merged_inner.shape"
      ],
      "execution_count": null,
      "outputs": [
        {
          "output_type": "execute_result",
          "data": {
            "text/plain": [
              "(1514, 3)"
            ]
          },
          "metadata": {},
          "execution_count": 809
        }
      ]
    },
    {
      "cell_type": "code",
      "metadata": {
        "id": "9gKizoZWYjzb"
      },
      "source": [
        "#set(merged_inner['True Label']) - set(merged_inner['Predicted Label'])"
      ],
      "execution_count": null,
      "outputs": []
    },
    {
      "cell_type": "markdown",
      "metadata": {
        "id": "6Nt2qaRcqqQF"
      },
      "source": [
        "**Comparing clustering results (Predicted Label verified against ground truth)**"
      ]
    },
    {
      "cell_type": "code",
      "metadata": {
        "id": "gBWuvzz9Ylj6",
        "colab": {
          "base_uri": "https://localhost:8080/"
        },
        "outputId": "72e8c687-19cf-457d-e1b0-27a8dc6bbb7f"
      },
      "source": [
        "print('Adjusted Rand Score: {0:.2f}'.format(adjusted_rand_score(merged_inner['True Label'].values,merged_inner['Predicted Label'].values)))\n",
        "print('Adjusted Mutual Information Score: {0:.2f}'.format(adjusted_mutual_info_score(merged_inner['True Label'].values,merged_inner['Predicted Label'].values)))\n",
        "print('Fowlkes-Mallows score: {0:.2f}'.format(fowlkes_mallows_score(merged_inner['True Label'].values,merged_inner['Predicted Label'].values)))"
      ],
      "execution_count": null,
      "outputs": [
        {
          "output_type": "stream",
          "name": "stdout",
          "text": [
            "Adjusted Rand Score: 0.89\n",
            "Adjusted Mutual Information Score: 0.82\n",
            "Fowlkes-Mallows score: 0.92\n"
          ]
        }
      ]
    },
    {
      "cell_type": "markdown",
      "metadata": {
        "id": "iWiPdGtCqVvq"
      },
      "source": [
        "**Cohesion and separation of clusters without missing cells verified against cohesion and separation of clusters with newly predicted predicted cells added**"
      ]
    },
    {
      "cell_type": "code",
      "metadata": {
        "id": "S6yR1fXcg5D3",
        "colab": {
          "base_uri": "https://localhost:8080/"
        },
        "outputId": "9d9e9c95-3755-4517-d45a-9b5dc0c3d503"
      },
      "source": [
        "#for data without missing cells\n",
        "print('Internal indices for data without missing cells (Before Clustering):  \\n')\n",
        "print('Silhouette Score: {0:.2f}'.format(silhouette_score(dataWOmissingLab, np.ravel(LabNOTmissing))))\n",
        "print('Davies Bouldin Score: {0:.2f}'.format(davies_bouldin_score(dataWOmissingLab, np.ravel(LabNOTmissing))))\n",
        "print('Calinski Harabasz Score: {0:.2f}'.format(calinski_harabasz_score(dataWOmissingLab, np.ravel(LabNOTmissing))) )"
      ],
      "execution_count": null,
      "outputs": [
        {
          "output_type": "stream",
          "name": "stdout",
          "text": [
            "Internal indices for data without missing cells (Before Clustering):  \n",
            "\n",
            "Silhouette Score: 0.26\n",
            "Davies Bouldin Score: 1.50\n",
            "Calinski Harabasz Score: 16.95\n"
          ]
        }
      ]
    },
    {
      "cell_type": "code",
      "metadata": {
        "id": "tFTdARfsg54C",
        "colab": {
          "base_uri": "https://localhost:8080/"
        },
        "outputId": "dae8578d-b027-4005-b8eb-59cba1fc2291"
      },
      "source": [
        "#for data with newly predicted cells added\n",
        "print('Internal indices for data including newly predicted cells (After Clustering):  \\n')\n",
        "print('Silhouette Score: {0:.2f}'.format(silhouette_score(data_labelled, allLabels['Predicted Label'].values)))\n",
        "print('Davies Bouldin Score: {0:.2f}'.format(davies_bouldin_score(data_labelled, allLabels['Predicted Label'].values)))\n",
        "print('Calinski Harabasz Score: {0:.2f}'.format(calinski_harabasz_score(data_labelled, allLabels['Predicted Label'].values)))"
      ],
      "execution_count": null,
      "outputs": [
        {
          "output_type": "stream",
          "name": "stdout",
          "text": [
            "Internal indices for data including newly predicted cells (After Clustering):  \n",
            "\n",
            "Silhouette Score: 0.24\n",
            "Davies Bouldin Score: 3.30\n",
            "Calinski Harabasz Score: 135.89\n"
          ]
        }
      ]
    },
    {
      "cell_type": "markdown",
      "metadata": {
        "id": "dlpanaNnFPI-"
      },
      "source": [
        "# -----------THE END----------"
      ]
    }
  ]
}
