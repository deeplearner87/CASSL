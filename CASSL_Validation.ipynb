{
  "nbformat": 4,
  "nbformat_minor": 0,
  "metadata": {
    "colab": {
      "name": "CASSL_Validation.ipynb",
      "provenance": [],
      "collapsed_sections": [],
      "toc_visible": true
    },
    "kernelspec": {
      "display_name": "Python 3",
      "name": "python3"
    }
  },
  "cells": [
    {
      "cell_type": "markdown",
      "metadata": {
        "id": "uzxWXO1V2oh6"
      },
      "source": [
        "# Importing libraries"
      ]
    },
    {
      "cell_type": "code",
      "metadata": {
        "id": "sXG7u5it2WrK"
      },
      "source": [
        "import math\n",
        "import pandas as pd\n",
        "import numpy as np\n",
        "import matplotlib.pyplot as plt\n",
        "import seaborn as sns\n",
        "import random\n",
        "from sklearn.cluster import KMeans\n",
        "from sklearn.preprocessing import LabelEncoder\n",
        "from sklearn.metrics.cluster import adjusted_rand_score, adjusted_mutual_info_score, fowlkes_mallows_score\n",
        "from sklearn.metrics import silhouette_score, davies_bouldin_score, calinski_harabasz_score\n",
        "import seaborn as sns\n",
        "from sklearn.manifold import TSNE\n",
        "from sklearn.decomposition import NMF\n",
        "import tensorflow as tf\n",
        "from sklearn.metrics.pairwise import euclidean_distances"
      ],
      "execution_count": 1,
      "outputs": []
    },
    {
      "cell_type": "code",
      "metadata": {
        "id": "azZAvGkqCVP3",
        "colab": {
          "base_uri": "https://localhost:8080/"
        },
        "outputId": "2c1991fd-a4b7-4af2-8741-7473c0e39458"
      },
      "source": [
        "!pip install pytictoc"
      ],
      "execution_count": 2,
      "outputs": [
        {
          "output_type": "stream",
          "name": "stdout",
          "text": [
            "Collecting pytictoc\n",
            "  Downloading pytictoc-1.5.2-py2.py3-none-any.whl (4.0 kB)\n",
            "Installing collected packages: pytictoc\n",
            "Successfully installed pytictoc-1.5.2\n"
          ]
        }
      ]
    },
    {
      "cell_type": "code",
      "metadata": {
        "colab": {
          "base_uri": "https://localhost:8080/"
        },
        "id": "I_g0ZJR-jOi_",
        "outputId": "aa4a065e-c828-461e-8480-d232c7ebfcdf"
      },
      "source": [
        "!pip install kneed"
      ],
      "execution_count": 3,
      "outputs": [
        {
          "output_type": "stream",
          "name": "stdout",
          "text": [
            "Collecting kneed\n",
            "  Downloading kneed-0.7.0-py2.py3-none-any.whl (9.4 kB)\n",
            "Requirement already satisfied: numpy>=1.14.2 in /usr/local/lib/python3.7/dist-packages (from kneed) (1.19.5)\n",
            "Requirement already satisfied: scipy in /usr/local/lib/python3.7/dist-packages (from kneed) (1.4.1)\n",
            "Requirement already satisfied: matplotlib in /usr/local/lib/python3.7/dist-packages (from kneed) (3.2.2)\n",
            "Requirement already satisfied: kiwisolver>=1.0.1 in /usr/local/lib/python3.7/dist-packages (from matplotlib->kneed) (1.3.2)\n",
            "Requirement already satisfied: python-dateutil>=2.1 in /usr/local/lib/python3.7/dist-packages (from matplotlib->kneed) (2.8.2)\n",
            "Requirement already satisfied: cycler>=0.10 in /usr/local/lib/python3.7/dist-packages (from matplotlib->kneed) (0.11.0)\n",
            "Requirement already satisfied: pyparsing!=2.0.4,!=2.1.2,!=2.1.6,>=2.0.1 in /usr/local/lib/python3.7/dist-packages (from matplotlib->kneed) (2.4.7)\n",
            "Requirement already satisfied: six>=1.5 in /usr/local/lib/python3.7/dist-packages (from python-dateutil>=2.1->matplotlib->kneed) (1.15.0)\n",
            "Installing collected packages: kneed\n",
            "Successfully installed kneed-0.7.0\n"
          ]
        }
      ]
    },
    {
      "cell_type": "code",
      "metadata": {
        "id": "i9ks8QJYCe3j"
      },
      "source": [
        "from pytictoc import TicToc\n",
        "t = TicToc()"
      ],
      "execution_count": 4,
      "outputs": []
    },
    {
      "cell_type": "markdown",
      "metadata": {
        "id": "CEhM9idP3AuQ"
      },
      "source": [
        "# Importing scRNA-seq data"
      ]
    },
    {
      "cell_type": "code",
      "metadata": {
        "colab": {
          "base_uri": "https://localhost:8080/"
        },
        "id": "bRiS4oDCi7aX",
        "outputId": "af27eb5e-1e47-4ebe-d75c-89cf5010daff"
      },
      "source": [
        "#Mounting google drive\n",
        "from google.colab import drive\n",
        "drive.mount('/content/drive')"
      ],
      "execution_count": 5,
      "outputs": [
        {
          "output_type": "stream",
          "name": "stdout",
          "text": [
            "Mounted at /content/drive\n"
          ]
        }
      ]
    },
    {
      "cell_type": "code",
      "metadata": {
        "colab": {
          "base_uri": "https://localhost:8080/"
        },
        "id": "vnkqz3ZpjErq",
        "outputId": "772ccbe8-b48d-40cf-db2d-60f98b1fa59f"
      },
      "source": [
        "ls \"/content/drive/My Drive/scRNAseq Data/Preprocessed_Data_Annotations/\""
      ],
      "execution_count": 6,
      "outputs": [
        {
          "output_type": "stream",
          "name": "stdout",
          "text": [
            "AMB_annotations.csv\n",
            "AMB_preprocessed_data_scprep_percentile_5_95.csv\n",
            "Baron_Human_annotations.csv\n",
            "Baron_Human_preprocessed_data_scprep_percentile_5_95.csv\n",
            "Baron_Mouse_annotations.csv\n",
            "Baron_Mouse_preprocessed_data_scprep_percentile_5_95.csv\n",
            "GSE57249_fpkm_labels.csv\n",
            "GSE57249_fpkm_preprocessed.csv\n",
            "missingAnnotations_Test.csv\n",
            "PBMC_3k_annotations.csv\n",
            "PBMC3K_preprocessed_data_minmax_normalized.csv\n",
            "PBMC_3k_preprocessed_data_scanpy.csv\n",
            "Preimplantation_annotations.csv\n",
            "Preimplantation_preprocessed_data_scprep_percentile_20_90.csv\n",
            "Segerstolpe_annotations.csv\n",
            "Segerstolpe_preprocessed_data_scprep_percentile_10_95.csv\n",
            "Usoskin_annotations.csv\n",
            "Usoskin_preprocessed_data_scprep_percentile_5_95.csv\n",
            "Zeisel_annotations.csv\n",
            "Zeisel_preprocessed_data_scprep_percentile_5_95.csv\n",
            "Zheng_PBMC_DownSampled_annotations.csv\n",
            "Zheng_PBMC_DownSampled_preprocessed_data_scprep_percentile_5_90.csv\n"
          ]
        }
      ]
    },
    {
      "cell_type": "code",
      "metadata": {
        "id": "A4nNDNWpi4AY"
      },
      "source": [
        "data = pd.read_csv(\"/content/drive/My Drive/scRNAseq Data/Preprocessed_Data_Annotations/Segerstolpe_preprocessed_data_scprep_percentile_10_95.csv\", header=0, index_col=0, sep=\",\")"
      ],
      "execution_count": 7,
      "outputs": []
    },
    {
      "cell_type": "code",
      "metadata": {
        "id": "T6Dzw-jBcMoH"
      },
      "source": [
        "labels = pd.read_csv(\"/content/drive/My Drive/scRNAseq Data/Preprocessed_Data_Annotations/Segerstolpe_annotations.csv\", header=0, index_col=None, sep=\",\")"
      ],
      "execution_count": 8,
      "outputs": []
    },
    {
      "cell_type": "code",
      "metadata": {
        "id": "EPrGapzDjtH_"
      },
      "source": [
        "data.reset_index(inplace=True, drop=True)"
      ],
      "execution_count": 9,
      "outputs": []
    },
    {
      "cell_type": "code",
      "metadata": {
        "colab": {
          "base_uri": "https://localhost:8080/",
          "height": 253
        },
        "id": "lp27GOLalq25",
        "outputId": "71ca82e0-7693-4d7f-cdcc-75bc9fdfa81b"
      },
      "source": [
        "data.head()"
      ],
      "execution_count": 10,
      "outputs": [
        {
          "output_type": "execute_result",
          "data": {
            "text/html": [
              "<div>\n",
              "<style scoped>\n",
              "    .dataframe tbody tr th:only-of-type {\n",
              "        vertical-align: middle;\n",
              "    }\n",
              "\n",
              "    .dataframe tbody tr th {\n",
              "        vertical-align: top;\n",
              "    }\n",
              "\n",
              "    .dataframe thead th {\n",
              "        text-align: right;\n",
              "    }\n",
              "</style>\n",
              "<table border=\"1\" class=\"dataframe\">\n",
              "  <thead>\n",
              "    <tr style=\"text-align: right;\">\n",
              "      <th></th>\n",
              "      <th>CLIC4</th>\n",
              "      <th>TGFBR3</th>\n",
              "      <th>PRUNE</th>\n",
              "      <th>EYA3</th>\n",
              "      <th>STMN1</th>\n",
              "      <th>PTPRF</th>\n",
              "      <th>RAB3B</th>\n",
              "      <th>LEPR</th>\n",
              "      <th>DDAH1</th>\n",
              "      <th>GNAI3</th>\n",
              "      <th>RHOC</th>\n",
              "      <th>NOTCH2</th>\n",
              "      <th>SOAT1</th>\n",
              "      <th>EPRS</th>\n",
              "      <th>C1orf127</th>\n",
              "      <th>AGTRAP</th>\n",
              "      <th>SH3BGRL3</th>\n",
              "      <th>CMPK1</th>\n",
              "      <th>TTC39A</th>\n",
              "      <th>PPAP2B</th>\n",
              "      <th>PGM1</th>\n",
              "      <th>JAK1</th>\n",
              "      <th>WLS</th>\n",
              "      <th>GNG12</th>\n",
              "      <th>PRKACB</th>\n",
              "      <th>VCAM1</th>\n",
              "      <th>VAV3</th>\n",
              "      <th>KIAA1324</th>\n",
              "      <th>TSPAN2</th>\n",
              "      <th>ATP1A1</th>\n",
              "      <th>VTCN1</th>\n",
              "      <th>CTSS</th>\n",
              "      <th>IL6R</th>\n",
              "      <th>LMNA</th>\n",
              "      <th>SYT11</th>\n",
              "      <th>IFI16</th>\n",
              "      <th>RGS5</th>\n",
              "      <th>RXRG</th>\n",
              "      <th>ATP1B1</th>\n",
              "      <th>PAPPA2</th>\n",
              "      <th>...</th>\n",
              "      <th>CECR1</th>\n",
              "      <th>ADRBK2</th>\n",
              "      <th>SEZ6L</th>\n",
              "      <th>HMOX1</th>\n",
              "      <th>RPL3</th>\n",
              "      <th>PACSIN2</th>\n",
              "      <th>PLXNB2</th>\n",
              "      <th>SLC25A1</th>\n",
              "      <th>CLDN5</th>\n",
              "      <th>GGT1</th>\n",
              "      <th>TPST2</th>\n",
              "      <th>XBP1</th>\n",
              "      <th>LIF</th>\n",
              "      <th>SELM</th>\n",
              "      <th>PIK3IP1</th>\n",
              "      <th>PISD</th>\n",
              "      <th>RTCB</th>\n",
              "      <th>TIMP3</th>\n",
              "      <th>RAC2</th>\n",
              "      <th>CDC42EP1</th>\n",
              "      <th>LGALS2</th>\n",
              "      <th>LGALS1</th>\n",
              "      <th>H1F0</th>\n",
              "      <th>KDELR3</th>\n",
              "      <th>ATF4</th>\n",
              "      <th>TSPO</th>\n",
              "      <th>PIM3</th>\n",
              "      <th>ERCC_30000:mix1_7500:mix2</th>\n",
              "      <th>ERCC_7500:mix1_1875:mix2</th>\n",
              "      <th>ERCC_1875:mix1_468.75:mix2</th>\n",
              "      <th>ERCC_937.5:mix1_234.375:mix2</th>\n",
              "      <th>ERCC_468.75:mix1_117.1875:mix2</th>\n",
              "      <th>ERCC_15000:mix1_15000:mix2</th>\n",
              "      <th>ERCC_3750:mix1_3750:mix2</th>\n",
              "      <th>ERCC_937.5:mix1_937.5:mix2</th>\n",
              "      <th>ERCC_15000:mix1_22500:mix2</th>\n",
              "      <th>ERCC_3750:mix1_5625:mix2</th>\n",
              "      <th>ERCC_15000:mix1_30000:mix2</th>\n",
              "      <th>ERCC_937.5:mix1_1875:mix2</th>\n",
              "      <th>ERCC_234.375:mix1_468.75:mix2</th>\n",
              "    </tr>\n",
              "  </thead>\n",
              "  <tbody>\n",
              "    <tr>\n",
              "      <th>0</th>\n",
              "      <td>0.185423</td>\n",
              "      <td>0.000000</td>\n",
              "      <td>0.000000</td>\n",
              "      <td>0.000000</td>\n",
              "      <td>1.229955</td>\n",
              "      <td>1.637609</td>\n",
              "      <td>2.172956</td>\n",
              "      <td>1.048909</td>\n",
              "      <td>0.000000</td>\n",
              "      <td>0.502127</td>\n",
              "      <td>0.0</td>\n",
              "      <td>0.0</td>\n",
              "      <td>1.03239</td>\n",
              "      <td>1.201677</td>\n",
              "      <td>0.0</td>\n",
              "      <td>0.00000</td>\n",
              "      <td>1.521521</td>\n",
              "      <td>0.889256</td>\n",
              "      <td>2.232785</td>\n",
              "      <td>0.000000</td>\n",
              "      <td>0.718139</td>\n",
              "      <td>1.637609</td>\n",
              "      <td>0.355058</td>\n",
              "      <td>1.289099</td>\n",
              "      <td>0.902052</td>\n",
              "      <td>0.0</td>\n",
              "      <td>0.0</td>\n",
              "      <td>2.483096</td>\n",
              "      <td>0.000000</td>\n",
              "      <td>1.918028</td>\n",
              "      <td>0.0</td>\n",
              "      <td>0.0</td>\n",
              "      <td>0.000000</td>\n",
              "      <td>1.192101</td>\n",
              "      <td>1.794550</td>\n",
              "      <td>0.0</td>\n",
              "      <td>0.914669</td>\n",
              "      <td>0.000000</td>\n",
              "      <td>2.914147</td>\n",
              "      <td>0.0</td>\n",
              "      <td>...</td>\n",
              "      <td>1.884878</td>\n",
              "      <td>0.975307</td>\n",
              "      <td>1.054358</td>\n",
              "      <td>0.0</td>\n",
              "      <td>2.364897</td>\n",
              "      <td>0.466637</td>\n",
              "      <td>1.689281</td>\n",
              "      <td>0.000000</td>\n",
              "      <td>0.0</td>\n",
              "      <td>0.0</td>\n",
              "      <td>0.000000</td>\n",
              "      <td>0.000000</td>\n",
              "      <td>0.0</td>\n",
              "      <td>1.547660</td>\n",
              "      <td>0.0</td>\n",
              "      <td>0.793933</td>\n",
              "      <td>1.215898</td>\n",
              "      <td>0.0</td>\n",
              "      <td>0.0</td>\n",
              "      <td>0.0</td>\n",
              "      <td>0.000000</td>\n",
              "      <td>0.0</td>\n",
              "      <td>2.735640</td>\n",
              "      <td>0.0</td>\n",
              "      <td>1.525283</td>\n",
              "      <td>0.302794</td>\n",
              "      <td>0.908382</td>\n",
              "      <td>0.0</td>\n",
              "      <td>0.000000</td>\n",
              "      <td>0.0</td>\n",
              "      <td>0.0</td>\n",
              "      <td>0.000000</td>\n",
              "      <td>0.107054</td>\n",
              "      <td>0.000000</td>\n",
              "      <td>0.0</td>\n",
              "      <td>0.0</td>\n",
              "      <td>0.0</td>\n",
              "      <td>0.0</td>\n",
              "      <td>0.151397</td>\n",
              "      <td>0.0</td>\n",
              "    </tr>\n",
              "    <tr>\n",
              "      <th>1</th>\n",
              "      <td>0.000000</td>\n",
              "      <td>0.000000</td>\n",
              "      <td>1.670667</td>\n",
              "      <td>2.068522</td>\n",
              "      <td>1.491443</td>\n",
              "      <td>1.184334</td>\n",
              "      <td>1.481912</td>\n",
              "      <td>0.000000</td>\n",
              "      <td>1.219695</td>\n",
              "      <td>0.000000</td>\n",
              "      <td>0.0</td>\n",
              "      <td>0.0</td>\n",
              "      <td>0.11903</td>\n",
              "      <td>1.254060</td>\n",
              "      <td>0.0</td>\n",
              "      <td>0.00000</td>\n",
              "      <td>1.135475</td>\n",
              "      <td>1.579112</td>\n",
              "      <td>0.000000</td>\n",
              "      <td>0.000000</td>\n",
              "      <td>0.000000</td>\n",
              "      <td>0.119030</td>\n",
              "      <td>0.000000</td>\n",
              "      <td>0.000000</td>\n",
              "      <td>0.000000</td>\n",
              "      <td>0.0</td>\n",
              "      <td>0.0</td>\n",
              "      <td>1.196237</td>\n",
              "      <td>0.291563</td>\n",
              "      <td>1.166252</td>\n",
              "      <td>0.0</td>\n",
              "      <td>0.0</td>\n",
              "      <td>0.000000</td>\n",
              "      <td>0.000000</td>\n",
              "      <td>3.041678</td>\n",
              "      <td>0.0</td>\n",
              "      <td>0.000000</td>\n",
              "      <td>0.000000</td>\n",
              "      <td>3.255424</td>\n",
              "      <td>0.0</td>\n",
              "      <td>...</td>\n",
              "      <td>0.000000</td>\n",
              "      <td>2.359679</td>\n",
              "      <td>0.461002</td>\n",
              "      <td>0.0</td>\n",
              "      <td>2.023511</td>\n",
              "      <td>0.119030</td>\n",
              "      <td>0.000000</td>\n",
              "      <td>0.890740</td>\n",
              "      <td>0.0</td>\n",
              "      <td>0.0</td>\n",
              "      <td>0.000000</td>\n",
              "      <td>0.000000</td>\n",
              "      <td>0.0</td>\n",
              "      <td>0.000000</td>\n",
              "      <td>0.0</td>\n",
              "      <td>1.383005</td>\n",
              "      <td>1.330797</td>\n",
              "      <td>0.0</td>\n",
              "      <td>0.0</td>\n",
              "      <td>0.0</td>\n",
              "      <td>0.000000</td>\n",
              "      <td>0.0</td>\n",
              "      <td>2.201252</td>\n",
              "      <td>0.0</td>\n",
              "      <td>0.858338</td>\n",
              "      <td>0.000000</td>\n",
              "      <td>0.995877</td>\n",
              "      <td>0.0</td>\n",
              "      <td>0.000000</td>\n",
              "      <td>0.0</td>\n",
              "      <td>0.0</td>\n",
              "      <td>0.000000</td>\n",
              "      <td>0.119030</td>\n",
              "      <td>0.119030</td>\n",
              "      <td>0.0</td>\n",
              "      <td>0.0</td>\n",
              "      <td>0.0</td>\n",
              "      <td>0.0</td>\n",
              "      <td>0.000000</td>\n",
              "      <td>0.0</td>\n",
              "    </tr>\n",
              "    <tr>\n",
              "      <th>2</th>\n",
              "      <td>0.000000</td>\n",
              "      <td>0.000000</td>\n",
              "      <td>0.000000</td>\n",
              "      <td>1.626815</td>\n",
              "      <td>1.732498</td>\n",
              "      <td>0.000000</td>\n",
              "      <td>2.079618</td>\n",
              "      <td>1.596779</td>\n",
              "      <td>0.000000</td>\n",
              "      <td>2.342371</td>\n",
              "      <td>0.0</td>\n",
              "      <td>0.0</td>\n",
              "      <td>0.00000</td>\n",
              "      <td>2.559642</td>\n",
              "      <td>0.0</td>\n",
              "      <td>0.00000</td>\n",
              "      <td>2.349250</td>\n",
              "      <td>1.136217</td>\n",
              "      <td>1.943230</td>\n",
              "      <td>0.000000</td>\n",
              "      <td>0.000000</td>\n",
              "      <td>0.000000</td>\n",
              "      <td>0.000000</td>\n",
              "      <td>0.000000</td>\n",
              "      <td>0.000000</td>\n",
              "      <td>0.0</td>\n",
              "      <td>0.0</td>\n",
              "      <td>4.096688</td>\n",
              "      <td>0.000000</td>\n",
              "      <td>1.616865</td>\n",
              "      <td>0.0</td>\n",
              "      <td>0.0</td>\n",
              "      <td>2.032527</td>\n",
              "      <td>0.000000</td>\n",
              "      <td>0.000000</td>\n",
              "      <td>0.0</td>\n",
              "      <td>0.000000</td>\n",
              "      <td>0.000000</td>\n",
              "      <td>2.236645</td>\n",
              "      <td>0.0</td>\n",
              "      <td>...</td>\n",
              "      <td>0.000000</td>\n",
              "      <td>0.000000</td>\n",
              "      <td>0.000000</td>\n",
              "      <td>0.0</td>\n",
              "      <td>2.272434</td>\n",
              "      <td>2.307667</td>\n",
              "      <td>2.515123</td>\n",
              "      <td>1.959768</td>\n",
              "      <td>0.0</td>\n",
              "      <td>0.0</td>\n",
              "      <td>0.000000</td>\n",
              "      <td>1.270329</td>\n",
              "      <td>0.0</td>\n",
              "      <td>0.000000</td>\n",
              "      <td>0.0</td>\n",
              "      <td>0.538955</td>\n",
              "      <td>0.000000</td>\n",
              "      <td>0.0</td>\n",
              "      <td>0.0</td>\n",
              "      <td>0.0</td>\n",
              "      <td>0.000000</td>\n",
              "      <td>0.0</td>\n",
              "      <td>0.000000</td>\n",
              "      <td>0.0</td>\n",
              "      <td>0.000000</td>\n",
              "      <td>0.000000</td>\n",
              "      <td>1.901255</td>\n",
              "      <td>0.0</td>\n",
              "      <td>0.000000</td>\n",
              "      <td>0.0</td>\n",
              "      <td>0.0</td>\n",
              "      <td>0.179652</td>\n",
              "      <td>0.179652</td>\n",
              "      <td>0.254066</td>\n",
              "      <td>0.0</td>\n",
              "      <td>0.0</td>\n",
              "      <td>0.0</td>\n",
              "      <td>0.0</td>\n",
              "      <td>0.000000</td>\n",
              "      <td>0.0</td>\n",
              "    </tr>\n",
              "    <tr>\n",
              "      <th>3</th>\n",
              "      <td>0.161254</td>\n",
              "      <td>0.161254</td>\n",
              "      <td>1.206712</td>\n",
              "      <td>1.259431</td>\n",
              "      <td>1.045043</td>\n",
              "      <td>0.000000</td>\n",
              "      <td>2.127081</td>\n",
              "      <td>0.000000</td>\n",
              "      <td>0.000000</td>\n",
              "      <td>0.926332</td>\n",
              "      <td>0.0</td>\n",
              "      <td>0.0</td>\n",
              "      <td>0.00000</td>\n",
              "      <td>0.161254</td>\n",
              "      <td>0.0</td>\n",
              "      <td>0.00000</td>\n",
              "      <td>1.007029</td>\n",
              "      <td>1.339473</td>\n",
              "      <td>0.000000</td>\n",
              "      <td>0.000000</td>\n",
              "      <td>0.000000</td>\n",
              "      <td>2.524018</td>\n",
              "      <td>0.000000</td>\n",
              "      <td>1.319918</td>\n",
              "      <td>1.007029</td>\n",
              "      <td>0.0</td>\n",
              "      <td>0.0</td>\n",
              "      <td>1.766445</td>\n",
              "      <td>0.000000</td>\n",
              "      <td>1.873598</td>\n",
              "      <td>0.0</td>\n",
              "      <td>0.0</td>\n",
              "      <td>0.000000</td>\n",
              "      <td>0.822235</td>\n",
              "      <td>0.702888</td>\n",
              "      <td>0.0</td>\n",
              "      <td>0.000000</td>\n",
              "      <td>1.788389</td>\n",
              "      <td>2.731810</td>\n",
              "      <td>0.0</td>\n",
              "      <td>...</td>\n",
              "      <td>2.816173</td>\n",
              "      <td>0.000000</td>\n",
              "      <td>0.000000</td>\n",
              "      <td>0.0</td>\n",
              "      <td>1.817236</td>\n",
              "      <td>0.161254</td>\n",
              "      <td>1.195889</td>\n",
              "      <td>1.007029</td>\n",
              "      <td>0.0</td>\n",
              "      <td>0.0</td>\n",
              "      <td>0.000000</td>\n",
              "      <td>1.387156</td>\n",
              "      <td>0.0</td>\n",
              "      <td>0.000000</td>\n",
              "      <td>0.0</td>\n",
              "      <td>2.026927</td>\n",
              "      <td>0.000000</td>\n",
              "      <td>0.0</td>\n",
              "      <td>0.0</td>\n",
              "      <td>0.0</td>\n",
              "      <td>0.000000</td>\n",
              "      <td>0.0</td>\n",
              "      <td>1.529786</td>\n",
              "      <td>0.0</td>\n",
              "      <td>0.994034</td>\n",
              "      <td>0.000000</td>\n",
              "      <td>0.000000</td>\n",
              "      <td>0.0</td>\n",
              "      <td>0.161254</td>\n",
              "      <td>0.0</td>\n",
              "      <td>0.0</td>\n",
              "      <td>0.000000</td>\n",
              "      <td>0.000000</td>\n",
              "      <td>0.000000</td>\n",
              "      <td>0.0</td>\n",
              "      <td>0.0</td>\n",
              "      <td>0.0</td>\n",
              "      <td>0.0</td>\n",
              "      <td>0.000000</td>\n",
              "      <td>0.0</td>\n",
              "    </tr>\n",
              "    <tr>\n",
              "      <th>4</th>\n",
              "      <td>0.000000</td>\n",
              "      <td>0.000000</td>\n",
              "      <td>1.705230</td>\n",
              "      <td>1.665843</td>\n",
              "      <td>2.592007</td>\n",
              "      <td>0.000000</td>\n",
              "      <td>1.931586</td>\n",
              "      <td>0.000000</td>\n",
              "      <td>0.000000</td>\n",
              "      <td>0.000000</td>\n",
              "      <td>0.0</td>\n",
              "      <td>0.0</td>\n",
              "      <td>1.45298</td>\n",
              "      <td>1.693510</td>\n",
              "      <td>0.0</td>\n",
              "      <td>1.29344</td>\n",
              "      <td>1.457542</td>\n",
              "      <td>0.000000</td>\n",
              "      <td>2.038605</td>\n",
              "      <td>0.115229</td>\n",
              "      <td>0.000000</td>\n",
              "      <td>0.609733</td>\n",
              "      <td>1.600809</td>\n",
              "      <td>0.907312</td>\n",
              "      <td>0.000000</td>\n",
              "      <td>0.0</td>\n",
              "      <td>0.0</td>\n",
              "      <td>3.351554</td>\n",
              "      <td>0.000000</td>\n",
              "      <td>1.475648</td>\n",
              "      <td>0.0</td>\n",
              "      <td>0.0</td>\n",
              "      <td>0.230458</td>\n",
              "      <td>0.877556</td>\n",
              "      <td>0.000000</td>\n",
              "      <td>0.0</td>\n",
              "      <td>0.000000</td>\n",
              "      <td>0.000000</td>\n",
              "      <td>2.753462</td>\n",
              "      <td>0.0</td>\n",
              "      <td>...</td>\n",
              "      <td>1.588319</td>\n",
              "      <td>2.012384</td>\n",
              "      <td>0.914600</td>\n",
              "      <td>0.0</td>\n",
              "      <td>1.896905</td>\n",
              "      <td>0.000000</td>\n",
              "      <td>0.115229</td>\n",
              "      <td>0.415463</td>\n",
              "      <td>0.0</td>\n",
              "      <td>0.0</td>\n",
              "      <td>0.115229</td>\n",
              "      <td>0.620526</td>\n",
              "      <td>0.0</td>\n",
              "      <td>1.397075</td>\n",
              "      <td>0.0</td>\n",
              "      <td>0.000000</td>\n",
              "      <td>2.411560</td>\n",
              "      <td>0.0</td>\n",
              "      <td>0.0</td>\n",
              "      <td>0.0</td>\n",
              "      <td>0.115229</td>\n",
              "      <td>0.0</td>\n",
              "      <td>1.406547</td>\n",
              "      <td>0.0</td>\n",
              "      <td>0.000000</td>\n",
              "      <td>0.000000</td>\n",
              "      <td>0.000000</td>\n",
              "      <td>0.0</td>\n",
              "      <td>0.000000</td>\n",
              "      <td>0.0</td>\n",
              "      <td>0.0</td>\n",
              "      <td>0.000000</td>\n",
              "      <td>0.162958</td>\n",
              "      <td>0.000000</td>\n",
              "      <td>0.0</td>\n",
              "      <td>0.0</td>\n",
              "      <td>0.0</td>\n",
              "      <td>0.0</td>\n",
              "      <td>0.115229</td>\n",
              "      <td>0.0</td>\n",
              "    </tr>\n",
              "  </tbody>\n",
              "</table>\n",
              "<p>5 rows × 1830 columns</p>\n",
              "</div>"
            ],
            "text/plain": [
              "      CLIC4    TGFBR3  ...  ERCC_937.5:mix1_1875:mix2  ERCC_234.375:mix1_468.75:mix2\n",
              "0  0.185423  0.000000  ...                   0.151397                            0.0\n",
              "1  0.000000  0.000000  ...                   0.000000                            0.0\n",
              "2  0.000000  0.000000  ...                   0.000000                            0.0\n",
              "3  0.161254  0.161254  ...                   0.000000                            0.0\n",
              "4  0.000000  0.000000  ...                   0.115229                            0.0\n",
              "\n",
              "[5 rows x 1830 columns]"
            ]
          },
          "metadata": {},
          "execution_count": 10
        }
      ]
    },
    {
      "cell_type": "markdown",
      "metadata": {
        "id": "eM5GWDv_ScjG"
      },
      "source": [
        "# Scaling data (if required)"
      ]
    },
    {
      "cell_type": "code",
      "metadata": {
        "id": "NFsmycwG3-mO"
      },
      "source": [
        "%%script false\n",
        "#only for scanpy pre-processed data (PBMC - 10x Genomics)\n",
        "from sklearn.preprocessing import MinMaxScaler\n",
        "scaler = MinMaxScaler()\n",
        "data = pd.DataFrame(scaler.fit_transform(data))\n",
        "data.head()"
      ],
      "execution_count": 11,
      "outputs": []
    },
    {
      "cell_type": "markdown",
      "metadata": {
        "id": "PQKgW5eASrlA"
      },
      "source": [
        "# Checking loaded data"
      ]
    },
    {
      "cell_type": "code",
      "metadata": {
        "colab": {
          "base_uri": "https://localhost:8080/"
        },
        "id": "pvcCrZtejwjW",
        "outputId": "86032044-1e0f-4b4b-ed44-6295931e902c"
      },
      "source": [
        "data.shape"
      ],
      "execution_count": 12,
      "outputs": [
        {
          "output_type": "execute_result",
          "data": {
            "text/plain": [
              "(1630, 1830)"
            ]
          },
          "metadata": {},
          "execution_count": 12
        }
      ]
    },
    {
      "cell_type": "code",
      "metadata": {
        "colab": {
          "base_uri": "https://localhost:8080/"
        },
        "id": "it-bUYvxj7hd",
        "outputId": "e786bcce-5d0b-49fc-b5a8-d1955edfee22"
      },
      "source": [
        "labels.shape"
      ],
      "execution_count": 13,
      "outputs": [
        {
          "output_type": "execute_result",
          "data": {
            "text/plain": [
              "(1630, 2)"
            ]
          },
          "metadata": {},
          "execution_count": 13
        }
      ]
    },
    {
      "cell_type": "code",
      "metadata": {
        "colab": {
          "base_uri": "https://localhost:8080/"
        },
        "id": "xzLNQ2-yM5a9",
        "outputId": "d1be3e64-181d-42c4-8006-5fa4f32cf137"
      },
      "source": [
        "labels.nunique()"
      ],
      "execution_count": 14,
      "outputs": [
        {
          "output_type": "execute_result",
          "data": {
            "text/plain": [
              "Unnamed: 0    1630\n",
              "x               13\n",
              "dtype: int64"
            ]
          },
          "metadata": {},
          "execution_count": 14
        }
      ]
    },
    {
      "cell_type": "code",
      "metadata": {
        "colab": {
          "base_uri": "https://localhost:8080/"
        },
        "id": "yOfWyAQI1DJs",
        "outputId": "366b6af7-52bf-424a-f477-57b0748e6866"
      },
      "source": [
        "labels = labels['x']\n",
        "labels.head()"
      ],
      "execution_count": 17,
      "outputs": [
        {
          "output_type": "execute_result",
          "data": {
            "text/plain": [
              "0    delta\n",
              "1    alpha\n",
              "2    delta\n",
              "3    gamma\n",
              "4    alpha\n",
              "Name: x, dtype: object"
            ]
          },
          "metadata": {},
          "execution_count": 17
        }
      ]
    },
    {
      "cell_type": "markdown",
      "metadata": {
        "id": "Nmxn0dEhwf0s"
      },
      "source": [
        "# Finding the optimal dimensions for embedding using reconstruction error"
      ]
    },
    {
      "cell_type": "code",
      "metadata": {
        "id": "v7PqelPewzCd",
        "colab": {
          "base_uri": "https://localhost:8080/"
        },
        "outputId": "f958c067-c26e-4798-991e-3eb276ba1438"
      },
      "source": [
        "d = range(2,16)\n",
        "k=[]\n",
        "error=[]\n",
        "# try each value of k\n",
        "for i in d:\n",
        "    print(\"Applying NMF for k=%d ...\" % i)\n",
        "    # run NMF\n",
        "    model = NMF(init=\"nndsvd\", n_components=i) \n",
        "    W = model.fit_transform(data)\n",
        "    H = model.components_    \n",
        "    k.append(i)\n",
        "    error.append(model.reconstruction_err_)"
      ],
      "execution_count": 18,
      "outputs": [
        {
          "output_type": "stream",
          "name": "stdout",
          "text": [
            "Applying NMF for k=2 ...\n",
            "Applying NMF for k=3 ...\n",
            "Applying NMF for k=4 ...\n",
            "Applying NMF for k=5 ...\n",
            "Applying NMF for k=6 ...\n",
            "Applying NMF for k=7 ...\n",
            "Applying NMF for k=8 ...\n",
            "Applying NMF for k=9 ...\n",
            "Applying NMF for k=10 ...\n",
            "Applying NMF for k=11 ...\n",
            "Applying NMF for k=12 ...\n",
            "Applying NMF for k=13 ...\n",
            "Applying NMF for k=14 ...\n",
            "Applying NMF for k=15 ...\n"
          ]
        }
      ]
    },
    {
      "cell_type": "code",
      "metadata": {
        "id": "m-waFpIxxIwa",
        "colab": {
          "base_uri": "https://localhost:8080/",
          "height": 288
        },
        "outputId": "ce0a259e-9437-4924-e344-a0277d66bdcb"
      },
      "source": [
        "# Plotting a bar graph to compare the results \n",
        "plt.plot(k, error) \n",
        "plt.xlabel('Number of dimensions', fontsize = 20) \n",
        "plt.ylabel('Reconstruction Error', fontsize = 20) \n",
        "plt.show() "
      ],
      "execution_count": 19,
      "outputs": [
        {
          "output_type": "display_data",
          "data": {
            "image/png": "[encoded data removed]",
            "text/plain": [
              "<Figure size 432x288 with 1 Axes>"
            ]
          },
          "metadata": {
            "needs_background": "light"
          }
        }
      ]
    },
    {
      "cell_type": "code",
      "metadata": {
        "id": "Q7rPltFljItN",
        "colab": {
          "base_uri": "https://localhost:8080/"
        },
        "outputId": "34928d49-d899-407a-b953-3ec7074b942f"
      },
      "source": [
        "x = range(2, len(error)+2)\n",
        "\n",
        "from kneed import KneeLocator\n",
        "kn = KneeLocator(x, error, curve='convex', direction='decreasing')\n",
        "print(kn.knee)"
      ],
      "execution_count": 20,
      "outputs": [
        {
          "output_type": "stream",
          "name": "stdout",
          "text": [
            "6\n"
          ]
        }
      ]
    },
    {
      "cell_type": "code",
      "metadata": {
        "id": "yHN60HACjiUm",
        "colab": {
          "base_uri": "https://localhost:8080/",
          "height": 296
        },
        "outputId": "607da31f-8762-479b-c316-6109bb8955ce"
      },
      "source": [
        "plt.xlabel('Number of dimensions')\n",
        "plt.ylabel('Reconstruction error')\n",
        "plt.plot(x, error, 'bx-')\n",
        "plt.vlines(kn.knee, plt.ylim()[0], plt.ylim()[1], linestyles='dashed')"
      ],
      "execution_count": 21,
      "outputs": [
        {
          "output_type": "execute_result",
          "data": {
            "text/plain": [
              "<matplotlib.collections.LineCollection at 0x7fad89c45fd0>"
            ]
          },
          "metadata": {},
          "execution_count": 21
        },
        {
          "output_type": "display_data",
          "data": {
            "image/png": "[encoded data removed]",
            "text/plain": [
              "<Figure size 432x288 with 1 Axes>"
            ]
          },
          "metadata": {
            "needs_background": "light"
          }
        }
      ]
    },
    {
      "cell_type": "markdown",
      "metadata": {
        "id": "X7V0FPcUnJYM"
      },
      "source": [
        "# Lower dimensional cell embedding using NMF"
      ]
    },
    {
      "cell_type": "code",
      "metadata": {
        "id": "MS6bKTnQhlE7"
      },
      "source": [
        "optDim = kn.knee"
      ],
      "execution_count": 22,
      "outputs": []
    },
    {
      "cell_type": "code",
      "metadata": {
        "id": "5IdCKmNLnCrd"
      },
      "source": [
        "#Mark the begining of the proposed method\n",
        "t.tic()"
      ],
      "execution_count": 23,
      "outputs": []
    },
    {
      "cell_type": "code",
      "metadata": {
        "id": "IGuo26QZd847"
      },
      "source": [
        "data_orig = data.copy()"
      ],
      "execution_count": 24,
      "outputs": []
    },
    {
      "cell_type": "code",
      "metadata": {
        "id": "eu_ZcTpqcciX"
      },
      "source": [
        "model = NMF(n_components=optDim, init='nndsvd')\n",
        "W = model.fit_transform(data)\n",
        "H = model.components_"
      ],
      "execution_count": 25,
      "outputs": []
    },
    {
      "cell_type": "code",
      "metadata": {
        "colab": {
          "base_uri": "https://localhost:8080/"
        },
        "id": "CcpF1opmdIuX",
        "outputId": "edf550b0-fda2-4f51-82ac-3b2db3d5d2f9"
      },
      "source": [
        "print(W.shape)\n",
        "print(H.shape)"
      ],
      "execution_count": 26,
      "outputs": [
        {
          "output_type": "stream",
          "name": "stdout",
          "text": [
            "(1630, 6)\n",
            "(6, 1830)\n"
          ]
        }
      ]
    },
    {
      "cell_type": "code",
      "metadata": {
        "id": "nvR7jYeGgue8"
      },
      "source": [
        "data = pd.DataFrame(W)"
      ],
      "execution_count": 27,
      "outputs": []
    },
    {
      "cell_type": "markdown",
      "metadata": {
        "id": "2C6cH0nzk9Q2"
      },
      "source": [
        "# (A) Encoding labels (B) Removing p% labels (C) Labelling unknown cells as -1"
      ]
    },
    {
      "cell_type": "markdown",
      "metadata": {
        "id": "oh1FGVEXMqM2"
      },
      "source": [
        "**Encoding the labels**"
      ]
    },
    {
      "cell_type": "code",
      "metadata": {
        "id": "HABmOzUnRpCk"
      },
      "source": [
        "from sklearn import preprocessing\n",
        "le = preprocessing.LabelEncoder()\n",
        "y = pd.DataFrame(le.fit_transform(np.ravel(labels)))"
      ],
      "execution_count": 28,
      "outputs": []
    },
    {
      "cell_type": "code",
      "metadata": {
        "id": "Drc7NELacY-9"
      },
      "source": [
        "y1 = y.copy()"
      ],
      "execution_count": 29,
      "outputs": []
    },
    {
      "cell_type": "markdown",
      "metadata": {
        "id": "YFA1oChFrGvo"
      },
      "source": [
        "**Removing p% labels (if no label is missing)**"
      ]
    },
    {
      "cell_type": "code",
      "metadata": {
        "id": "J2qdQwaz31n1"
      },
      "source": [
        "p = 0.9   #input parameter p = {0.1, 0.2, 0.3, 0.4, 0.5, 0.6, 0.7, 0.8 0.9}\n",
        "n = int(p * data.shape[0])    \n",
        "index = random.sample(range(1, data.shape[0]), n)\n",
        "ground_truth = y.copy()"
      ],
      "execution_count": 30,
      "outputs": []
    },
    {
      "cell_type": "code",
      "metadata": {
        "colab": {
          "base_uri": "https://localhost:8080/"
        },
        "id": "BSCLsdJg2KE3",
        "outputId": "810dc206-f00a-41df-a166-26eb0736b0db"
      },
      "source": [
        "data.shape"
      ],
      "execution_count": 31,
      "outputs": [
        {
          "output_type": "execute_result",
          "data": {
            "text/plain": [
              "(1630, 6)"
            ]
          },
          "metadata": {},
          "execution_count": 31
        }
      ]
    },
    {
      "cell_type": "code",
      "metadata": {
        "id": "12RDczIPatOF"
      },
      "source": [
        "dataWOmissingLab = data_orig.iloc[~y.index.isin(index)]\n",
        "LabNOTmissing = y.iloc[~y.index.isin(index)]"
      ],
      "execution_count": 32,
      "outputs": []
    },
    {
      "cell_type": "markdown",
      "metadata": {
        "id": "QhBTOAgLMloY"
      },
      "source": [
        "**Labelling unknown data as -1**"
      ]
    },
    {
      "cell_type": "code",
      "metadata": {
        "id": "WU8ItOMOWAFC"
      },
      "source": [
        "y.iloc[index] = -1           # forcibly removing p% of the labels\n",
        "indx = pd.DataFrame(np.arange(0,data.shape[0]))\n",
        "df = pd.concat([data,indx], axis=1)\n",
        "X = pd.concat([df,y], axis=1)"
      ],
      "execution_count": 33,
      "outputs": []
    },
    {
      "cell_type": "code",
      "metadata": {
        "id": "1l7BHf8aCxPS"
      },
      "source": [
        "#Setting k to the number of unique labels in the data excluding -1 (-1 stands for unknown labels)\n",
        "k = y[0].nunique()-1"
      ],
      "execution_count": 34,
      "outputs": []
    },
    {
      "cell_type": "markdown",
      "metadata": {
        "id": "oryceblO3i7v"
      },
      "source": [
        "# Clustering using k-Means"
      ]
    },
    {
      "cell_type": "markdown",
      "metadata": {
        "id": "pd0KBJ1X3-N6"
      },
      "source": [
        "Recursive clustering"
      ]
    },
    {
      "cell_type": "code",
      "metadata": {
        "id": "I3VjKR_bCqzJ"
      },
      "source": [
        "def rec_KMeans(res):\n",
        "    if len(res) == 0:\n",
        "        return\n",
        "    \n",
        "    num_labels = set()\n",
        "    #finding no. of known labels for each cluster\n",
        "    for i in res:\n",
        "        if(i[-1] != -1):\n",
        "          num_labels.add(i[-1])\n",
        "    print(len(num_labels), num_labels)   \n",
        "\n",
        "    if(len(num_labels) == 1):     #if all labelled data belong from one class\n",
        "        final_clusters.append(res)\n",
        "        cluster_label.append(num_labels)\n",
        "        return\n",
        "    \n",
        "    if(len(num_labels) == 0):     #if no labelled data exist\n",
        "        final_clusters.append(res)\n",
        "        cluster_label.append(-1)\n",
        "        return\n",
        "    \n",
        "    #if all labelled data belong from more than one class, then cluster recursively\n",
        "    newk = len(num_labels)\n",
        "    centroid1 = []\n",
        "    rnd = random.sample(range(len(res)), newk)\n",
        "    for j in range(newk):\n",
        "        centroid1.append(res[rnd[j]])\n",
        "        \n",
        "    print('Partioning further...')\n",
        "    my_KMeans(res, centroid1, newk)"
      ],
      "execution_count": 35,
      "outputs": []
    },
    {
      "cell_type": "markdown",
      "metadata": {
        "id": "qZlzPnBo4Blc"
      },
      "source": [
        "Passing each partition to recursive k-Means function"
      ]
    },
    {
      "cell_type": "code",
      "metadata": {
        "id": "khU9EUJq9uoT"
      },
      "source": [
        "def rec_KMeans_call(res):\n",
        "    for par in res:\n",
        "        print('...New cluster...')   \n",
        "        rec_KMeans(res[par])"
      ],
      "execution_count": 36,
      "outputs": []
    },
    {
      "cell_type": "markdown",
      "metadata": {
        "id": "lLu1EVVT4ZoU"
      },
      "source": [
        "Distance between a given sample and a given centroid"
      ]
    },
    {
      "cell_type": "code",
      "metadata": {
        "id": "lSolb_2V4tXc"
      },
      "source": [
        "def distance(a,b):\n",
        "    ans = 0\n",
        "    for i in range(len(a)):\n",
        "        ans += math.pow((a[i] - b[i]),2)\n",
        "    return math.sqrt(ans)"
      ],
      "execution_count": 37,
      "outputs": []
    },
    {
      "cell_type": "code",
      "metadata": {
        "id": "R-Wmt2QchgLI"
      },
      "source": [
        "def my_KMeans(data, centroid, k):  #using user-defined KMeans\n",
        "    \n",
        "    #max_iter = 1\n",
        "    #for i in range(max_iter):\n",
        "        \n",
        "    diction = {}    #empty dictionary to store data corresponding to each cluster\n",
        "    for i in range(k):\n",
        "        diction[i]=[]\n",
        "        \n",
        "    for j in range(len(data)):\n",
        "        l = []\n",
        "        for c in centroid:\n",
        "            l.append(distance(data[j][:-2],c[:-2]))      #calculate distance of the sample from each centroid\n",
        "        diction[l.index(min(l))].append(data[j])         #assigning the sample to the nearest centroid\n",
        "    \n",
        "    for c in diction:     #update centroids\n",
        "        if(len(diction[c])!=0):\n",
        "            centroid[c] = np.average(diction[c], axis = 0)\n",
        "    rec_KMeans_call(diction)"
      ],
      "execution_count": 38,
      "outputs": []
    },
    {
      "cell_type": "code",
      "metadata": {
        "id": "BmRgi6qckASN"
      },
      "source": [
        "cntr = []\n",
        "final_clusters = []\n",
        "cluster_label = []"
      ],
      "execution_count": 39,
      "outputs": []
    },
    {
      "cell_type": "code",
      "metadata": {
        "id": "YxfW5witQ0MR"
      },
      "source": [
        "#Initializing centroids\n",
        "random.seed(0)\n",
        "rnd = random.sample(range(X.shape[0]), k)\n",
        "for i in range(k):\n",
        "        cntr.append(X.iloc[rnd[i]])"
      ],
      "execution_count": 40,
      "outputs": []
    },
    {
      "cell_type": "code",
      "metadata": {
        "colab": {
          "base_uri": "https://localhost:8080/"
        },
        "id": "npTH-D9YS8vw",
        "outputId": "90514e5c-3fd4-406d-9a96-318dba463812"
      },
      "source": [
        "#initial k-Means call  \n",
        "my_KMeans(X.values, cntr, k)"
      ],
      "execution_count": 41,
      "outputs": [
        {
          "output_type": "stream",
          "name": "stdout",
          "text": [
            "...New cluster...\n",
            "1 {3.0}\n",
            "...New cluster...\n",
            "2 {3.0, 6.0}\n",
            "Partioning further...\n",
            "...New cluster...\n",
            "1 {6.0}\n",
            "...New cluster...\n",
            "1 {3.0}\n",
            "...New cluster...\n",
            "1 {3.0}\n",
            "...New cluster...\n",
            "2 {10.0, 6.0}\n",
            "Partioning further...\n",
            "...New cluster...\n",
            "1 {10.0}\n",
            "...New cluster...\n",
            "2 {10.0, 6.0}\n",
            "Partioning further...\n",
            "...New cluster...\n",
            "2 {10.0, 6.0}\n",
            "Partioning further...\n",
            "...New cluster...\n",
            "2 {10.0, 6.0}\n",
            "Partioning further...\n",
            "...New cluster...\n",
            "2 {10.0, 6.0}\n",
            "Partioning further...\n",
            "...New cluster...\n",
            "1 {6.0}\n",
            "...New cluster...\n",
            "1 {10.0}\n",
            "...New cluster...\n",
            "1 {10.0}\n",
            "...New cluster...\n",
            "1 {10.0}\n",
            "...New cluster...\n",
            "1 {10.0}\n",
            "...New cluster...\n",
            "2 {4.0, 5.0}\n",
            "Partioning further...\n",
            "...New cluster...\n",
            "2 {4.0, 5.0}\n",
            "Partioning further...\n",
            "...New cluster...\n",
            "2 {4.0, 5.0}\n",
            "Partioning further...\n",
            "...New cluster...\n",
            "2 {4.0, 5.0}\n",
            "Partioning further...\n",
            "...New cluster...\n",
            "1 {4.0}\n",
            "...New cluster...\n",
            "2 {4.0, 5.0}\n",
            "Partioning further...\n",
            "...New cluster...\n",
            "2 {4.0, 5.0}\n",
            "Partioning further...\n",
            "...New cluster...\n",
            "1 {5.0}\n",
            "...New cluster...\n",
            "1 {4.0}\n",
            "...New cluster...\n",
            "0 set()\n",
            "...New cluster...\n",
            "0 set()\n",
            "...New cluster...\n",
            "2 {4.0, 5.0}\n",
            "Partioning further...\n",
            "...New cluster...\n",
            "2 {4.0, 5.0}\n",
            "Partioning further...\n",
            "...New cluster...\n",
            "1 {4.0}\n",
            "...New cluster...\n",
            "2 {4.0, 5.0}\n",
            "Partioning further...\n",
            "...New cluster...\n",
            "1 {5.0}\n",
            "...New cluster...\n",
            "1 {4.0}\n",
            "...New cluster...\n",
            "1 {4.0}\n",
            "...New cluster...\n",
            "2 {4.0, 5.0}\n",
            "Partioning further...\n",
            "...New cluster...\n",
            "1 {5.0}\n",
            "...New cluster...\n",
            "2 {4.0, 5.0}\n",
            "Partioning further...\n",
            "...New cluster...\n",
            "2 {4.0, 5.0}\n",
            "Partioning further...\n",
            "...New cluster...\n",
            "1 {5.0}\n",
            "...New cluster...\n",
            "1 {4.0}\n",
            "...New cluster...\n",
            "1 {4.0}\n",
            "...New cluster...\n",
            "2 {1.0, 7.0}\n",
            "Partioning further...\n",
            "...New cluster...\n",
            "1 {7.0}\n",
            "...New cluster...\n",
            "1 {1.0}\n",
            "...New cluster...\n",
            "4 {8.0, 1.0, 2.0, 7.0}\n",
            "Partioning further...\n",
            "...New cluster...\n",
            "2 {2.0, 7.0}\n",
            "Partioning further...\n",
            "...New cluster...\n",
            "2 {2.0, 7.0}\n",
            "Partioning further...\n",
            "...New cluster...\n",
            "2 {2.0, 7.0}\n",
            "Partioning further...\n",
            "...New cluster...\n",
            "1 {2.0}\n",
            "...New cluster...\n",
            "1 {7.0}\n",
            "...New cluster...\n",
            "0 set()\n",
            "...New cluster...\n",
            "1 {2.0}\n",
            "...New cluster...\n",
            "2 {8.0, 7.0}\n",
            "Partioning further...\n",
            "...New cluster...\n",
            "1 {8.0}\n",
            "...New cluster...\n",
            "1 {7.0}\n",
            "...New cluster...\n",
            "1 {2.0}\n",
            "...New cluster...\n",
            "1 {1.0}\n",
            "...New cluster...\n",
            "1 {3.0}\n",
            "...New cluster...\n",
            "1 {4.0}\n"
          ]
        }
      ]
    },
    {
      "cell_type": "markdown",
      "metadata": {
        "id": "HTCGRRhEBoX7"
      },
      "source": [
        "# Results"
      ]
    },
    {
      "cell_type": "markdown",
      "metadata": {
        "id": "PtPaOvVhJzH9"
      },
      "source": [
        "Computing final centroids"
      ]
    },
    {
      "cell_type": "code",
      "metadata": {
        "id": "Y7jFoyv4gWK0"
      },
      "source": [
        "def get_final_centroids(final_clusters):\n",
        "    final_centroids = []\n",
        "    for i in range(len(final_clusters)):\n",
        "        fc = pd.DataFrame(final_clusters[i]).iloc[:, :-2]\n",
        "        fc_mean = np.average(fc,axis = 0)\n",
        "        final_centroids.append(fc_mean)\n",
        "    return final_centroids\n"
      ],
      "execution_count": 42,
      "outputs": []
    },
    {
      "cell_type": "code",
      "metadata": {
        "id": "MMAcmhYTJ45G"
      },
      "source": [
        "final_centroids = get_final_centroids(final_clusters)"
      ],
      "execution_count": 43,
      "outputs": []
    },
    {
      "cell_type": "code",
      "metadata": {
        "id": "abofvkMGFEvo"
      },
      "source": [
        "def get_final_results(cluster_label):\n",
        "    no_of_points = []\n",
        "    labelled = []\n",
        "    unlabelled = []\n",
        "    cluster_lbl = []\n",
        "\n",
        "    dtf = [f'cluster{i}' for i in range(1,len(final_clusters) + 1)]\n",
        "    results = pd.DataFrame(dtf, columns = ['Clusters'])\n",
        "    \n",
        "    for i in cluster_label:\n",
        "        if( i != -1):\n",
        "            cluster_lbl.append(int(list(i)[0]))\n",
        "        else:\n",
        "            cluster_lbl.append(i)\n",
        "        \n",
        "    results['Label'] = cluster_lbl\n",
        "    \n",
        "    for i in range(len(final_clusters)):\n",
        "        no_of_points.append(len(final_clusters[i]))  #count of total samples\n",
        "        cl = 0\n",
        "        cu = 0\n",
        "        for j in final_clusters[i]:\n",
        "            if(j[-1] == -1):\n",
        "                cu += 1       #count of unlabelled samples\n",
        "            else:\n",
        "                cl += 1       #count of labelled samples\n",
        "        labelled.append(cl)\n",
        "        unlabelled.append(cu)\n",
        "\n",
        "    results['Total_Count'] = no_of_points\n",
        "    results['Count_ld'] = labelled\n",
        "    results['Count_ud'] = unlabelled\n",
        "    return results"
      ],
      "execution_count": 44,
      "outputs": []
    },
    {
      "cell_type": "code",
      "metadata": {
        "colab": {
          "base_uri": "https://localhost:8080/"
        },
        "id": "J5xmpi7VFIi8",
        "outputId": "e4c752f4-8c3c-43ec-d20a-13fc9691c84a"
      },
      "source": [
        "result = get_final_results(cluster_label)\n",
        "print(result)"
      ],
      "execution_count": 45,
      "outputs": [
        {
          "output_type": "stream",
          "name": "stdout",
          "text": [
            "     Clusters  Label  Total_Count  Count_ld  Count_ud\n",
            "0    cluster1      3           99         9        90\n",
            "1    cluster2      6           85        10        75\n",
            "2    cluster3      3          308        32       276\n",
            "3    cluster4      3          236        25       211\n",
            "4    cluster5     10           83         8        75\n",
            "5    cluster6      6            5         1         4\n",
            "6    cluster7     10           17         1        16\n",
            "7    cluster8     10           20         1        19\n",
            "8    cluster9     10           27         3        24\n",
            "9   cluster10     10           32         3        29\n",
            "10  cluster11      4            4         1         3\n",
            "11  cluster12      5            4         1         3\n",
            "12  cluster13      4            7         1         6\n",
            "13  cluster14     -1            4         0         4\n",
            "14  cluster15     -1            6         0         6\n",
            "15  cluster16      4            9         1         8\n",
            "16  cluster17      5            1         1         0\n",
            "17  cluster18      4            3         1         2\n",
            "18  cluster19      4           37         3        34\n",
            "19  cluster20      5           15         1        14\n",
            "20  cluster21      5            4         1         3\n",
            "21  cluster22      4           25         1        24\n",
            "22  cluster23      4            3         1         2\n",
            "23  cluster24      7          250        25       225\n",
            "24  cluster25      1           43         3        40\n",
            "25  cluster26      2            6         1         5\n",
            "26  cluster27      7            5         1         4\n",
            "27  cluster28     -1            4         0         4\n",
            "28  cluster29      2           16         1        15\n",
            "29  cluster30      8           15         1        14\n",
            "30  cluster31      7           11         1        10\n",
            "31  cluster32      2           61         6        55\n",
            "32  cluster33      1           24         3        21\n",
            "33  cluster34      3           59         5        54\n",
            "34  cluster35      4          102        10        92\n"
          ]
        }
      ]
    },
    {
      "cell_type": "markdown",
      "metadata": {
        "id": "BqFWlR1qvVCO"
      },
      "source": [
        "# Labelling clusters with both labelled and unlabelled cells"
      ]
    },
    {
      "cell_type": "code",
      "metadata": {
        "id": "goZgzvQtfjJ4"
      },
      "source": [
        "pl=[]\n",
        "index=[]\n",
        "\n",
        "for i in range(len(result)):\n",
        "    cls = result['Label'][i]\n",
        "    nud = result['Count_ud'][i]\n",
        "    if cls != -1 and nud > 0:\n",
        "        for j in final_clusters[i]:\n",
        "            if(j[-1] == -1):\n",
        "                j[-1] = cls   #setting the class label\n",
        "                #marking the predicted label and corresponding index position\n",
        "                id = int(j[-2])\n",
        "                index.append(id)     \n",
        "                pl.append(cls)"
      ],
      "execution_count": 46,
      "outputs": []
    },
    {
      "cell_type": "markdown",
      "metadata": {
        "id": "U3Q8N2fxGKnj"
      },
      "source": [
        "# Setting weighted radius of clusters as threshold"
      ]
    },
    {
      "cell_type": "code",
      "metadata": {
        "id": "AAMpwb35CLqT"
      },
      "source": [
        "rad=[]\n",
        "for i in range(len(final_centroids)):\n",
        "    dist=[]\n",
        "    for j in final_clusters[i]:\n",
        "        dist.append(distance(final_centroids[i],j[:-2]))\n",
        "    rad.append(np.max(dist))"
      ],
      "execution_count": 47,
      "outputs": []
    },
    {
      "cell_type": "code",
      "metadata": {
        "id": "a_qE4ma8Kzfd"
      },
      "source": [
        "wrad=0\n",
        "npnts=data.shape[0]\n",
        "for i in range(len(final_clusters)):\n",
        "    wrad += rad[i]*len(final_clusters[i])\n",
        "wrad/=npnts"
      ],
      "execution_count": 48,
      "outputs": []
    },
    {
      "cell_type": "markdown",
      "metadata": {
        "id": "E9VcM6nqJ_3S"
      },
      "source": [
        "# Labelling the clusters with all unlabelled cells"
      ]
    },
    {
      "cell_type": "code",
      "metadata": {
        "id": "_lP4YswZ6KDV"
      },
      "source": [
        "pos = [i for i in result.loc[result['Label']==-1].index]"
      ],
      "execution_count": 49,
      "outputs": []
    },
    {
      "cell_type": "code",
      "metadata": {
        "colab": {
          "base_uri": "https://localhost:8080/"
        },
        "id": "MGpzeKbP_g-r",
        "outputId": "2fc65093-e399-4f35-9e88-582183ee67ce"
      },
      "source": [
        "d = euclidean_distances(final_centroids, final_centroids)\n",
        "for i in pos:\n",
        "    nc = i\n",
        "    #find nearest labelled cluster\n",
        "    while result.loc[nc,'Label'] == -1:\n",
        "        d[i][nc]=999\n",
        "        nn = np.where(d[i] == np.amin(d[i]))  #finding nearest neighbor of the unlabelled cluster\n",
        "        nc = nn[0][0]\n",
        "\n",
        "    #Setting labels of unlabelled data in unlabelled clusters to the class label of the nearest cluster\n",
        "    #if distance from nearest centroid is less than or equal to threshold distance (weighted radius)\n",
        "    l = len(final_clusters[i])  #number of points in cluster i\n",
        "    print('no. of points in cluster {0}: {1}'.format(i,l))\n",
        "    c=0\n",
        "    for j in final_clusters[i]:\n",
        "        if (distance(final_centroids[nc],j[:-2]) <= wrad):\n",
        "            c+=1\n",
        "            j[-1] = result['Label'][nc]   #setting the class label\n",
        "            #marking the predicted label\n",
        "            id = int(j[-2])\n",
        "            index.append(id)\n",
        "            pl.append(int(j[-1]))\n",
        "    print('no. of points labelled now: ',c)\n",
        "    if c==l:    #implies labels of all samples in cluster i changed\n",
        "        print('Label of cluster {0} changed to the label of its nearest neighbour cluster {1}'.format(i+1,nc))\n",
        "        result.loc[i,'Label'] = result.loc[nc,'Label']"
      ],
      "execution_count": 50,
      "outputs": [
        {
          "output_type": "stream",
          "name": "stdout",
          "text": [
            "no. of points in cluster 13: 4\n",
            "no. of points labelled now:  4\n",
            "Label of cluster 14 changed to the label of its nearest neighbour cluster 17\n",
            "no. of points in cluster 14: 6\n",
            "no. of points labelled now:  6\n",
            "Label of cluster 15 changed to the label of its nearest neighbour cluster 20\n",
            "no. of points in cluster 27: 4\n",
            "no. of points labelled now:  4\n",
            "Label of cluster 28 changed to the label of its nearest neighbour cluster 26\n"
          ]
        }
      ]
    },
    {
      "cell_type": "markdown",
      "metadata": {
        "id": "RaE5-BUUo_Cw"
      },
      "source": [
        "Computing running time"
      ]
    },
    {
      "cell_type": "code",
      "metadata": {
        "colab": {
          "base_uri": "https://localhost:8080/"
        },
        "id": "0oJc1pdGnZDO",
        "outputId": "9d07f9e4-9c91-49b8-8dd0-9abe629735d6"
      },
      "source": [
        "#Compute time elapsed at the end of proposed algorithm\n",
        "t.toc()"
      ],
      "execution_count": 51,
      "outputs": [
        {
          "output_type": "stream",
          "name": "stdout",
          "text": [
            "Elapsed time is 3.409091 seconds.\n"
          ]
        }
      ]
    },
    {
      "cell_type": "markdown",
      "metadata": {
        "id": "dissDtuEP7tN"
      },
      "source": [
        "# Storing true labels"
      ]
    },
    {
      "cell_type": "code",
      "metadata": {
        "id": "9KicyVZyDqI1"
      },
      "source": [
        "tl = []\n",
        "for i in index:\n",
        "    tl.append(ground_truth.iloc[i].values[0])"
      ],
      "execution_count": 52,
      "outputs": []
    },
    {
      "cell_type": "markdown",
      "metadata": {
        "id": "pHIgvGm92PMt"
      },
      "source": [
        "# Results after reassignment"
      ]
    },
    {
      "cell_type": "code",
      "metadata": {
        "id": "G1alCbK337zp"
      },
      "source": [
        "def get_final_results(result):\n",
        "    labelled = []\n",
        "    unlabelled = []\n",
        "    for i in range(len(final_clusters)):\n",
        "        cl = 0\n",
        "        cu = 0\n",
        "        for j in final_clusters[i]:\n",
        "            if(j[-1] == -1):\n",
        "                cu += 1       #count of unlabelled samples\n",
        "            else:\n",
        "                cl += 1       #count of labelled samples\n",
        "        labelled.append(cl)\n",
        "        unlabelled.append(cu)\n",
        "\n",
        "    result['Count_ld_Now'] = labelled\n",
        "    result['Count_ud_Now'] = unlabelled\n",
        "    return result"
      ],
      "execution_count": 53,
      "outputs": []
    },
    {
      "cell_type": "code",
      "metadata": {
        "colab": {
          "base_uri": "https://localhost:8080/"
        },
        "id": "Vlh_td882H32",
        "outputId": "bf0fca1e-d6c4-4506-9d8f-41e0391c244f"
      },
      "source": [
        "reassignmentResult = get_final_results(result)\n",
        "print(reassignmentResult)"
      ],
      "execution_count": 54,
      "outputs": [
        {
          "output_type": "stream",
          "name": "stdout",
          "text": [
            "     Clusters  Label  Total_Count  ...  Count_ud  Count_ld_Now  Count_ud_Now\n",
            "0    cluster1      3           99  ...        90            99             0\n",
            "1    cluster2      6           85  ...        75            85             0\n",
            "2    cluster3      3          308  ...       276           308             0\n",
            "3    cluster4      3          236  ...       211           236             0\n",
            "4    cluster5     10           83  ...        75            83             0\n",
            "5    cluster6      6            5  ...         4             5             0\n",
            "6    cluster7     10           17  ...        16            17             0\n",
            "7    cluster8     10           20  ...        19            20             0\n",
            "8    cluster9     10           27  ...        24            27             0\n",
            "9   cluster10     10           32  ...        29            32             0\n",
            "10  cluster11      4            4  ...         3             4             0\n",
            "11  cluster12      5            4  ...         3             4             0\n",
            "12  cluster13      4            7  ...         6             7             0\n",
            "13  cluster14      4            4  ...         4             4             0\n",
            "14  cluster15      5            6  ...         6             6             0\n",
            "15  cluster16      4            9  ...         8             9             0\n",
            "16  cluster17      5            1  ...         0             1             0\n",
            "17  cluster18      4            3  ...         2             3             0\n",
            "18  cluster19      4           37  ...        34            37             0\n",
            "19  cluster20      5           15  ...        14            15             0\n",
            "20  cluster21      5            4  ...         3             4             0\n",
            "21  cluster22      4           25  ...        24            25             0\n",
            "22  cluster23      4            3  ...         2             3             0\n",
            "23  cluster24      7          250  ...       225           250             0\n",
            "24  cluster25      1           43  ...        40            43             0\n",
            "25  cluster26      2            6  ...         5             6             0\n",
            "26  cluster27      7            5  ...         4             5             0\n",
            "27  cluster28      7            4  ...         4             4             0\n",
            "28  cluster29      2           16  ...        15            16             0\n",
            "29  cluster30      8           15  ...        14            15             0\n",
            "30  cluster31      7           11  ...        10            11             0\n",
            "31  cluster32      2           61  ...        55            61             0\n",
            "32  cluster33      1           24  ...        21            24             0\n",
            "33  cluster34      3           59  ...        54            59             0\n",
            "34  cluster35      4          102  ...        92           102             0\n",
            "\n",
            "[35 rows x 7 columns]\n"
          ]
        }
      ]
    },
    {
      "cell_type": "code",
      "metadata": {
        "colab": {
          "base_uri": "https://localhost:8080/"
        },
        "id": "ApHYk-t7d_Hp",
        "outputId": "9ad0d64d-3b60-42b8-f879-0590124bae14"
      },
      "source": [
        "#Finding how many samples are still unlabelled\n",
        "count = 0\n",
        "unlab = []\n",
        "for i in range(len(final_clusters)):\n",
        "  for j in final_clusters[i]:\n",
        "    if(j[-1] == -1):\n",
        "      count+=1\n",
        "      unlab.append(int(j[-2]))\n",
        "print('Count of unlabelled cells: ', count)\n",
        "print('Percentage of unlabelled cells: {0:.2f}'.format(count/data.shape[0]*100))\n",
        "if count>0:\n",
        "  print('Unknown cell indices: ',unlab)"
      ],
      "execution_count": 55,
      "outputs": [
        {
          "output_type": "stream",
          "name": "stdout",
          "text": [
            "Count of unlabelled cells:  0\n",
            "Percentage of unlabelled cells: 0.00\n"
          ]
        }
      ]
    },
    {
      "cell_type": "code",
      "metadata": {
        "id": "NSnaLIdM9cpF"
      },
      "source": [
        "#Remove unpredicted cells from data\n",
        "index_labelled = ~data_orig.index.isin(unlab)\n",
        "data_labelled = data_orig.iloc[~data_orig.index.isin(unlab)]"
      ],
      "execution_count": 56,
      "outputs": []
    },
    {
      "cell_type": "code",
      "metadata": {
        "id": "sMcn54eBglRo"
      },
      "source": [
        "labWOmissing = pd.DataFrame(list(zip(LabNOTmissing.index,LabNOTmissing[0].values)), columns = ['Index', 'Predicted Label'])"
      ],
      "execution_count": 57,
      "outputs": []
    },
    {
      "cell_type": "code",
      "metadata": {
        "id": "kGtd9NyBapEJ"
      },
      "source": [
        "predicted = pd.DataFrame(list(zip(index, pl)), columns = ['Index', 'Predicted Label'])"
      ],
      "execution_count": 58,
      "outputs": []
    },
    {
      "cell_type": "code",
      "metadata": {
        "id": "SwLtK4X0gcZ2"
      },
      "source": [
        "allLabels = pd.concat([labWOmissing, predicted], axis=0).sort_values(by = 'Index')"
      ],
      "execution_count": 59,
      "outputs": []
    },
    {
      "cell_type": "markdown",
      "metadata": {
        "id": "bUm2r74aG-LG"
      },
      "source": [
        "# Validation"
      ]
    },
    {
      "cell_type": "code",
      "metadata": {
        "id": "_naU_y8a4cpb"
      },
      "source": [
        "actual = pd.DataFrame(list(zip(index, tl)), columns = ['Index', 'True Label'])"
      ],
      "execution_count": 60,
      "outputs": []
    },
    {
      "cell_type": "code",
      "metadata": {
        "id": "LNI4xiGmNMU-"
      },
      "source": [
        "merged_inner = pd.merge(left=actual, right=predicted, left_on='Index', right_on='Index')"
      ],
      "execution_count": 61,
      "outputs": []
    },
    {
      "cell_type": "markdown",
      "metadata": {
        "id": "8AB6-oumqaHq"
      },
      "source": [
        "**Classification Metrics**\n",
        "\n"
      ]
    },
    {
      "cell_type": "code",
      "metadata": {
        "id": "oSpxxt61OJNX",
        "colab": {
          "base_uri": "https://localhost:8080/"
        },
        "outputId": "6fc33480-5760-45b1-c23c-7b9eef282748"
      },
      "source": [
        "from sklearn.metrics import confusion_matrix\n",
        "from sklearn.metrics import accuracy_score\n",
        "from sklearn.metrics import classification_report\n",
        "\n",
        "print('Confusion matrix: \\n', confusion_matrix(merged_inner['True Label'],merged_inner['Predicted Label']))\n",
        "\n",
        "print('Accuracy: {0:.2f}'.format(accuracy_score(merged_inner['True Label'],merged_inner['Predicted Label'])))\n",
        "\n",
        "print('Classification_report: \\n', classification_report(merged_inner['True Label'],merged_inner['Predicted Label']))"
      ],
      "execution_count": 62,
      "outputs": [
        {
          "output_type": "stream",
          "name": "stdout",
          "text": [
            "Confusion matrix: \n",
            " [[  0   1   0   0   0   0   0   0   3   0   0   0   0]\n",
            " [  0  30   0   0   0   0   0   0   8   0   0   0   0]\n",
            " [  0   1  74   1   0   0   0   0   0   0   0   0   0]\n",
            " [  0   0   0 615   0   0   4   0   0   0   3   0   0]\n",
            " [  0   0   0   0 167   3   0   0   0   0   0   0   0]\n",
            " [  0   0   0   7   5  15   0   0   0   0   0   0   0]\n",
            " [  0   0   0   0   0   8  71   0   0   0   0   0   0]\n",
            " [  0  13   1   1   0   0   0 243   2   0   0   0   0]\n",
            " [  0  12   0   0   0   0   0   0   1   0   0   0   0]\n",
            " [  0   0   0   6   0   0   0   0   0   0   0   0   0]\n",
            " [  0   0   0   0   0   0   4   0   0   0 160   0   0]\n",
            " [  0   4   0   0   0   0   0   0   0   0   0   0   0]\n",
            " [  0   0   0   1   3   0   0   0   0   0   0   0   0]]\n",
            "Accuracy: 0.94\n",
            "Classification_report: \n",
            "               precision    recall  f1-score   support\n",
            "\n",
            "           0       0.00      0.00      0.00         4\n",
            "           1       0.49      0.79      0.61        38\n",
            "           2       0.99      0.97      0.98        76\n",
            "           3       0.97      0.99      0.98       622\n",
            "           4       0.95      0.98      0.97       170\n",
            "           5       0.58      0.56      0.57        27\n",
            "           6       0.90      0.90      0.90        79\n",
            "           7       1.00      0.93      0.97       260\n",
            "           8       0.07      0.08      0.07        13\n",
            "           9       0.00      0.00      0.00         6\n",
            "          10       0.98      0.98      0.98       164\n",
            "          11       0.00      0.00      0.00         4\n",
            "          12       0.00      0.00      0.00         4\n",
            "\n",
            "    accuracy                           0.94      1467\n",
            "   macro avg       0.53      0.55      0.54      1467\n",
            "weighted avg       0.93      0.94      0.93      1467\n",
            "\n"
          ]
        },
        {
          "output_type": "stream",
          "name": "stderr",
          "text": [
            "/usr/local/lib/python3.7/dist-packages/sklearn/metrics/_classification.py:1272: UndefinedMetricWarning: Precision and F-score are ill-defined and being set to 0.0 in labels with no predicted samples. Use `zero_division` parameter to control this behavior.\n",
            "  _warn_prf(average, modifier, msg_start, len(result))\n"
          ]
        }
      ]
    },
    {
      "cell_type": "code",
      "metadata": {
        "id": "9gKizoZWYjzb"
      },
      "source": [
        "#set(merged_inner['True Label']) - set(merged_inner['Predicted Label'])"
      ],
      "execution_count": 63,
      "outputs": []
    },
    {
      "cell_type": "markdown",
      "metadata": {
        "id": "6Nt2qaRcqqQF"
      },
      "source": [
        "**Comparing clustering results (Predicted Label verified against ground truth)**"
      ]
    },
    {
      "cell_type": "code",
      "metadata": {
        "id": "gBWuvzz9Ylj6",
        "colab": {
          "base_uri": "https://localhost:8080/"
        },
        "outputId": "2c89a967-d943-4e57-b6af-2b39141ad4b2"
      },
      "source": [
        "print('Adjusted Rand Score: {0:.2f}'.format(adjusted_rand_score(merged_inner['True Label'].values,merged_inner['Predicted Label'].values)))\n",
        "print('Adjusted Mutual Information Score: {0:.2f}'.format(adjusted_mutual_info_score(merged_inner['True Label'].values,merged_inner['Predicted Label'].values)))\n",
        "print('Fowlkes-Mallows score: {0:.2f}'.format(fowlkes_mallows_score(merged_inner['True Label'].values,merged_inner['Predicted Label'].values)))"
      ],
      "execution_count": 64,
      "outputs": [
        {
          "output_type": "stream",
          "name": "stdout",
          "text": [
            "Adjusted Rand Score: 0.94\n",
            "Adjusted Mutual Information Score: 0.89\n",
            "Fowlkes-Mallows score: 0.95\n"
          ]
        }
      ]
    },
    {
      "cell_type": "markdown",
      "metadata": {
        "id": "iWiPdGtCqVvq"
      },
      "source": [
        "**Cohesion and separation of clusters with newly predicted predicted cells added**"
      ]
    },
    {
      "cell_type": "code",
      "metadata": {
        "id": "tFTdARfsg54C",
        "colab": {
          "base_uri": "https://localhost:8080/"
        },
        "outputId": "1d3498d0-4912-48b2-8438-b37323c21783"
      },
      "source": [
        "#for data with newly predicted cells added\n",
        "print('Internal indices for data including newly predicted cells (After Clustering):  \\n')\n",
        "print('Calinski Harabasz Score: {0:.2f}'.format(calinski_harabasz_score(data_labelled, allLabels['Predicted Label'].values)))"
      ],
      "execution_count": 67,
      "outputs": [
        {
          "output_type": "stream",
          "name": "stdout",
          "text": [
            "Internal indices for data including newly predicted cells (After Clustering):  \n",
            "\n",
            "Calinski Harabasz Score: 296.14\n"
          ]
        }
      ]
    },
    {
      "cell_type": "markdown",
      "metadata": {
        "id": "dlpanaNnFPI-"
      },
      "source": [
        "# -----------THE END----------"
      ]
    }
  ]
}